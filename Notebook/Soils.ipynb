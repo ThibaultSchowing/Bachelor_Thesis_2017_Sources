{
 "cells": [
  {
   "cell_type": "code",
   "execution_count": null,
   "metadata": {
    "collapsed": true
   },
   "outputs": [],
   "source": [
    "\n",
    "\n",
    "\n",
    "\n",
    "class soil:\n",
    "    \n",
    "    \n",
    "    \n",
    "    def __init__(self, path):\n",
    "        \n",
    "        \n",
    "        self.path = path\n",
    "        \n",
    "        # Reading file\n",
    "        records_matrix = open(self.path + measure + '/' + year + '/fold-1/' + measure + '_ris.csv')\n",
    "        # Reading the data \n",
    "        tmpMatriceData =  [l.strip().split(',') for l in records_matrix.readlines()[1::]]\n",
    "        records_matrix.seek(0)\n",
    "        tmpMatriceInfo =  [l.strip().split(',') for l in records_matrix.readlines()[:1]]\n",
    "        self.matriceData = np.array(tmpMatriceData)\n",
    "        self.matriceInfo = np.array(tmpMatriceInfo)\n",
    "        \n",
    "        \n",
    "        "
   ]
  },
  {
   "cell_type": "code",
   "execution_count": null,
   "metadata": {
    "collapsed": true
   },
   "outputs": [],
   "source": []
  }
 ],
 "metadata": {
  "kernelspec": {
   "display_name": "Python 2",
   "language": "python",
   "name": "python2"
  },
  "language_info": {
   "codemirror_mode": {
    "name": "ipython",
    "version": 2
   },
   "file_extension": ".py",
   "mimetype": "text/x-python",
   "name": "python",
   "nbconvert_exporter": "python",
   "pygments_lexer": "ipython2",
   "version": "2.7.13"
  }
 },
 "nbformat": 4,
 "nbformat_minor": 2
}
