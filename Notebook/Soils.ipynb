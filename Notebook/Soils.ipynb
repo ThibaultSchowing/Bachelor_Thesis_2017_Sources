{
 "cells": [
  {
   "cell_type": "code",
   "execution_count": 33,
   "metadata": {
    "collapsed": false
   },
   "outputs": [],
   "source": [
    "import numpy as np\n",
    "\n",
    "\n",
    "\n",
    "class Soil:\n",
    "    \n",
    "    \n",
    "    \n",
    "    def __init__(self, path = \"./Data/soils/suelos_risaralda_v2.csv\"):\n",
    "        \n",
    "        \n",
    "        self.path = path\n",
    "        \n",
    "        # Reading file\n",
    "        records_matrix = open(self.path)\n",
    "        # Reading the data \n",
    "        tmpMatriceData =  [l.strip().split(';') for l in records_matrix.readlines()[1::]]\n",
    "        records_matrix.seek(0)\n",
    "        tmpMatriceInfo =  [l.strip().split(';') for l in records_matrix.readlines()[:1]]\n",
    "        self.matriceData = np.array(tmpMatriceData)\n",
    "        self.matriceInfo = np.array(tmpMatriceInfo)\n",
    "    \n",
    "    # id   code      profile    layer   layer code\n",
    "    #     _________ _________ _________ _________\n",
    "    #  1 |  abc    |  abcP1  |        1|     abc1|\n",
    "    #  2 |  abc    |  abcP1  |        2|     abc2|\n",
    "    #  3 |  abc    |  abcP1  |        3|     abc3|\n",
    "    #    |         |_________|_________|_________|\n",
    "    #  4 |  abc    |  abcP2  |        1|     abc1|\n",
    "    #  5 |  abc    |  abcP2  |        2|     abc2|\n",
    "    #  6 |  abc    |  abcP2  |        3|     abc3|\n",
    "    #  \n",
    "    #  To get an unique identifier we need profile + layer\n",
    "    #  As we do to get pH or Organic \n",
    "    #\n",
    "    \n",
    "    \n",
    "    \n",
    "    # returns all codes\n",
    "    def getCodes(self):\n",
    "        return self.matriceData[:,1]\n",
    "    \n",
    "    def getProfilCodes(self):\n",
    "        return self.matriceData[:,2]\n",
    "    \n",
    "    # simply count the number of occurence of \"profile\" ex test value: 66MALP02\n",
    "    def getNumberOfLayers(self,profile):\n",
    "        count = 0\n",
    "        for i in range(0,len(self.matriceData)):\n",
    "            if self.matriceData[i,2] == profile:\n",
    "                count += 1\n",
    "        return count\n",
    "    \n",
    "    # return table with layers codes\n",
    "    def getLayers(self, profile):\n",
    "        layers = []\n",
    "        \n",
    "        for i in range(0, len(self.matriceData)):\n",
    "            if self.matriceData[i,2] == profile:\n",
    "                layers.append(self.matriceData[i,4])\n",
    "        \n",
    "        return layers\n",
    "        \n",
    "    \n",
    "    # return id (1-70) => (0-69)\n",
    "    # params: \n",
    "    def getLayerID(self, profile, layerCode):\n",
    "        profileData = []\n",
    "        \n",
    "        for i in range(0, len(self.matriceData)):\n",
    "            if self.matriceData[i,2] == profile:\n",
    "                profileData.append(self.matriceData[i,:])\n",
    "        profileData = np.array(profileData)\n",
    "        \n",
    "        for j in range(0, len(profileData)):\n",
    "            if profileData[j, 4] == layerCode:\n",
    "                return profileData[j,0]\n",
    "                \n",
    "        \n",
    "        return None"
   ]
  },
  {
   "cell_type": "code",
   "execution_count": 34,
   "metadata": {
    "collapsed": false
   },
   "outputs": [
    {
     "name": "stdout",
     "output_type": "stream",
     "text": [
      "['66MAL1', '66MAL2', '66MAL3']\n",
      "27\n"
     ]
    }
   ],
   "source": [
    "soilInfo = Soil()\n",
    "#print soilInfo.matriceInfo\n",
    "#print soilInfo.matriceData\n",
    "\n",
    "#print soilInfo.getCodes()\n",
    "#print soilInfo.getProfilCodes()\n",
    "\n",
    "print soilInfo.getLayers(\"66MALP02\")\n",
    "print soilInfo.getLayerID(\"66MALP02\", \"66MAL3\")"
   ]
  }
 ],
 "metadata": {
  "kernelspec": {
   "display_name": "Python 2",
   "language": "python",
   "name": "python2"
  },
  "language_info": {
   "codemirror_mode": {
    "name": "ipython",
    "version": 2
   },
   "file_extension": ".py",
   "mimetype": "text/x-python",
   "name": "python",
   "nbconvert_exporter": "python",
   "pygments_lexer": "ipython2",
   "version": "2.7.13"
  }
 },
 "nbformat": 4,
 "nbformat_minor": 2
}
