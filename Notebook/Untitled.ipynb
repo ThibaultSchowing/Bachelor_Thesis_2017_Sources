{
 "cells": [
  {
   "cell_type": "markdown",
   "metadata": {},
   "source": [
    "# Datas"
   ]
  },
  {
   "cell_type": "markdown",
   "metadata": {},
   "source": [
    "### Datas extraction and description"
   ]
  },
  {
   "cell_type": "code",
   "execution_count": null,
   "metadata": {
    "collapsed": true
   },
   "outputs": [],
   "source": [
    "import os\n",
    "import numpy as np\n",
    "import pylab as plt\n",
    "import pandas as pd\n",
    "import matplotlib\n",
    "from scipy.stats import norm\n",
    "import scipy.spatial.distance as ssd\n",
    "from random import randint\n",
    "from random import shuffle\n",
    "from Bio import Geo\n",
    "# Local module\n",
    "import stats\n",
    "\n",
    "%matplotlib inline \n",
    "\n",
    "\n",
    "\n",
    "\n",
    "\n",
    "path = './Data/Climat/'\n",
    "\n",
    "for filename in os.listdir(path):\n",
    "    # do your stuff\n",
    "\n",
    "for filename in glob.glob(os.path.join(path, '*.txt')):\n",
    "    # do your stuff"
   ]
  }
 ],
 "metadata": {
  "kernelspec": {
   "display_name": "Python 2",
   "language": "python",
   "name": "python2"
  },
  "language_info": {
   "codemirror_mode": {
    "name": "ipython",
    "version": 2
   },
   "file_extension": ".py",
   "mimetype": "text/x-python",
   "name": "python",
   "nbconvert_exporter": "python",
   "pygments_lexer": "ipython2",
   "version": "2.7.13"
  }
 },
 "nbformat": 4,
 "nbformat_minor": 2
}
