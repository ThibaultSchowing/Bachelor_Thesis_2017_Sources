{
 "cells": [
  {
   "cell_type": "code",
   "execution_count": 36,
   "metadata": {
    "collapsed": false
   },
   "outputs": [],
   "source": [
    "import pandas as pd\n",
    "from datetime import *\n",
    "import seaborn as sns\n",
    "\n",
    "%matplotlib inline"
   ]
  },
  {
   "cell_type": "code",
   "execution_count": 37,
   "metadata": {
    "collapsed": false
   },
   "outputs": [
    {
     "data": {
      "text/plain": [
       "Index([    u'Cedula',  u'Municipio',     u'Vereda',      u'Finca',\n",
       "             u'SICA',   u'CEDULA 1',     u'SICA 1', u'REPRESENTA',\n",
       "         u'VARIEDAD',     u'CENT_X',\n",
       "       ...\n",
       "             u'dtr2',       u'dtr3',       u'dtr4',       u'dtr5',\n",
       "             u'dtr6',       u'dtr7',       u'dtr8',       u'dtr9',\n",
       "            u'dtr10',       u'year'],\n",
       "      dtype='object', length=115)"
      ]
     },
     "execution_count": 37,
     "metadata": {},
     "output_type": "execute_result"
    }
   ],
   "source": [
    "# Read the CSV file (utf-8 encoded)\n",
    "df = pd.read_csv('DataWithClimat_v1_utf-8.csv', header=0, sep=',', index_col=0, parse_dates=False, encoding='utf-8')\n",
    "\n",
    "\n",
    "\n",
    "\n",
    "\n",
    "# Convert Date string to Datetime format\n",
    "for index, row in df.iterrows():\n",
    "    date = datetime.strptime(row['Fecha Analysis'], '%Y-%m-%d %H:%M:%S')\n",
    "    df.set_value(index,'Fecha Analysis', date)\n",
    "\n",
    "# remove the only raws from 2013\n",
    "toDelete = []\n",
    "for index, row in df.iterrows():\n",
    "    if row['Fecha Analysis'].year == 2013:\n",
    "        toDelete.append(index)\n",
    "df = df.drop(toDelete)\n",
    "df = df.reset_index(drop=True)\n",
    "\n",
    "# Add year (usefull to group by)\n",
    "df['year'] = \"\"\n",
    "for index, row in df.iterrows():\n",
    "    df.set_value(index,'year', row['Fecha Analysis'].year)\n",
    "    \n",
    "df.columns"
   ]
  },
  {
   "cell_type": "code",
   "execution_count": 38,
   "metadata": {
    "collapsed": false
   },
   "outputs": [],
   "source": [
    "# A convertir en valeurs numériques\n",
    "\n",
    "# Attention, colonne Factor de Rendimiento enlevée, mauvais parsing des données\n",
    "\n",
    "#df[['col2','col3']] = df[['col2','col3']].apply(pd.to_numeric)\n",
    "\n",
    "cols = ['Malla 17-18','Malla 14-16','Malla <13','Negros y vinagres','Broca','Broca de punto','Veteado','Mordido',\n",
    "         'Inmaduro','Flojo','Sobresecado','Arrugado','Aplastado','Cristalizado','Reposado','Granizo','Conchas',\n",
    "         'Partido','Ambar','Defectos totales','Humedad (%)','Merma (%)','Aroma-Fragancia',\n",
    "         'Acidez','Cuerpo','Sabor',\n",
    "         'Sabor residual','Dulzor','Uniformidad','Balance','Taza limpia','Puntaje catador','Puntaje Total',\n",
    "         'prec1','prec2','prec3','prec4','prec5','prec6','prec7','prec8','prec9','prec10','tmin1','tmin2','tmin3','tmin4','tmin5',\n",
    "         'tmin6','tmin7','tmin8','tmin9','tmin10','tmax1','tmax2','tmax3','tmax4','tmax5','tmax6','tmax7','tmax8','tmax9','tmax10',\n",
    "         'tmean1','tmean2','tmean3','tmean4','tmean5','tmean6','tmean7','tmean8','tmean9','tmean10','dtr1','dtr2','dtr3','dtr4',\n",
    "         'dtr5','dtr6','dtr7','dtr8','dtr9','dtr10']\n",
    "\n",
    "#df[cols] = df[cols].replace(',','.')\n",
    "\n",
    "for c in cols:\n",
    "    df[c] = df[c].replace(to_replace=',', value='.', regex=True)"
   ]
  },
  {
   "cell_type": "code",
   "execution_count": 39,
   "metadata": {
    "collapsed": false
   },
   "outputs": [],
   "source": [
    "df[cols] = df[cols].apply(pd.to_numeric)"
   ]
  },
  {
   "cell_type": "code",
   "execution_count": 40,
   "metadata": {
    "collapsed": false
   },
   "outputs": [],
   "source": [
    "\n",
    "precs = ['prec1','prec2','prec3','prec4','prec5','prec6','prec7','prec8','prec9','prec10']\n",
    "tmins = ['tmin1','tmin2','tmin3','tmin4','tmin5','tmin6','tmin7','tmin8','tmin9','tmin10']\n",
    "tmaxs = ['tmax1','tmax2','tmax3','tmax4','tmax5','tmax6','tmax7','tmax8','tmax9','tmax10']\n",
    "tmeans = ['tmean1','tmean2','tmean3','tmean4','tmean5','tmean6','tmean7','tmean8','tmean9','tmeain10']\n",
    "dtrs = ['dtr1','dtr2','dtr3','dtr4','dtr5','dtr6','dtr7','dtr8','dtr9','dtr10']\n",
    "\n",
    "# Moyenne sur les 10 mois de mesures\n",
    "\n",
    "df['PrecTotalAvg'] = 0\n",
    "df['TminTotalAvg'] = 0\n",
    "df['TmaxTotalAvg'] = 0\n",
    "df['TmeanTotalAvg'] = 0\n",
    "df['DtrTotalAvg'] = 0\n",
    "\n",
    "\n",
    "for index, row in df.iterrows():\n",
    "    \n",
    "    df.set_value(index,'PrecTotalAvg', row[precs].sum() / len(precs))\n",
    "    df.set_value(index,'TminTotalAvg', row[tmins].sum() / len(precs))\n",
    "    df.set_value(index,'TmaxTotalAvg', row[tmaxs].sum() / len(precs))\n",
    "    df.set_value(index,'TmeanTotalAvg', row[tmeans].sum() / len(precs))\n",
    "    df.set_value(index,'DtrTotalAvg', row[dtrs].sum() / len(precs))\n",
    "\n",
    "\n"
   ]
  },
  {
   "cell_type": "code",
   "execution_count": 41,
   "metadata": {
    "collapsed": false
   },
   "outputs": [
    {
     "name": "stdout",
     "output_type": "stream",
     "text": [
      "<type 'numpy.float64'>\n"
     ]
    }
   ],
   "source": [
    "print(type(df['Puntaje Total'][1]))"
   ]
  },
  {
   "cell_type": "code",
   "execution_count": 42,
   "metadata": {
    "collapsed": false
   },
   "outputs": [
    {
     "data": {
      "text/plain": [
       "<matplotlib.axes._subplots.AxesSubplot at 0x115c35f8>"
      ]
     },
     "execution_count": 42,
     "metadata": {},
     "output_type": "execute_result"
    },
    {
     "data": {
      "image/png": "[encoded data removed]",
      "text/plain": [
       "<matplotlib.figure.Figure at 0x115b59b0>"
      ]
     },
     "metadata": {},
     "output_type": "display_data"
    }
   ],
   "source": [
    "# Moyenne de précipitations sur 10 mois -> on observe 2 pics \n",
    "sns.kdeplot(df.PrecTotalAvg)"
   ]
  },
  {
   "cell_type": "code",
   "execution_count": 43,
   "metadata": {
    "collapsed": false
   },
   "outputs": [
    {
     "data": {
      "text/plain": [
       "year       \n",
       "2011  count    489.000000\n",
       "      mean     195.073620\n",
       "      std       26.474522\n",
       "      min      108.000000\n",
       "      25%      176.000000\n",
       "      50%      201.000000\n",
       "      75%      212.000000\n",
       "      max      245.000000\n",
       "2016  count    610.000000\n",
       "      mean     132.459016\n",
       "      std       21.935847\n",
       "      min       89.000000\n",
       "      25%      119.250000\n",
       "      50%      130.000000\n",
       "      75%      136.000000\n",
       "      max      189.000000\n",
       "Name: PrecTotalAvg, dtype: float64"
      ]
     },
     "execution_count": 43,
     "metadata": {},
     "output_type": "execute_result"
    }
   ],
   "source": [
    "prec_groupby_year = df['PrecTotalAvg'].groupby(df['year'])\n",
    "\n",
    "prec_groupby_year.describe()"
   ]
  },
  {
   "cell_type": "code",
   "execution_count": 52,
   "metadata": {
    "collapsed": false,
    "scrolled": false
   },
   "outputs": [
    {
     "data": {
      "text/plain": [
       "<seaborn.matrix.ClusterGrid at 0x178b40b8>"
      ]
     },
     "execution_count": 52,
     "metadata": {},
     "output_type": "execute_result"
    },
    {
     "data": {
      "image/png": "[encoded data removed]",
      "text/plain": [
       "<matplotlib.figure.Figure at 0x19a4b9b0>"
      ]
     },
     "metadata": {},
     "output_type": "display_data"
    }
   ],
   "source": [
    "colonnes = ['PrecTotalAvg','Puntaje Total']\n",
    "sns.clustermap(df[precs])"
   ]
  },
  {
   "cell_type": "code",
   "execution_count": 63,
   "metadata": {
    "collapsed": false
   },
   "outputs": [
    {
     "data": {
      "text/html": [
       "<div>\n",
       "<table border=\"1\" class=\"dataframe\">\n",
       "  <thead>\n",
       "    <tr style=\"text-align: right;\">\n",
       "      <th></th>\n",
       "      <th>DtrTotalAvg</th>\n",
       "      <th>PrecTotalAvg</th>\n",
       "      <th>TminTotalAvg</th>\n",
       "      <th>TmaxTotalAvg</th>\n",
       "      <th>TmeanTotalAvg</th>\n",
       "      <th>Puntaje Total</th>\n",
       "    </tr>\n",
       "    <tr>\n",
       "      <th>year</th>\n",
       "      <th></th>\n",
       "      <th></th>\n",
       "      <th></th>\n",
       "      <th></th>\n",
       "      <th></th>\n",
       "      <th></th>\n",
       "    </tr>\n",
       "  </thead>\n",
       "  <tbody>\n",
       "    <tr>\n",
       "      <th>2011</th>\n",
       "      <td>8.523517</td>\n",
       "      <td>195.073620</td>\n",
       "      <td>16.059305</td>\n",
       "      <td>25.110429</td>\n",
       "      <td>18.517382</td>\n",
       "      <td>66.343558</td>\n",
       "    </tr>\n",
       "    <tr>\n",
       "      <th>2016</th>\n",
       "      <td>9.165574</td>\n",
       "      <td>132.459016</td>\n",
       "      <td>15.667213</td>\n",
       "      <td>25.390164</td>\n",
       "      <td>18.401639</td>\n",
       "      <td>79.094635</td>\n",
       "    </tr>\n",
       "  </tbody>\n",
       "</table>\n",
       "</div>"
      ],
      "text/plain": [
       "      DtrTotalAvg  PrecTotalAvg  TminTotalAvg  TmaxTotalAvg  TmeanTotalAvg  \\\n",
       "year                                                                         \n",
       "2011     8.523517    195.073620     16.059305     25.110429      18.517382   \n",
       "2016     9.165574    132.459016     15.667213     25.390164      18.401639   \n",
       "\n",
       "      Puntaje Total  \n",
       "year                 \n",
       "2011      66.343558  \n",
       "2016      79.094635  "
      ]
     },
     "execution_count": 63,
     "metadata": {},
     "output_type": "execute_result"
    }
   ],
   "source": [
    "dftmp = df[['DtrTotalAvg','PrecTotalAvg','TminTotalAvg','TmaxTotalAvg','TmeanTotalAvg','Puntaje Total', 'year']]\n",
    "dftmp.groupby(['year']).mean()"
   ]
  }
 ],
 "metadata": {
  "kernelspec": {
   "display_name": "Python 2",
   "language": "python",
   "name": "python2"
  },
  "language_info": {
   "codemirror_mode": {
    "name": "ipython",
    "version": 2
   },
   "file_extension": ".py",
   "mimetype": "text/x-python",
   "name": "python",
   "nbconvert_exporter": "python",
   "pygments_lexer": "ipython2",
   "version": "2.7.13"
  }
 },
 "nbformat": 4,
 "nbformat_minor": 2
}
