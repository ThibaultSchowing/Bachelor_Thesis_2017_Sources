{
 "cells": [
  {
   "cell_type": "code",
   "execution_count": 1,
   "metadata": {
    "collapsed": false
   },
   "outputs": [],
   "source": [
    "import pandas as pd\n",
    "from datetime import *\n",
    "import seaborn as sns\n",
    "from matplotlib.mlab import PCA as mlabPCA\n",
    "import numpy as np\n",
    "\n",
    "from matplotlib import pyplot as plt\n",
    "from mpl_toolkits.mplot3d import Axes3D\n",
    "from mpl_toolkits.mplot3d import proj3d\n",
    "\n",
    "\n",
    "%matplotlib inline"
   ]
  },
  {
   "cell_type": "code",
   "execution_count": 2,
   "metadata": {
    "collapsed": false
   },
   "outputs": [
    {
     "data": {
      "text/plain": [
       "'\\n\\n\\n# Convert Date string to Datetime format\\nfor index, row in df.iterrows():\\n    date = datetime.strptime(str(row[\\'Fecha Analysis\\']), \\'%Y-%m-%d %H:%M:%S\\')\\n    df.set_value(index,\\'Fecha Analysis\\', date)\\n\\n# remove the only raws from 2013\\ntoDelete = []\\nfor index, row in df.iterrows():\\n    if row[\\'Fecha Analysis\\'].year == 2013:\\n        toDelete.append(index)\\ndf = df.drop(toDelete)\\ndf = df.reset_index(drop=True)\\n\\n# Add year (usefull to group by)\\ndf[\\'year\\'] = \"\"\\nfor index, row in df.iterrows():\\n    df.set_value(index,\\'year\\', row[\\'Fecha Analysis\\'].year)\\n    \\ndf.columns'"
      ]
     },
     "execution_count": 2,
     "metadata": {},
     "output_type": "execute_result"
    }
   ],
   "source": [
    "# Read the CSV file (utf-8 encoded)\n",
    "df = pd.read_csv('DataWithClimat_v2_utf-8.csv', header=0, sep=',', index_col=0, parse_dates=False, encoding='utf-8')\n",
    "\n",
    "\n",
    "'''\n",
    "\n",
    "\n",
    "# Convert Date string to Datetime format\n",
    "for index, row in df.iterrows():\n",
    "    date = datetime.strptime(str(row['Fecha Analysis']), '%Y-%m-%d %H:%M:%S')\n",
    "    df.set_value(index,'Fecha Analysis', date)\n",
    "\n",
    "# remove the only raws from 2013\n",
    "toDelete = []\n",
    "for index, row in df.iterrows():\n",
    "    if row['Fecha Analysis'].year == 2013:\n",
    "        toDelete.append(index)\n",
    "df = df.drop(toDelete)\n",
    "df = df.reset_index(drop=True)\n",
    "\n",
    "# Add year (usefull to group by)\n",
    "df['year'] = \"\"\n",
    "for index, row in df.iterrows():\n",
    "    df.set_value(index,'year', row['Fecha Analysis'].year)\n",
    "    \n",
    "df.columns'''"
   ]
  },
  {
   "cell_type": "code",
   "execution_count": 3,
   "metadata": {
    "collapsed": false
   },
   "outputs": [
    {
     "data": {
      "text/plain": [
       "\"\\nfor c in cols:\\n    df[c] = df[c].replace(to_replace=',', value='.', regex=True)\""
      ]
     },
     "execution_count": 3,
     "metadata": {},
     "output_type": "execute_result"
    }
   ],
   "source": [
    "# A convertir en valeurs numériques\n",
    "\n",
    "# Attention, colonne Factor de Rendimiento enlevée, mauvais parsing des données\n",
    "\n",
    "#df[['col2','col3']] = df[['col2','col3']].apply(pd.to_numeric)\n",
    "\n",
    "cols = ['Malla 17-18','Malla 14-16','Malla <13','Negros y vinagres','Broca','Broca de punto','Veteado','Mordido',\n",
    "         'Inmaduro','Flojo','Sobresecado','Arrugado','Aplastado','Cristalizado','Reposado','Granizo','Conchas',\n",
    "         'Partido','Ambar','Defectos totales','Humedad (%)','Merma (%)','Aroma-Fragancia',\n",
    "         'Acidez','Cuerpo','Sabor',\n",
    "         'Sabor residual','Dulzor','Uniformidad','Balance','Taza limpia','Puntaje catador','Puntaje Total',\n",
    "         'prec1','prec2','prec3','prec4','prec5','prec6','prec7','prec8','prec9','prec10','tmin1','tmin2','tmin3','tmin4','tmin5',\n",
    "         'tmin6','tmin7','tmin8','tmin9','tmin10','tmax1','tmax2','tmax3','tmax4','tmax5','tmax6','tmax7','tmax8','tmax9','tmax10',\n",
    "         'tmean1','tmean2','tmean3','tmean4','tmean5','tmean6','tmean7','tmean8','tmean9','tmean10','dtr1','dtr2','dtr3','dtr4',\n",
    "         'dtr5','dtr6','dtr7','dtr8','dtr9','dtr10']\n",
    "\n",
    "#df[cols] = df[cols].replace(',','.')\n",
    "'''\n",
    "for c in cols:\n",
    "    df[c] = df[c].replace(to_replace=',', value='.', regex=True)'''"
   ]
  },
  {
   "cell_type": "code",
   "execution_count": 4,
   "metadata": {
    "collapsed": false
   },
   "outputs": [],
   "source": [
    "df[cols] = df[cols].apply(pd.to_numeric)"
   ]
  },
  {
   "cell_type": "code",
   "execution_count": 5,
   "metadata": {
    "collapsed": false
   },
   "outputs": [],
   "source": [
    "\n",
    "precs = ['prec1','prec2','prec3','prec4','prec5','prec6','prec7','prec8','prec9','prec10']\n",
    "tmins = ['tmin1','tmin2','tmin3','tmin4','tmin5','tmin6','tmin7','tmin8','tmin9','tmin10']\n",
    "tmaxs = ['tmax1','tmax2','tmax3','tmax4','tmax5','tmax6','tmax7','tmax8','tmax9','tmax10']\n",
    "tmeans = ['tmean1','tmean2','tmean3','tmean4','tmean5','tmean6','tmean7','tmean8','tmean9','tmean10']\n",
    "dtrs = ['dtr1','dtr2','dtr3','dtr4','dtr5','dtr6','dtr7','dtr8','dtr9','dtr10']\n",
    "\n",
    "# Moyenne sur les 10 mois de mesures\n",
    "\n",
    "df['PrecTotalAvg'] = 0\n",
    "df['TminTotalAvg'] = 0\n",
    "df['TmaxTotalAvg'] = 0\n",
    "df['TmeanTotalAvg'] = 0\n",
    "df['DtrTotalAvg'] = 0\n",
    "\n",
    "\n",
    "for index, row in df.iterrows():\n",
    "    \n",
    "    df.set_value(index,'PrecTotalAvg', row[precs].sum() / len(precs))\n",
    "    df.set_value(index,'TminTotalAvg', row[tmins].sum() / len(precs))\n",
    "    df.set_value(index,'TmaxTotalAvg', row[tmaxs].sum() / len(precs))\n",
    "    df.set_value(index,'TmeanTotalAvg', row[tmeans].sum() / len(precs))\n",
    "    df.set_value(index,'DtrTotalAvg', row[dtrs].sum() / len(precs))\n",
    "\n",
    "\n"
   ]
  },
  {
   "cell_type": "code",
   "execution_count": 6,
   "metadata": {
    "collapsed": false
   },
   "outputs": [
    {
     "name": "stdout",
     "output_type": "stream",
     "text": [
      "<type 'numpy.float64'>\n"
     ]
    }
   ],
   "source": [
    "print(type(df['Puntaje Total'][1]))\n",
    "\n",
    "catacionpts = ['Aroma-Fragancia','Acidez','Cuerpo','Sabor residual',\n",
    "               'Sabor','Dulzor','Uniformidad','Balance','Taza limpia','Puntaje catador']\n",
    "\n",
    "for index, row in df.iterrows():\n",
    "        if row['Puntaje Total'] > 100:\n",
    "            print index, row['Puntaje Total']\n",
    "            df.set_value(index, 'Puntaje catador', 6.9)\n",
    "            print row[catacionpts].sum()\n",
    "            \n",
    "            df.set_value(index, 'Puntaje Total', row[catacionpts].sum())\n",
    "\n",
    "for index, row in df.iterrows():\n",
    "        if row['Puntaje Total'] > 100:\n",
    "            print index, row['Puntaje Total']"
   ]
  },
  {
   "cell_type": "code",
   "execution_count": 7,
   "metadata": {
    "collapsed": true
   },
   "outputs": [],
   "source": [
    "#df.to_csv(\"DataWithClimat_v2_utf-8.csv\", sep=',', encoding='utf-8')\n",
    "#df.to_csv(\"DataWithClimat_v2_iso-8859-1.csv\", sep=',', encoding='iso-8859-1')"
   ]
  },
  {
   "cell_type": "markdown",
   "metadata": {},
   "source": [
    "# Analyse des valeurs climatiques sur les 10 mois\n",
    "\n",
    "La moyenne des valeurs de chaque mois est utilisée.\n",
    "\n",
    "\n",
    "## Observation des précipitations sur les 10 mois"
   ]
  },
  {
   "cell_type": "code",
   "execution_count": 8,
   "metadata": {
    "collapsed": false
   },
   "outputs": [
    {
     "data": {
      "text/plain": [
       "<matplotlib.axes._subplots.AxesSubplot at 0xbd802e8>"
      ]
     },
     "execution_count": 8,
     "metadata": {},
     "output_type": "execute_result"
    },
    {
     "data": {
      "image/png": "[encoded data removed]",
      "text/plain": [
       "<matplotlib.figure.Figure at 0xbd805c0>"
      ]
     },
     "metadata": {},
     "output_type": "display_data"
    }
   ],
   "source": [
    "# Moyenne de précipitations sur 10 mois -> on observe 2 pics \n",
    "sns.kdeplot(df.PrecTotalAvg)"
   ]
  },
  {
   "cell_type": "code",
   "execution_count": 9,
   "metadata": {
    "collapsed": false
   },
   "outputs": [
    {
     "data": {
      "text/plain": [
       "year       \n",
       "2011  count    489.000000\n",
       "      mean     195.073620\n",
       "      std       26.474522\n",
       "      min      108.000000\n",
       "      25%      176.000000\n",
       "      50%      201.000000\n",
       "      75%      212.000000\n",
       "      max      245.000000\n",
       "2016  count    610.000000\n",
       "      mean     132.459016\n",
       "      std       21.935847\n",
       "      min       89.000000\n",
       "      25%      119.250000\n",
       "      50%      130.000000\n",
       "      75%      136.000000\n",
       "      max      189.000000\n",
       "Name: PrecTotalAvg, dtype: float64"
      ]
     },
     "execution_count": 9,
     "metadata": {},
     "output_type": "execute_result"
    }
   ],
   "source": [
    "prec_groupby_year = df['PrecTotalAvg'].groupby(df['year'])\n",
    "\n",
    "prec_groupby_year.describe()"
   ]
  },
  {
   "cell_type": "markdown",
   "metadata": {},
   "source": [
    "## Observation des Tmin sur 10 mois"
   ]
  },
  {
   "cell_type": "code",
   "execution_count": 10,
   "metadata": {
    "collapsed": false
   },
   "outputs": [
    {
     "data": {
      "text/plain": [
       "year       \n",
       "2011  count    489.000000\n",
       "      mean      16.059305\n",
       "      std        0.860423\n",
       "      min       14.000000\n",
       "      25%       15.000000\n",
       "      50%       16.000000\n",
       "      75%       17.000000\n",
       "      max       20.000000\n",
       "2016  count    610.000000\n",
       "      mean      15.667213\n",
       "      std        1.046885\n",
       "      min       13.000000\n",
       "      25%       15.000000\n",
       "      50%       16.000000\n",
       "      75%       16.000000\n",
       "      max       20.000000\n",
       "Name: TminTotalAvg, dtype: float64"
      ]
     },
     "execution_count": 10,
     "metadata": {},
     "output_type": "execute_result"
    },
    {
     "data": {
      "image/png": "[encoded data removed]",
      "text/plain": [
       "<matplotlib.figure.Figure at 0xbcf63c8>"
      ]
     },
     "metadata": {},
     "output_type": "display_data"
    }
   ],
   "source": [
    "sns.kdeplot(df.TminTotalAvg)\n",
    "tmin_groupby_year = df['TminTotalAvg'].groupby(df['year'])\n",
    "\n",
    "tmin_groupby_year.describe()"
   ]
  },
  {
   "cell_type": "markdown",
   "metadata": {},
   "source": [
    "## Observation des Tmax sur 10 mois"
   ]
  },
  {
   "cell_type": "code",
   "execution_count": 11,
   "metadata": {
    "collapsed": false
   },
   "outputs": [
    {
     "data": {
      "text/plain": [
       "year       \n",
       "2011  count    489.000000\n",
       "      mean      25.110429\n",
       "      std        1.615776\n",
       "      min       21.000000\n",
       "      25%       24.000000\n",
       "      50%       25.000000\n",
       "      75%       26.000000\n",
       "      max       31.000000\n",
       "2016  count    610.000000\n",
       "      mean      25.390164\n",
       "      std        1.245775\n",
       "      min       22.000000\n",
       "      25%       25.000000\n",
       "      50%       26.000000\n",
       "      75%       26.000000\n",
       "      max       29.000000\n",
       "Name: TmaxTotalAvg, dtype: float64"
      ]
     },
     "execution_count": 11,
     "metadata": {},
     "output_type": "execute_result"
    },
    {
     "data": {
      "image/png": "[encoded data removed]",
      "text/plain": [
       "<matplotlib.figure.Figure at 0xc2c5358>"
      ]
     },
     "metadata": {},
     "output_type": "display_data"
    }
   ],
   "source": [
    "sns.kdeplot(df.TmaxTotalAvg)\n",
    "tmax_groupby_year = df['TmaxTotalAvg'].groupby(df['year'])\n",
    "\n",
    "tmax_groupby_year.describe()"
   ]
  },
  {
   "cell_type": "markdown",
   "metadata": {},
   "source": [
    "## Observation des Tmean sur 10 mois"
   ]
  },
  {
   "cell_type": "code",
   "execution_count": 12,
   "metadata": {
    "collapsed": false
   },
   "outputs": [
    {
     "data": {
      "text/plain": [
       "year       \n",
       "2011  count    489.000000\n",
       "      mean      20.593047\n",
       "      std        1.209607\n",
       "      min       18.000000\n",
       "      25%       20.000000\n",
       "      50%       21.000000\n",
       "      75%       21.000000\n",
       "      max       26.000000\n",
       "2016  count    610.000000\n",
       "      mean      20.527869\n",
       "      std        1.130286\n",
       "      min       18.000000\n",
       "      25%       20.000000\n",
       "      50%       21.000000\n",
       "      75%       21.000000\n",
       "      max       24.000000\n",
       "Name: TmeanTotalAvg, dtype: float64"
      ]
     },
     "execution_count": 12,
     "metadata": {},
     "output_type": "execute_result"
    },
    {
     "data": {
      "image/png": "[encoded data removed]",
      "text/plain": [
       "<matplotlib.figure.Figure at 0xc191cc0>"
      ]
     },
     "metadata": {},
     "output_type": "display_data"
    }
   ],
   "source": [
    "sns.kdeplot(df.TmeanTotalAvg)\n",
    "tmean_groupby_year = df['TmeanTotalAvg'].groupby(df['year'])\n",
    "\n",
    "tmean_groupby_year.describe()"
   ]
  },
  {
   "cell_type": "markdown",
   "metadata": {},
   "source": [
    "## Observation des DTR sur 10 mois"
   ]
  },
  {
   "cell_type": "code",
   "execution_count": 13,
   "metadata": {
    "collapsed": false
   },
   "outputs": [
    {
     "data": {
      "text/plain": [
       "year       \n",
       "2011  count    489.000000\n",
       "      mean       8.523517\n",
       "      std        0.896235\n",
       "      min        6.000000\n",
       "      25%        8.000000\n",
       "      50%        9.000000\n",
       "      75%        9.000000\n",
       "      max       11.000000\n",
       "2016  count    610.000000\n",
       "      mean       9.165574\n",
       "      std        0.372003\n",
       "      min        9.000000\n",
       "      25%        9.000000\n",
       "      50%        9.000000\n",
       "      75%        9.000000\n",
       "      max       10.000000\n",
       "Name: DtrTotalAvg, dtype: float64"
      ]
     },
     "execution_count": 13,
     "metadata": {},
     "output_type": "execute_result"
    },
    {
     "data": {
      "image/png": "[encoded data removed]",
      "text/plain": [
       "<matplotlib.figure.Figure at 0xd057ac8>"
      ]
     },
     "metadata": {},
     "output_type": "display_data"
    }
   ],
   "source": [
    "sns.kdeplot(df.DtrTotalAvg)\n",
    "DTR_groupby_year = df['DtrTotalAvg'].groupby(df['year'])\n",
    "\n",
    "DTR_groupby_year.describe()"
   ]
  },
  {
   "cell_type": "markdown",
   "metadata": {},
   "source": [
    "## Observation des points totaux"
   ]
  },
  {
   "cell_type": "code",
   "execution_count": 14,
   "metadata": {
    "collapsed": false
   },
   "outputs": [
    {
     "data": {
      "text/plain": [
       "year       \n",
       "2011  count    489.000000\n",
       "      mean      66.343558\n",
       "      std       29.717349\n",
       "      min        0.000000\n",
       "      25%       76.000000\n",
       "      50%       79.000000\n",
       "      75%       81.750000\n",
       "      max       85.500000\n",
       "2016  count    602.000000\n",
       "      mean      78.991478\n",
       "      std        8.477038\n",
       "      min        0.000000\n",
       "      25%       77.312500\n",
       "      50%       81.750000\n",
       "      75%       84.000000\n",
       "      max       87.750000\n",
       "Name: Puntaje Total, dtype: float64"
      ]
     },
     "execution_count": 14,
     "metadata": {},
     "output_type": "execute_result"
    }
   ],
   "source": [
    "Points_groupby_year = df['Puntaje Total'].groupby(df['year'])\n",
    "\n",
    "Points_groupby_year.describe()"
   ]
  },
  {
   "cell_type": "code",
   "execution_count": null,
   "metadata": {
    "collapsed": false
   },
   "outputs": [],
   "source": []
  },
  {
   "cell_type": "code",
   "execution_count": null,
   "metadata": {
    "collapsed": true
   },
   "outputs": [],
   "source": []
  },
  {
   "cell_type": "code",
   "execution_count": null,
   "metadata": {
    "collapsed": true
   },
   "outputs": [],
   "source": []
  },
  {
   "cell_type": "code",
   "execution_count": null,
   "metadata": {
    "collapsed": false,
    "scrolled": true
   },
   "outputs": [],
   "source": [
    "colonnes = ['PrecTotalAvg','Puntaje Total']\n",
    "#sns.clustermap(df[precs])"
   ]
  },
  {
   "cell_type": "code",
   "execution_count": null,
   "metadata": {
    "collapsed": false
   },
   "outputs": [],
   "source": [
    "dftmp = df[['DtrTotalAvg','PrecTotalAvg','TminTotalAvg','TmaxTotalAvg','TmeanTotalAvg','Puntaje Total', 'year']]\n",
    "dftmp.groupby(['year']).mean()"
   ]
  },
  {
   "cell_type": "markdown",
   "metadata": {},
   "source": [
    "# Indexes des années"
   ]
  },
  {
   "cell_type": "code",
   "execution_count": null,
   "metadata": {
    "collapsed": false
   },
   "outputs": [],
   "source": [
    "annee1 = 0\n",
    "annee2 = 0\n",
    "for index, row in df.iterrows():\n",
    "    if row['year'] == 2011:\n",
    "        annee1 = index\n",
    "    if row['year'] == 2016:\n",
    "        annee2 = index\n",
    "\n",
    "print annee1\n",
    "print annee2"
   ]
  },
  {
   "cell_type": "markdown",
   "metadata": {},
   "source": [
    "# PCA des données climatiques (2011 en bleu, 2016 en rouge)\n",
    "\n",
    "## Précipitations"
   ]
  },
  {
   "cell_type": "code",
   "execution_count": null,
   "metadata": {
    "collapsed": false
   },
   "outputs": [],
   "source": [
    "mat = np.array(df[precs])\n",
    "\n",
    "#print mat\n",
    "#print mat.T"
   ]
  },
  {
   "cell_type": "code",
   "execution_count": null,
   "metadata": {
    "collapsed": false,
    "scrolled": true
   },
   "outputs": [],
   "source": [
    "mlab_pca = mlabPCA(mat)\n",
    "\n",
    "#print('PC axes in terms of the measurement axes scaled by the standard deviations:\\n', mlab_pca.Wt)\n",
    "\n",
    "plt.plot(mlab_pca.Y[0:488,0],mlab_pca.Y[0:488,1], 'o', markersize=7, color='blue', alpha=0.5, label=df['year'][40])\n",
    "plt.plot(mlab_pca.Y[488:1098,0], mlab_pca.Y[488:1098,1], '^', markersize=7, color='red', alpha=0.5, label=df['year'][490])\n",
    "\n",
    "plt.xlabel('x_values')\n",
    "plt.ylabel('y_values')\n",
    "plt.xlim([-4,4])\n",
    "plt.ylim([-4,4])\n",
    "plt.legend()\n",
    "plt.title('Transformed samples with class labels from matplotlib.mlab.PCA()')\n",
    "\n",
    "plt.show()"
   ]
  },
  {
   "cell_type": "markdown",
   "metadata": {},
   "source": [
    "## Températures moyennes"
   ]
  },
  {
   "cell_type": "code",
   "execution_count": null,
   "metadata": {
    "collapsed": false,
    "scrolled": true
   },
   "outputs": [],
   "source": [
    "mat = np.array(df[tmeans])\n",
    "mlab_pca = mlabPCA(mat)\n",
    "\n",
    "#print('PC axes in terms of the measurement axes scaled by the standard deviations:\\n', mlab_pca.Wt)\n",
    "\n",
    "plt.plot(mlab_pca.Y[0:488,0],mlab_pca.Y[0:488,1], 'o', markersize=7, color='blue', alpha=0.5, label=df['year'][40])\n",
    "plt.plot(mlab_pca.Y[488:1098,0], mlab_pca.Y[488:1098,1], '^', markersize=7, color='red', alpha=0.5, label=df['year'][490])\n",
    "\n",
    "plt.xlabel('x_values')\n",
    "plt.ylabel('y_values')\n",
    "plt.xlim([-4,4])\n",
    "plt.ylim([-4,4])\n",
    "plt.legend()\n",
    "plt.title('Transformed samples with class labels from matplotlib.mlab.PCA()')\n",
    "\n",
    "plt.show()"
   ]
  },
  {
   "cell_type": "markdown",
   "metadata": {},
   "source": [
    "## Températures maximales"
   ]
  },
  {
   "cell_type": "code",
   "execution_count": null,
   "metadata": {
    "collapsed": false,
    "scrolled": true
   },
   "outputs": [],
   "source": [
    "mat = np.array(df[tmaxs])\n",
    "mlab_pca = mlabPCA(mat)\n",
    "\n",
    "#print('PC axes in terms of the measurement axes scaled by the standard deviations:\\n', mlab_pca.Wt)\n",
    "\n",
    "plt.plot(mlab_pca.Y[0:488,0],mlab_pca.Y[0:488,1], 'o', markersize=7, color='blue', alpha=0.5, label=df['year'][40])\n",
    "plt.plot(mlab_pca.Y[488:1098,0], mlab_pca.Y[488:1098,1], '^', markersize=7, color='red', alpha=0.5, label=df['year'][490])\n",
    "\n",
    "plt.xlabel('x_values')\n",
    "plt.ylabel('y_values')\n",
    "plt.xlim([-4,4])\n",
    "plt.ylim([-4,4])\n",
    "plt.legend()\n",
    "plt.title('Transformed samples with class labels from matplotlib.mlab.PCA()')\n",
    "\n",
    "plt.show()"
   ]
  },
  {
   "cell_type": "markdown",
   "metadata": {},
   "source": [
    "## Températures minimales"
   ]
  },
  {
   "cell_type": "code",
   "execution_count": null,
   "metadata": {
    "collapsed": false,
    "scrolled": true
   },
   "outputs": [],
   "source": [
    "mat = np.array(df[tmins])\n",
    "mlab_pca = mlabPCA(mat)\n",
    "\n",
    "#print('PC axes in terms of the measurement axes scaled by the standard deviations:\\n', mlab_pca.Wt)\n",
    "\n",
    "plt.plot(mlab_pca.Y[0:488,0],mlab_pca.Y[0:488,1], 'o', markersize=7, color='blue', alpha=0.5, label=df['year'][40])\n",
    "plt.plot(mlab_pca.Y[488:1098,0], mlab_pca.Y[488:1098,1], '^', markersize=7, color='red', alpha=0.5, label=df['year'][490])\n",
    "\n",
    "plt.xlabel('x_values')\n",
    "plt.ylabel('y_values')\n",
    "plt.xlim([-4,4])\n",
    "plt.ylim([-4,4])\n",
    "plt.legend()\n",
    "plt.title('Transformed samples with class labels from matplotlib.mlab.PCA()')\n",
    "\n",
    "plt.show()"
   ]
  },
  {
   "cell_type": "markdown",
   "metadata": {},
   "source": [
    "## Diurnal Temperatur Range"
   ]
  },
  {
   "cell_type": "code",
   "execution_count": null,
   "metadata": {
    "collapsed": false
   },
   "outputs": [],
   "source": [
    "mat = np.array(df[dtrs])\n",
    "mlab_pca = mlabPCA(mat)\n",
    "\n",
    "#print('PC axes in terms of the measurement axes scaled by the standard deviations:\\n', mlab_pca.Wt)\n",
    "\n",
    "plt.plot(mlab_pca.Y[0:488,0],mlab_pca.Y[0:488,1], 'o', markersize=7, color='blue', alpha=0.5, label=df['year'][40])\n",
    "plt.plot(mlab_pca.Y[488:1098,0], mlab_pca.Y[488:1098,1], '^', markersize=7, color='red', alpha=0.5, label=df['year'][490])\n",
    "\n",
    "plt.xlabel('x_values')\n",
    "plt.ylabel('y_values')\n",
    "plt.xlim([-4,4])\n",
    "plt.ylim([-4,4])\n",
    "plt.legend()\n",
    "plt.title('Transformed samples with class labels from matplotlib.mlab.PCA()')\n",
    "\n",
    "plt.show()\n"
   ]
  },
  {
   "cell_type": "markdown",
   "metadata": {},
   "source": [
    "## Toutes les données climatiques"
   ]
  },
  {
   "cell_type": "code",
   "execution_count": null,
   "metadata": {
    "collapsed": false
   },
   "outputs": [],
   "source": [
    "climat = [ 'prec1','prec2','prec3','prec4','prec5','prec6','prec7','prec8','prec9','prec10','tmin1','tmin2','tmin3','tmin4','tmin5',\n",
    "         'tmin6','tmin7','tmin8','tmin9','tmin10','tmax1','tmax2','tmax3','tmax4','tmax5','tmax6','tmax7','tmax8','tmax9','tmax10',\n",
    "         'tmean1','tmean2','tmean3','tmean4','tmean5','tmean6','tmean7','tmean8','tmean9','tmean10','dtr1','dtr2','dtr3','dtr4',\n",
    "         'dtr5','dtr6','dtr7','dtr8','dtr9','dtr10']\n",
    "\n",
    "mat = np.array(df[climat])\n",
    "mlab_pca = mlabPCA(mat)\n",
    "\n",
    "#print('PC axes in terms of the measurement axes scaled by the standard deviations:\\n', mlab_pca.Wt)\n",
    "\n",
    "plt.plot(mlab_pca.Y[0:488,0],mlab_pca.Y[0:488,1], 'o', markersize=7, color='blue', alpha=0.5, label=df['year'][40])\n",
    "plt.plot(mlab_pca.Y[488:1098,0], mlab_pca.Y[488:1098,1], '^', markersize=7, color='red', alpha=0.5, label=df['year'][490])\n",
    "\n",
    "plt.xlabel('x_values')\n",
    "plt.ylabel('y_values')\n",
    "plt.xlim([-4,4])\n",
    "plt.ylim([-4,4])\n",
    "plt.legend()\n",
    "plt.title('Transformed samples with class labels from matplotlib.mlab.PCA()')\n",
    "\n",
    "plt.show()"
   ]
  },
  {
   "cell_type": "code",
   "execution_count": null,
   "metadata": {
    "collapsed": true
   },
   "outputs": [],
   "source": []
  },
  {
   "cell_type": "code",
   "execution_count": null,
   "metadata": {
    "collapsed": false
   },
   "outputs": [],
   "source": [
    "# On enlève Mordido, conchas et ambar et les Malla -> pas présent partout\n",
    "coffee = ['Negros y vinagres','Broca','Broca de punto','Veteado',\n",
    "         'Inmaduro','Flojo','Sobresecado','Arrugado','Aplastado','Cristalizado','Reposado','Granizo',\n",
    "         'Partido','Defectos totales','Humedad (%)','Merma (%)','Aroma-Fragancia',\n",
    "         'Acidez','Cuerpo','Sabor',\n",
    "         'Sabor residual','Dulzor','Uniformidad','Balance','Taza limpia','Puntaje catador','Puntaje Total']"
   ]
  },
  {
   "cell_type": "code",
   "execution_count": null,
   "metadata": {
    "collapsed": false
   },
   "outputs": [],
   "source": [
    "#df[coffee]"
   ]
  },
  {
   "cell_type": "code",
   "execution_count": null,
   "metadata": {
    "collapsed": false
   },
   "outputs": [],
   "source": [
    "# Some coffee have missing datas in the notation (points) (they are bad)\n",
    "dftmp = df[coffee].dropna(axis=1, how='any')\n",
    "\n",
    "mat = np.array(dftmp)\n",
    "\n",
    "#print numpy.isnan(mat).any()\n",
    "\n",
    "\n",
    "#print np.argwhere(np.isnan(mat))\n",
    "       \n",
    "#print mat\n",
    "\n",
    "mlab_pca = mlabPCA(mat)\n",
    "\n",
    "#print('PC axes in terms of the measurement axes scaled by the standard deviations:\\n', mlab_pca.Wt)\n",
    "\n",
    "plt.plot(mlab_pca.Y[0:488,0],mlab_pca.Y[0:488,1], 'o', markersize=7, color='blue', alpha=0.5, label=df['year'][40])\n",
    "plt.plot(mlab_pca.Y[488:1098,0], mlab_pca.Y[488:1098,1], '^', markersize=7, color='red', alpha=0.5, label=df['year'][490])\n",
    "\n",
    "plt.xlabel('x_values')\n",
    "plt.ylabel('y_values')\n",
    "plt.xlim([-4,4])\n",
    "plt.ylim([-4,4])\n",
    "plt.legend()\n",
    "plt.title('Transformed samples with class labels from matplotlib.mlab.PCA()')\n",
    "\n",
    "plt.show()"
   ]
  },
  {
   "cell_type": "code",
   "execution_count": null,
   "metadata": {
    "collapsed": true
   },
   "outputs": [],
   "source": []
  },
  {
   "cell_type": "code",
   "execution_count": null,
   "metadata": {
    "collapsed": true
   },
   "outputs": [],
   "source": []
  },
  {
   "cell_type": "code",
   "execution_count": null,
   "metadata": {
    "collapsed": true
   },
   "outputs": [],
   "source": []
  },
  {
   "cell_type": "code",
   "execution_count": null,
   "metadata": {
    "collapsed": true
   },
   "outputs": [],
   "source": []
  },
  {
   "cell_type": "code",
   "execution_count": null,
   "metadata": {
    "collapsed": true
   },
   "outputs": [],
   "source": []
  },
  {
   "cell_type": "code",
   "execution_count": null,
   "metadata": {
    "collapsed": true
   },
   "outputs": [],
   "source": []
  }
 ],
 "metadata": {
  "kernelspec": {
   "display_name": "Python 2",
   "language": "python",
   "name": "python2"
  },
  "language_info": {
   "codemirror_mode": {
    "name": "ipython",
    "version": 2
   },
   "file_extension": ".py",
   "mimetype": "text/x-python",
   "name": "python",
   "nbconvert_exporter": "python",
   "pygments_lexer": "ipython2",
   "version": "2.7.13"
  }
 },
 "nbformat": 4,
 "nbformat_minor": 2
}
