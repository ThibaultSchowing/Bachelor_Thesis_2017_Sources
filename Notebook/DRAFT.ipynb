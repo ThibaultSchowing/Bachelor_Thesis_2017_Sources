{
 "cells": [
  {
   "cell_type": "markdown",
   "metadata": {},
   "source": [
    "# Datas"
   ]
  },
  {
   "cell_type": "markdown",
   "metadata": {},
   "source": [
    "### Datas extraction and description"
   ]
  },
  {
   "cell_type": "code",
   "execution_count": 8,
   "metadata": {
    "collapsed": false
   },
   "outputs": [
    {
     "name": "stdout",
     "output_type": "stream",
     "text": [
      "['Apagado', 'D\\xc3\\x89bil', 'Brillante', 'Delicado', 'Flojo', 'Vibrante', 'Leve', 'R\\xc3\\xa1pido', 'Tart\\xc3\\xa1rico', 'M\\xc3\\xa1lico', 'Citrico', 'Fosforico']\n",
      "['APAGADO', 'DEBIL', 'BRILLANTE', 'DELICADO', 'FLOJO', 'VIBRANTE', 'LEVE', 'RAPIDO', 'TARTARICO', 'MALICO', 'CITRICO', 'FOSFORICO']\n",
      "['D\\xc3\\x89bil']\n",
      "['DEBIL']\n"
     ]
    }
   ],
   "source": [
    "import os\n",
    "import numpy as np\n",
    "import calendar\n",
    "import pylab as plt\n",
    "import pandas as pd\n",
    "from datetime import date\n",
    "import datetime\n",
    "import matplotlib.pyplot as plt\n",
    "from scipy.stats import norm\n",
    "import scipy.spatial.distance as ssd\n",
    "from random import randint\n",
    "from random import shuffle\n",
    "import glob\n",
    "\n",
    "\n",
    "%matplotlib inline \n",
    "\n",
    "def normalize(strtab):\n",
    "                    \n",
    "    clearTab = [w.replace('Á', 'a') for w in strtab]\n",
    "    clearTab = [w.replace('á', 'a') for w in clearTab]\n",
    "    clearTab = [w.replace('é', 'e') for w in clearTab]\n",
    "    clearTab = [w.replace('É', 'e') for w in clearTab]\n",
    "    clearTab = [w.replace('í', 'i') for w in clearTab]\n",
    "    clearTab = [w.replace('Í', 'i') for w in clearTab]\n",
    "    clearTab = [w.replace('ó', 'o') for w in clearTab]\n",
    "    clearTab = [w.replace('Ó', 'o') for w in clearTab]\n",
    "    clearTab = [w.replace('ú', 'u') for w in clearTab]\n",
    "    clearTab = [w.replace('Ú', 'u') for w in clearTab]\n",
    "    clearTab = [w.replace('ñ', 'n') for w in clearTab]\n",
    "    clearTab = [w.replace('Ñ', 'n') for w in clearTab]\n",
    "    clearTab = [chars.upper().strip() for chars in clearTab]\n",
    "        \n",
    "    return clearTab\n",
    "\n",
    "acidTable = [\"Apagado\",\"DÉbil\",\"Brillante\",\"Delicado\",\"Flojo\",\"Vibrante\",\"Leve\",\"Rápido\",\"Tartárico\",\"Málico\",\"Citrico\",\"Fosforico\"]\n",
    "print acidTable   \n",
    "\n",
    "acidTable = normalize(acidTable)\n",
    "\n",
    "print acidTable\n",
    "\n",
    "data = ['DÉbil']\n",
    "print data\n",
    "data = normalize(data)\n",
    "print data\n"
   ]
  },
  {
   "cell_type": "code",
   "execution_count": null,
   "metadata": {
    "collapsed": false
   },
   "outputs": [],
   "source": []
  }
 ],
 "metadata": {
  "kernelspec": {
   "display_name": "Python 2",
   "language": "python",
   "name": "python2"
  },
  "language_info": {
   "codemirror_mode": {
    "name": "ipython",
    "version": 2
   },
   "file_extension": ".py",
   "mimetype": "text/x-python",
   "name": "python",
   "nbconvert_exporter": "python",
   "pygments_lexer": "ipython2",
   "version": "2.7.13"
  }
 },
 "nbformat": 4,
 "nbformat_minor": 2
}
