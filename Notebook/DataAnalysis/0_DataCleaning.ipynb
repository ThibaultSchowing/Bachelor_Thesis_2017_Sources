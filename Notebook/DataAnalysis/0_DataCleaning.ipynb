{
 "cells": [
  {
   "cell_type": "markdown",
   "metadata": {},
   "source": [
    "    Bachelor Thesis 2017 - Coffee - Climat - Soils data analysis\n",
    "    \n",
    "    HEIG-VD - University of Applied Sciences of Western Switzerland\n",
    "    Route de Cheseaux 1, 1400 Yverdon-les-Bains, Switzerland\n",
    "    \n",
    "    International Center for Tropical Agriculture (CIAT)\n",
    "    Headquarters and Regional Office for Latin America and the Caribbean, \n",
    "    Km 17 Recta Cali-Palmira │C.P. 763537 │ A.A. 6713  Cali, Colombia\n",
    "\n",
    "    \n",
    "    Student: Thibault Schowing\n",
    "    Teacher: Carlos Andrés Peña\n",
    "    \n",
    "     \n",
    "\n",
    "\n",
    "# Nettoyage ou modification spécifiques du dataset\n",
    "\n",
    "\n",
    "\n",
    "## Création d'une version 2 et de datasets customs\n",
    "\n",
    "Passage de la version 1 à la version 2 du set de données\n",
    "\n",
    "Modification au besoin, ajout / suppression / modification des colonnes\n",
    "Suppression des doublons\n",
    "Pas de tolérence aux données manquantes"
   ]
  },
  {
   "cell_type": "code",
   "execution_count": 1,
   "metadata": {
    "collapsed": false
   },
   "outputs": [],
   "source": [
    "import pandas as pd\n",
    "from datetime import *\n",
    "import numpy as np\n",
    "from datetime import datetime\n",
    "\n",
    "def classCoffee(points):\n",
    "    if points >= 90:\n",
    "        # Outstanding\n",
    "        return 1\n",
    "    if points <90 and points >= 85:\n",
    "        # Excellent\n",
    "        return 2\n",
    "    if points <85 and points >= 80:\n",
    "        # Very Good\n",
    "        return 3 \n",
    "    else:\n",
    "        return 4\n",
    "\n",
    "\n",
    "\n",
    "# Transofrm orientation in categorical\n",
    "# Normal = convert to category\n",
    "# Not normal = return the same degrees\n",
    "\n",
    "def convert_orientation(deg, normal = False):\n",
    "    if(not normal):\n",
    "        if deg == 0:\n",
    "            return np.nan\n",
    "        else:\n",
    "            return deg\n",
    "        \n",
    "    if ((deg>0 and deg<22.5) or (deg > 337.5)):\n",
    "        return \"North\"\n",
    "    if (deg > 22.5 and deg <= 67.5):\n",
    "        return \"Northeast\"\n",
    "    if (deg > 67.5 and deg <= 112.5):\n",
    "        return \"East\"\n",
    "    if (deg > 112.5 and deg <= 157.5):\n",
    "        return \"Southeast\"\n",
    "    if (deg > 157.5 and deg <= 202.5):\n",
    "        return \"South\"\n",
    "    if (deg > 202.5 and deg <= 247.5):\n",
    "        return \"Southwest\"\n",
    "    if (deg > 247.5 and deg <= 292.5):\n",
    "        return \"West\"\n",
    "    if (deg > 292.5 and deg <= 337.5):\n",
    "        return \"Northwest\"\n",
    "    else:\n",
    "        return np.nan\n",
    "\n",
    "def convert_slope(slope):\n",
    "    if slope == 0:\n",
    "        return np.nan\n",
    "    else:\n",
    "        return slope\n",
    "\n",
    "def convert(lum):\n",
    "    if lum == \"Sol\":\n",
    "        return 2\n",
    "    elif lum == \"Semi Sombra\":\n",
    "        return 1\n",
    "    elif lum == \"Sombra\":\n",
    "        return 0\n",
    "    else:\n",
    "        return 0\n",
    "\n",
    "\n",
    "\n",
    "def days_between(d1, d2):\n",
    "    d1 = datetime.strptime(d1, \"%Y-%m-%d %H:%M:%S\")\n",
    "    d2 = datetime.strptime(d2, \"%Y-%m-%d %H:%M:%S\")\n",
    "    return abs((d2 - d1).days)"
   ]
  },
  {
   "cell_type": "code",
   "execution_count": 2,
   "metadata": {
    "collapsed": false
   },
   "outputs": [
    {
     "name": "stdout",
     "output_type": "stream",
     "text": [
      "(975, 139)\n"
     ]
    }
   ],
   "source": [
    "# Read the CSV file (utf-8 encoded)\n",
    "df = pd.read_csv('./data/DataRisaralda_v1_utf-8.csv', header=0, sep=',', index_col=0, parse_dates=False, encoding='utf-8')\n",
    "print(df.shape)\n",
    "\n",
    "\n"
   ]
  },
  {
   "cell_type": "code",
   "execution_count": 3,
   "metadata": {
    "collapsed": false
   },
   "outputs": [
    {
     "name": "stdout",
     "output_type": "stream",
     "text": [
      "[u'Sol' u'Semi Sombra' u'Sombra']\n"
     ]
    }
   ],
   "source": [
    "\n",
    "# Drop useless ok non-clean columns\n",
    "\n",
    "try:\n",
    "    df.drop('Cedula', axis=1, inplace=True)\n",
    "except:\n",
    "    print(\"No such column\")\n",
    "    \n",
    "\n",
    "try:\n",
    "    df.drop('Fecha Recpt', axis=1, inplace=True)\n",
    "except:\n",
    "    print(\"No such column\")\n",
    "    \n",
    "    \n",
    "try:\n",
    "    df.drop('Factor de Rendimiento', axis=1, inplace=True)\n",
    "except:\n",
    "    print(\"No such column\")    \n",
    "\n",
    "# Not complete\n",
    "try:\n",
    "    df.drop('SICA', axis=1, inplace=True)\n",
    "except:\n",
    "    print(\"No such column\") \n",
    "\n",
    "    \n",
    "try:\n",
    "    df.drop('Quaker (Nb Granos)', axis=1, inplace=True)\n",
    "except:\n",
    "    print(\"No such column\") \n",
    "try:\n",
    "    df.drop('Fluorescentes (Nb Granos)', axis=1, inplace=True)\n",
    "except:\n",
    "    print(\"No such column\") \n",
    "\n",
    "\n",
    "\n",
    "    \n",
    "\n",
    "try:\n",
    "    df.drop('Malla 17-18', axis=1, inplace=True)\n",
    "except:\n",
    "    print(\"No such column\") \n",
    "try:\n",
    "    df.drop('Malla 14-16', axis=1, inplace=True)\n",
    "except:\n",
    "    print(\"No such column\") \n",
    "try:\n",
    "    df.drop('Malla <13', axis=1, inplace=True)\n",
    "except:\n",
    "    print(\"No such column\") \n",
    "\n",
    "\n",
    "\n",
    "try:\n",
    "    df.drop('REPRESENTA', axis=1, inplace=True)\n",
    "except:\n",
    "    print(\"No such column\")\n",
    "    \n",
    "    \n",
    "# Rename columns (mistakes and spaces removal) - other renaming follows...\n",
    "# \n",
    "df.rename(columns={'EPSG:3116_X': 'EPSG:4326_X', 'EPSG:3116_Y': 'EPSG:4326_Y'}, inplace=True)\n",
    "df.rename(columns={'CENT_X': 'EPSG:3116_X', 'CENT_Y': 'EPSG:3116_Y'}, inplace=True)\n",
    "df.rename(columns={'LUMINOSID': 'Luminosidad'}, inplace=True)\n",
    "\n",
    "\n",
    "\n",
    "\n",
    "# Format entries\n",
    "\n",
    "for index, row in df.iterrows():\n",
    "    date = datetime.strptime(str(row['Fecha Analysis']), '%Y-%m-%d %H:%M:%S')\n",
    "    df.set_value(index,'Fecha Analysis', date)\n",
    "\n",
    "\n",
    "\n",
    "\n",
    "# Print the different styles of luminosity\n",
    "\n",
    "print df.Luminosidad.unique()\n",
    "\n",
    "# Conversion in numerical values\n",
    "for index, row in df.iterrows():\n",
    "    df.set_value(index, 'Luminosidad', convert(row['Luminosidad']))\n",
    "    "
   ]
  },
  {
   "cell_type": "code",
   "execution_count": 4,
   "metadata": {
    "collapsed": true
   },
   "outputs": [],
   "source": [
    "cols = ['Malla 17-18','Malla 14-16','Malla <13','Negros y vinagres','Broca','Broca de punto','Veteado','Mordido',\n",
    "         'Inmaduro','Flojo','Sobresecado','Arrugado','Aplastado','Cristalizado','Reposado','Granizo','Conchas',\n",
    "         'Partido','Ambar','Defectos totales','Humedad (%)','Merma (%)','Aroma-Fragancia',\n",
    "         'Acidez','Cuerpo','Sabor',\n",
    "         'Sabor residual','Dulzor','Uniformidad','Balance','Taza limpia','Puntaje catador','Puntaje Total',\n",
    "         'prec1','prec2','prec3','prec4','prec5','prec6','prec7','prec8','prec9','prec10','tmin1','tmin2','tmin3','tmin4','tmin5',\n",
    "         'tmin6','tmin7','tmin8','tmin9','tmin10','tmax1','tmax2','tmax3','tmax4','tmax5','tmax6','tmax7','tmax8','tmax9','tmax10',\n",
    "         'tmean1','tmean2','tmean3','tmean4','tmean5','tmean6','tmean7','tmean8','tmean9','tmean10','dtr1','dtr2','dtr3','dtr4',\n",
    "         'dtr5','dtr6','dtr7','dtr8','dtr9','dtr10']\n",
    "defectos = ['Negros y vinagres','Broca','Broca de punto','Veteado','Mordido',\n",
    "         'Inmaduro','Flojo','Sobresecado','Arrugado','Aplastado','Cristalizado','Reposado','Granizo','Conchas',\n",
    "         'Partido','Ambar']\n",
    "\n"
   ]
  },
  {
   "cell_type": "markdown",
   "metadata": {},
   "source": [
    "## Ajout des moyennes sur les 10 mois de mesures"
   ]
  },
  {
   "cell_type": "code",
   "execution_count": 5,
   "metadata": {
    "collapsed": true
   },
   "outputs": [],
   "source": [
    "precs = ['prec1','prec2','prec3','prec4','prec5','prec6','prec7','prec8','prec9','prec10']\n",
    "tmins = ['tmin1','tmin2','tmin3','tmin4','tmin5','tmin6','tmin7','tmin8','tmin9','tmin10']\n",
    "tmaxs = ['tmax1','tmax2','tmax3','tmax4','tmax5','tmax6','tmax7','tmax8','tmax9','tmax10']\n",
    "tmeans = ['tmean1','tmean2','tmean3','tmean4','tmean5','tmean6','tmean7','tmean8','tmean9','tmean10']\n",
    "dtrs = ['dtr1','dtr2','dtr3','dtr4','dtr5','dtr6','dtr7','dtr8','dtr9','dtr10']\n",
    "\n",
    "# Moyenne sur les 10 mois de mesures\n",
    "\n",
    "df['PrecTotalAvg'] = 0.\n",
    "df['TminTotalAvg'] = 0.\n",
    "df['TmaxTotalAvg'] = 0.\n",
    "df['TmeanTotalAvg'] = 0.\n",
    "df['DtrTotalAvg'] = 0.\n",
    "\n",
    "df['PrecTotal'] = 0.\n",
    "df['TminTotal'] = 0.\n",
    "df['TmaxTotal'] = 0.\n",
    "df['TmeanTotal'] = 0.\n",
    "df['DtrTotal'] = 0.\n",
    "\n",
    "\n",
    "for index, row in df.iterrows():\n",
    "    \n",
    "    df.set_value(index,'PrecTotalAvg', row[precs].sum() / len(precs))\n",
    "    df.set_value(index,'TminTotalAvg', row[tmins].sum() / len(precs))\n",
    "    df.set_value(index,'TmaxTotalAvg', row[tmaxs].sum() / len(precs))\n",
    "    df.set_value(index,'TmeanTotalAvg', row[tmeans].sum() / len(precs))\n",
    "    df.set_value(index,'DtrTotalAvg', row[dtrs].sum() / len(precs))\n",
    "    \n",
    "    df.set_value(index,'PrecTotal', row[precs].sum())\n",
    "    df.set_value(index,'TminTotal', row[tmins].sum())\n",
    "    df.set_value(index,'TmaxTotal', row[tmaxs].sum())\n",
    "    df.set_value(index,'TmeanTotal', row[tmeans].sum())\n",
    "    df.set_value(index,'DtrTotal', row[dtrs].sum())\n"
   ]
  },
  {
   "cell_type": "markdown",
   "metadata": {},
   "source": [
    "## Correction semi-manuelle des erreurs sur les points"
   ]
  },
  {
   "cell_type": "code",
   "execution_count": 6,
   "metadata": {
    "collapsed": false
   },
   "outputs": [],
   "source": [
    "catacionpts = ['Aroma-Fragancia','Acidez','Cuerpo','Sabor residual',\n",
    "               'Sabor','Dulzor','Uniformidad','Balance','Taza limpia','Puntaje catador']\n",
    "\n",
    "for index, row in df.iterrows():\n",
    "        if row['Puntaje Total'] > 100:\n",
    "            print index, row['Puntaje Total']\n",
    "            df.set_value(index, 'Puntaje catador', 6.9)\n",
    "            print row[catacionpts].sum()\n",
    "            \n",
    "            df.set_value(index, 'Puntaje Total', row[catacionpts].sum())\n",
    "\n",
    "for index, row in df.iterrows():\n",
    "        if row['Puntaje Total'] > 100:\n",
    "            print index, row['Puntaje Total']\n",
    "\n",
    "for index, row in df.iterrows():\n",
    "        if np.isnan(row['Acidez']) or np.isnan(row['Puntaje Total']):\n",
    "            df.set_value(index, catacionpts, 0)\n",
    "            df.set_value(index, 'Puntaje Total', 0)\n",
    "        if np.isnan(row['Defectos totales']):\n",
    "            df.set_value(index, 'Defectos totales', row[defectos].sum())\n",
    "            \n"
   ]
  },
  {
   "cell_type": "markdown",
   "metadata": {},
   "source": [
    "## Convertion SICA"
   ]
  },
  {
   "cell_type": "code",
   "execution_count": 7,
   "metadata": {
    "collapsed": false
   },
   "outputs": [
    {
     "name": "stdout",
     "output_type": "stream",
     "text": [
      "float64\n",
      "object\n"
     ]
    }
   ],
   "source": [
    "print df['SICA 1'].dtype\n",
    "\n",
    "df['SICA 1'] = df['SICA 1'].astype(np.int64)\n",
    "df['SICA 1'] = df['SICA 1'].astype(str)\n",
    "print df['SICA 1'].dtype\n",
    "\n"
   ]
  },
  {
   "cell_type": "markdown",
   "metadata": {},
   "source": [
    "## Suppression des doublons\n",
    "\n",
    "Basé sur la date de test et le numéro SICA"
   ]
  },
  {
   "cell_type": "code",
   "execution_count": 8,
   "metadata": {
    "collapsed": false
   },
   "outputs": [
    {
     "name": "stdout",
     "output_type": "stream",
     "text": [
      "(767, 134)\n"
     ]
    }
   ],
   "source": [
    "df = df.drop_duplicates(subset=['Fecha Analysis', 'SICA 1'], keep='first', inplace=False)\n",
    "df = df.reset_index(drop=True)\n",
    "print(df.shape)"
   ]
  },
  {
   "cell_type": "markdown",
   "metadata": {
    "collapsed": true
   },
   "source": [
    "## Suppression des dégustations avec même SICA à moins de 3 mois d'écart\n",
    "\n",
    "    Voir: analyse de l'occurence des cafés dans 2_CoffeDataAnalysis\n"
   ]
  },
  {
   "cell_type": "code",
   "execution_count": 9,
   "metadata": {
    "collapsed": false
   },
   "outputs": [
    {
     "name": "stdout",
     "output_type": "stream",
     "text": [
      "1    631\n",
      "2    118\n",
      "3     18\n",
      "Name: Occurence, dtype: int64\n"
     ]
    }
   ],
   "source": [
    "# Certains cafés on été testés plusieurs fois, parfois même 2 fois dans la même année mais à plusieurs mois d'intervale. \n",
    "\n",
    "dOccurences = df['SICA 1'].value_counts().to_dict() #.to_frame(name='Occurence')\n",
    "\n",
    "dfOccurences = pd.DataFrame.from_dict(dOccurences, orient='index')\n",
    "\n",
    "# Ajout d'une colonne contenant le nombre d'occurence\n",
    "\n",
    "df['Occurence'] = 0\n",
    "\n",
    "# Fonctionne pas dans datacleaning...?\n",
    "#df['SICA 1'] = df['SICA 1'].astype(str)\n",
    "\n",
    "for index, row in df.iterrows():\n",
    "    df.set_value(index, 'Occurence', dOccurences.get(str(row['SICA 1'])))\n",
    "\n",
    "print df['Occurence'].value_counts()\n",
    "\n",
    "\n",
    "#On prend ceux qui ont deux dates trop proches (pour 3, voir plus tard)\n",
    "df_1 = df[df['Occurence'] == 2]\n",
    "\n",
    "fields = ['SICA 1','Fecha Analysis','year']\n",
    "\n",
    "\n",
    "\n",
    "\n",
    "df_1 = df_1[fields].sort_values(['SICA 1'])"
   ]
  },
  {
   "cell_type": "code",
   "execution_count": 10,
   "metadata": {
    "collapsed": false
   },
   "outputs": [
    {
     "name": "stdout",
     "output_type": "stream",
     "text": [
      "Sica1 6604502461 - Sica2 6604502461\n",
      "Date1 2016-07-22 00:00:00 - Date2 2016-07-17 00:00:00\n",
      "Sica1 6608800780 - Sica2 6608800780\n",
      "Date1 2016-07-22 00:00:00 - Date2 2016-05-24 00:00:00\n",
      "Sica1 6608800799 - Sica2 6608800799\n",
      "Date1 2016-07-25 00:00:00 - Date2 2016-09-14 00:00:00\n",
      "Sica1 6608800899 - Sica2 6608800899\n",
      "Date1 2016-07-22 00:00:00 - Date2 2016-07-24 00:00:00\n",
      "Sica1 6608800959 - Sica2 6608800959\n",
      "Date1 2016-07-24 00:00:00 - Date2 2016-07-21 00:00:00\n",
      "Sica1 6617000764 - Sica2 6617000764\n",
      "Date1 2016-05-16 00:00:00 - Date2 2016-07-22 00:00:00\n",
      "Sica1 6638300445 - Sica2 6638300445\n",
      "Date1 2016-06-23 00:00:00 - Date2 2016-06-02 00:00:00\n",
      "Sica1 6644000388 - Sica2 6644000388\n",
      "Date1 2016-07-22 00:00:00 - Date2 2016-06-23 00:00:00\n",
      "Sica1 6644000596 - Sica2 6644000596\n",
      "Date1 2016-07-22 00:00:00 - Date2 2016-05-21 00:00:00\n",
      "Sica1 6644001113 - Sica2 6644001113\n",
      "Date1 2016-07-22 00:00:00 - Date2 2016-05-16 00:00:00\n",
      "Sica1 6645600841 - Sica2 6645600841\n",
      "Date1 2011-12-07 00:00:00 - Date2 2011-12-29 00:00:00\n",
      "Sica1 6659400046 - Sica2 6659400046\n",
      "Date1 2016-07-22 00:00:00 - Date2 2016-08-02 00:00:00\n",
      "Sica1 6659401208 - Sica2 6659401208\n",
      "Date1 2016-08-02 00:00:00 - Date2 2016-07-22 00:00:00\n",
      "Sica1 6659402340 - Sica2 6659402340\n",
      "Date1 2016-07-22 00:00:00 - Date2 2016-05-16 00:00:00\n",
      "Sica1 6659402717 - Sica2 6659402717\n",
      "Date1 2016-05-20 00:00:00 - Date2 2016-07-22 00:00:00\n",
      "Sica1 6659404615 - Sica2 6659404615\n",
      "Date1 2016-10-27 00:00:00 - Date2 2016-10-28 00:00:00\n",
      "Sica1 6668700061 - Sica2 6668700061\n",
      "Date1 2016-05-18 00:00:00 - Date2 2016-06-22 00:00:00\n",
      "Sica1 6668700163 - Sica2 6668700163\n",
      "Date1 2016-06-22 00:00:00 - Date2 2016-09-19 00:00:00\n",
      "Sica1 6668700165 - Sica2 6668700165\n",
      "Date1 2016-06-22 00:00:00 - Date2 2016-05-14 00:00:00\n",
      "Sica1 6668700738 - Sica2 6668700738\n",
      "Date1 2016-06-22 00:00:00 - Date2 2016-09-19 00:00:00\n",
      "Sica1 6668700742 - Sica2 6668700742\n",
      "Date1 2016-06-23 00:00:00 - Date2 2016-05-19 00:00:00\n",
      "[566, 368, 751, 367, 372, 671, 705, 695, 694, 693, 251, 519, 474, 700, 485, 719, 403, 454, 702, 448, 704]\n"
     ]
    }
   ],
   "source": [
    "item = 1\n",
    "oldDate = 1\n",
    "todel = []\n",
    "\n",
    "for index, row in df_1.iterrows():\n",
    "    \n",
    "    if item == 1:\n",
    "        item = 2\n",
    "        firstDate = row['Fecha Analysis']\n",
    "        firstsica = row['SICA 1']\n",
    "        continue\n",
    "    if item == 2:\n",
    "        secondDate = row['Fecha Analysis']\n",
    "        secondsica = row['SICA 1']\n",
    "        space = days_between(str(firstDate), str(secondDate))\n",
    "        if space < 90:\n",
    "            todel.append(index)\n",
    "            print(\"Sica1 {} - Sica2 {}\".format(firstsica,secondsica))\n",
    "            print(\"Date1 {} - Date2 {}\".format(firstDate,secondDate))\n",
    "        item = 1\n",
    "\n",
    "print todel"
   ]
  },
  {
   "cell_type": "code",
   "execution_count": 11,
   "metadata": {
    "collapsed": false
   },
   "outputs": [
    {
     "name": "stdout",
     "output_type": "stream",
     "text": [
      "(746, 135)\n"
     ]
    }
   ],
   "source": [
    "df = df.drop(todel)\n",
    "todel = []\n",
    "df = df.reset_index(drop=True)\n",
    "print df.shape"
   ]
  },
  {
   "cell_type": "markdown",
   "metadata": {},
   "source": [
    "Elimination manuelle des 6 cafés se répéttant 3x (il y en a 6) - si possible en laisser 2, toujours avec la règle des 3 mois d'écart sinon éliminer le plus ancien. "
   ]
  },
  {
   "cell_type": "code",
   "execution_count": 12,
   "metadata": {
    "collapsed": false
   },
   "outputs": [
    {
     "data": {
      "text/html": [
       "<div>\n",
       "<table border=\"1\" class=\"dataframe\">\n",
       "  <thead>\n",
       "    <tr style=\"text-align: right;\">\n",
       "      <th></th>\n",
       "      <th>SICA 1</th>\n",
       "      <th>Fecha Analysis</th>\n",
       "    </tr>\n",
       "  </thead>\n",
       "  <tbody>\n",
       "    <tr>\n",
       "      <th>729</th>\n",
       "      <td>6608800200</td>\n",
       "      <td>2016-09-14 00:00:00</td>\n",
       "    </tr>\n",
       "    <tr>\n",
       "      <th>682</th>\n",
       "      <td>6608800200</td>\n",
       "      <td>2016-06-04 00:00:00</td>\n",
       "    </tr>\n",
       "    <tr>\n",
       "      <th>379</th>\n",
       "      <td>6608800200</td>\n",
       "      <td>2016-07-22 00:00:00</td>\n",
       "    </tr>\n",
       "    <tr>\n",
       "      <th>136</th>\n",
       "      <td>6608800488</td>\n",
       "      <td>2011-11-30 00:00:00</td>\n",
       "    </tr>\n",
       "    <tr>\n",
       "      <th>367</th>\n",
       "      <td>6608800488</td>\n",
       "      <td>2016-07-24 00:00:00</td>\n",
       "    </tr>\n",
       "    <tr>\n",
       "      <th>382</th>\n",
       "      <td>6608800488</td>\n",
       "      <td>2016-07-22 00:00:00</td>\n",
       "    </tr>\n",
       "    <tr>\n",
       "      <th>352</th>\n",
       "      <td>6608801616</td>\n",
       "      <td>2016-07-24 00:00:00</td>\n",
       "    </tr>\n",
       "    <tr>\n",
       "      <th>730</th>\n",
       "      <td>6608801616</td>\n",
       "      <td>2016-09-14 00:00:00</td>\n",
       "    </tr>\n",
       "    <tr>\n",
       "      <th>681</th>\n",
       "      <td>6608801616</td>\n",
       "      <td>2016-05-16 00:00:00</td>\n",
       "    </tr>\n",
       "    <tr>\n",
       "      <th>219</th>\n",
       "      <td>6644001444</td>\n",
       "      <td>2011-12-23 00:00:00</td>\n",
       "    </tr>\n",
       "    <tr>\n",
       "      <th>525</th>\n",
       "      <td>6644001444</td>\n",
       "      <td>2016-07-22 00:00:00</td>\n",
       "    </tr>\n",
       "    <tr>\n",
       "      <th>680</th>\n",
       "      <td>6644001444</td>\n",
       "      <td>2016-05-13 00:00:00</td>\n",
       "    </tr>\n",
       "    <tr>\n",
       "      <th>741</th>\n",
       "      <td>6668200070</td>\n",
       "      <td>2016-10-28 00:00:00</td>\n",
       "    </tr>\n",
       "    <tr>\n",
       "      <th>316</th>\n",
       "      <td>6668200070</td>\n",
       "      <td>2011-12-02 00:00:00</td>\n",
       "    </tr>\n",
       "    <tr>\n",
       "      <th>645</th>\n",
       "      <td>6668200070</td>\n",
       "      <td>2016-07-22 00:00:00</td>\n",
       "    </tr>\n",
       "    <tr>\n",
       "      <th>399</th>\n",
       "      <td>6668701219</td>\n",
       "      <td>2016-06-22 00:00:00</td>\n",
       "    </tr>\n",
       "    <tr>\n",
       "      <th>342</th>\n",
       "      <td>6668701219</td>\n",
       "      <td>2011-12-28 00:00:00</td>\n",
       "    </tr>\n",
       "    <tr>\n",
       "      <th>391</th>\n",
       "      <td>6668701219</td>\n",
       "      <td>2016-07-22 00:00:00</td>\n",
       "    </tr>\n",
       "  </tbody>\n",
       "</table>\n",
       "</div>"
      ],
      "text/plain": [
       "         SICA 1       Fecha Analysis\n",
       "729  6608800200  2016-09-14 00:00:00\n",
       "682  6608800200  2016-06-04 00:00:00\n",
       "379  6608800200  2016-07-22 00:00:00\n",
       "136  6608800488  2011-11-30 00:00:00\n",
       "367  6608800488  2016-07-24 00:00:00\n",
       "382  6608800488  2016-07-22 00:00:00\n",
       "352  6608801616  2016-07-24 00:00:00\n",
       "730  6608801616  2016-09-14 00:00:00\n",
       "681  6608801616  2016-05-16 00:00:00\n",
       "219  6644001444  2011-12-23 00:00:00\n",
       "525  6644001444  2016-07-22 00:00:00\n",
       "680  6644001444  2016-05-13 00:00:00\n",
       "741  6668200070  2016-10-28 00:00:00\n",
       "316  6668200070  2011-12-02 00:00:00\n",
       "645  6668200070  2016-07-22 00:00:00\n",
       "399  6668701219  2016-06-22 00:00:00\n",
       "342  6668701219  2011-12-28 00:00:00\n",
       "391  6668701219  2016-07-22 00:00:00"
      ]
     },
     "execution_count": 12,
     "metadata": {},
     "output_type": "execute_result"
    }
   ],
   "source": [
    "df_2 = df[df['Occurence'] == 3].sort_values(['SICA 1'])\n",
    "cols = ['SICA 1','Fecha Analysis']\n",
    "df_2[cols]"
   ]
  },
  {
   "cell_type": "code",
   "execution_count": 13,
   "metadata": {
    "collapsed": false
   },
   "outputs": [
    {
     "name": "stdout",
     "output_type": "stream",
     "text": [
      "(746, 135)\n"
     ]
    }
   ],
   "source": [
    "toDel = [379,382,352,680,399]\n",
    "df = df.drop(todel)\n",
    "todel = []\n",
    "df = df.reset_index(drop=True)\n",
    "print df.shape"
   ]
  },
  {
   "cell_type": "markdown",
   "metadata": {},
   "source": [
    "## Compact texture"
   ]
  },
  {
   "cell_type": "code",
   "execution_count": 14,
   "metadata": {
    "collapsed": true
   },
   "outputs": [],
   "source": [
    "francos = [\"franco_L1\",\"franco_L2\",\"franco_L3\"]\n",
    "arcillosos = [\"arcilloso_L1\",\"arcilloso_L2\",\"arcilloso_L3\"]\n",
    "limosos = [\"limoso_L1\",\"limoso_L2\",\"limoso_L3\"]\n",
    "arenosos = [\"arenoso_L1\",\"arenoso_L2\",\"arenoso_L3\"]\n",
    "cascajosos = [\"cascajoso_L1\",\"cascajoso_L2\",\"cascajoso_L3\"]\n",
    "\n",
    "# Ajout de colonnes pour résumer la texture du sol.\n",
    "df[\"Franco\"] = 0\n",
    "df[\"Arcilloso\"] = 0\n",
    "df[\"Limoso\"] = 0\n",
    "df[\"Arenoso\"] = 0\n",
    "df[\"Cascajoso\"] = 0\n",
    "\n",
    "\n",
    "for index, row in df.iterrows():\n",
    "    df.set_value(index, 'Franco', row[francos].sum())\n",
    "    df.set_value(index, 'Arcilloso', row[arcillosos].sum())\n",
    "    df.set_value(index, 'Limoso', row[limosos].sum())\n",
    "    df.set_value(index, 'Arenoso', row[arenosos].sum())\n",
    "    df.set_value(index, 'Cascajoso', row[cascajosos].sum())\n",
    "\n",
    "sols = [\"franco_L1\",\"arcilloso_L1\",\"limoso_L1\",\"arenoso_L1\",\"cascajoso_L1\",\n",
    "        \"franco_L2\",\"arcilloso_L2\",\"limoso_L2\",\"arenoso_L2\",\"cascajoso_L2\",\n",
    "        \"franco_L3\",\"arcilloso_L3\",\"limoso_L3\",\"arenoso_L3\",\"cascajoso_L3\"]\n",
    "\n",
    "\n",
    "for col in sols:\n",
    "    df.drop(col, axis=1, inplace=True)\n",
    "\n",
    "\n",
    "\n",
    "\n"
   ]
  },
  {
   "cell_type": "markdown",
   "metadata": {},
   "source": [
    "## Ajout d'une catégorie pour chaque cafés\n",
    "\n",
    "### Liste des catégories\n",
    "\n",
    "|Total Score|       Quality Classification||\n",
    "|---|---|---|\n",
    "|90-100\t|          Outstanding|\t             Specialty|\n",
    "|85-89.99\t|      Excellent|\t             Specialty|\n",
    "|80-84.99|\t      Very Good|\t             Specialty|\n",
    "|<80.0\t|          Below Specialty Quality|\t Not Specialty|\n",
    "\n",
    "\n",
    "http://www.scaa.org/?page=resources&d=cupping-protocols"
   ]
  },
  {
   "cell_type": "code",
   "execution_count": 15,
   "metadata": {
    "collapsed": true
   },
   "outputs": [],
   "source": [
    "# Catégorie de cafés entre 1 )plus de 90 points et 4 (moins de 80)\n",
    "df['Category'] = 0\n",
    "\n",
    "for index, row in df.iterrows():\n",
    "    df.set_value(index, 'Category', classCoffee(row['Puntaje Total']))"
   ]
  },
  {
   "cell_type": "markdown",
   "metadata": {},
   "source": [
    "## Rename columns"
   ]
  },
  {
   "cell_type": "code",
   "execution_count": 16,
   "metadata": {
    "collapsed": false
   },
   "outputs": [],
   "source": [
    "df.rename(columns={'Defectos totales': 'DefectosTotales'}, inplace=True)\n",
    "df.rename(columns={'SICA 1': 'SICA'}, inplace=True)\n",
    "df.rename(columns={'LUMINOSID': 'Luminosidad'}, inplace=True)\n",
    "df.rename(columns={'Defectos totales': 'DefectosTotales'}, inplace=True)\n",
    "df.rename(columns={'Puntaje Total': 'PuntajeTotal'}, inplace=True)\n",
    "\n",
    "df.rename(columns={'Fecha Analysis': 'FechaAnalysis'}, inplace=True)\n",
    "\n",
    "df.rename(columns={'Negros y vinagres': 'NegrosYVinagres'}, inplace=True)\n",
    "df.rename(columns={'Broca de punto': 'BrocaDePunto'}, inplace=True)\n",
    "df.rename(columns={'Defectos totales': 'DefectosTotales'}, inplace=True)\n",
    "df.rename(columns={'Humedad (%)': 'Humedad'}, inplace=True)\n",
    "df.rename(columns={'Merma (%)': 'Merma'}, inplace=True)\n",
    "df.rename(columns={'Sabor residual': 'SaborResidual'}, inplace=True)\n",
    "df.rename(columns={'Taza limpia': 'TazaLimpia'}, inplace=True)\n",
    "df.rename(columns={'Puntaje catador': 'PuntajeCatador'}, inplace=True)\n",
    "df.rename(columns={'Puntaje Total': 'PuntajeTotal'}, inplace=True)\n",
    "df.rename(columns={'SICA 1': 'SICA'}, inplace=True)\n",
    "df.rename(columns={'CEDULA 1': 'Cedula'}, inplace=True)\n",
    "\n",
    "df.rename(columns={'VARIEDAD': 'Variedad'}, inplace=True)\n",
    "\n",
    "df.rename(columns={'Taza 1': 'Taza1'}, inplace=True)\n",
    "df.rename(columns={'Taza 2': 'Taza2'}, inplace=True)\n",
    "df.rename(columns={'Taza 3': 'Taza3'}, inplace=True)\n",
    "df.rename(columns={'Taza 4': 'Taza4'}, inplace=True)\n",
    "df.rename(columns={'Taza 5': 'Taza5'}, inplace=True)\n",
    "\n",
    "\n",
    "\n",
    "\n"
   ]
  },
  {
   "cell_type": "markdown",
   "metadata": {},
   "source": [
    "## Rename variety"
   ]
  },
  {
   "cell_type": "code",
   "execution_count": 17,
   "metadata": {
    "collapsed": false
   },
   "outputs": [],
   "source": [
    "df['Variedad'] = df['Variedad'].replace({'T?PICA': 'TIPICA'})"
   ]
  },
  {
   "cell_type": "markdown",
   "metadata": {
    "collapsed": false
   },
   "source": [
    "## Ajout de Slope et Orientation\n",
    "Réalisé dans le set compact\n"
   ]
  },
  {
   "cell_type": "code",
   "execution_count": 18,
   "metadata": {
    "collapsed": false
   },
   "outputs": [
    {
     "name": "stdout",
     "output_type": "stream",
     "text": [
      "(746, 3)\n",
      "(746, 126)\n",
      "(746, 128)\n"
     ]
    }
   ],
   "source": [
    "## Adding slope and orientation \n",
    "\n",
    " \n",
    "df_temp = pd.read_csv('./data/Slope_Orientation/Risaralda_orientation_slope.csv', header=0, sep=',', index_col=0, parse_dates=False, encoding='utf-8')\n",
    "#df_temp = df_temp.drop('FID', 1)\n",
    "\n",
    "\n",
    "cols = [\"SICA_1\",\"ris_aspect\",\"ris_slope\"]\n",
    "df_temp = df_temp[cols]\n",
    "\n",
    "df_temp.rename(columns={'SICA_1': 'SICA'}, inplace=True)\n",
    "df_temp.rename(columns={'ris_aspect': 'OrientationNum'}, inplace=True)\n",
    "df_temp.rename(columns={'ris_slope': 'Slope'}, inplace=True)\n",
    "\n",
    "df_temp['SICA'] = df_temp['SICA'].round(0).astype(np.int64)\n",
    "df_temp['SICA'] = df_temp['SICA'].astype(str)\n",
    "\n",
    "#print df_temp\n",
    "\n",
    "print df_temp.shape\n",
    "print df.shape\n",
    "\n",
    "\n",
    "d_orient = dict(zip(df_temp.SICA, df_temp.OrientationNum))\n",
    "d_slope = dict(zip(df_temp.SICA, df_temp.Slope))\n",
    "\n",
    "\n",
    "#print d_slope.get('6607500996')\n",
    "\n",
    "df['OrientationNum'] = 0.\n",
    "df['Slope'] = 0.\n",
    "\n",
    "for index, row in df.iterrows():\n",
    "    df.set_value(index, 'OrientationNum', d_orient.get(row['SICA']))\n",
    "    df.set_value(index, 'Slope', d_slope.get(row['SICA']))\n",
    "print df.shape\n"
   ]
  },
  {
   "cell_type": "code",
   "execution_count": 19,
   "metadata": {
    "collapsed": false,
    "scrolled": true
   },
   "outputs": [
    {
     "name": "stdout",
     "output_type": "stream",
     "text": [
      "Municipio\n",
      "Vereda\n",
      "Finca\n",
      "Cedula\n",
      "SICA\n",
      "Variedad\n",
      "EPSG:3116_X\n",
      "EPSG:3116_Y\n",
      "EPSG:4326_Y\n",
      "EPSG:4326_X\n",
      "ASNM\n",
      "Luminosidad\n",
      "FechaAnalysis\n",
      "NegrosYVinagres\n",
      "Broca\n",
      "BrocaDePunto\n",
      "Veteado\n",
      "Mordido\n",
      "Inmaduro\n",
      "Flojo\n",
      "Sobresecado\n",
      "Arrugado\n",
      "Aplastado\n",
      "Cristalizado\n",
      "Reposado\n",
      "Granizo\n",
      "Conchas\n",
      "Partido\n",
      "Ambar\n",
      "DefectosTotales\n",
      "Pergamino\n",
      "Almendra\n",
      "AlmendraTotal\n",
      "AlmendraSana\n",
      "UV\n",
      "Olor\n",
      "Humedad\n",
      "Merma\n",
      "Aroma-Fragancia\n",
      "Acidez\n",
      "Cuerpo\n",
      "Sabor\n",
      "SaborResidual\n",
      "Dulzor\n",
      "Uniformidad\n",
      "Balance\n",
      "TazaLimpia\n",
      "PuntajeCatador\n",
      "PuntajeTotal\n",
      "Taza1\n",
      "Taza2\n",
      "Taza3\n",
      "Taza4\n",
      "Taza5\n",
      "prec1\n",
      "prec2\n",
      "prec3\n",
      "prec4\n",
      "prec5\n",
      "prec6\n",
      "prec7\n",
      "prec8\n",
      "prec9\n",
      "prec10\n",
      "tmin1\n",
      "tmin2\n",
      "tmin3\n",
      "tmin4\n",
      "tmin5\n",
      "tmin6\n",
      "tmin7\n",
      "tmin8\n",
      "tmin9\n",
      "tmin10\n",
      "tmax1\n",
      "tmax2\n",
      "tmax3\n",
      "tmax4\n",
      "tmax5\n",
      "tmax6\n",
      "tmax7\n",
      "tmax8\n",
      "tmax9\n",
      "tmax10\n",
      "tmean1\n",
      "tmean2\n",
      "tmean3\n",
      "tmean4\n",
      "tmean5\n",
      "tmean6\n",
      "tmean7\n",
      "tmean8\n",
      "tmean9\n",
      "tmean10\n",
      "dtr1\n",
      "dtr2\n",
      "dtr3\n",
      "dtr4\n",
      "dtr5\n",
      "dtr6\n",
      "dtr7\n",
      "dtr8\n",
      "dtr9\n",
      "dtr10\n",
      "year\n",
      "PrecTotalAvg\n",
      "TminTotalAvg\n",
      "TmaxTotalAvg\n",
      "TmeanTotalAvg\n",
      "DtrTotalAvg\n",
      "Soil Profile\n",
      "Unidad_c_1\n",
      "pH_avg\n",
      "org_avg\n",
      "PrecTotal\n",
      "TminTotal\n",
      "TmaxTotal\n",
      "TmeanTotal\n",
      "DtrTotal\n",
      "Occurence\n",
      "Franco\n",
      "Arcilloso\n",
      "Limoso\n",
      "Arenoso\n",
      "Cascajoso\n",
      "Category\n",
      "OrientationNum\n",
      "Slope\n"
     ]
    }
   ],
   "source": [
    "for c in df.columns:\n",
    "    print c"
   ]
  },
  {
   "cell_type": "markdown",
   "metadata": {},
   "source": [
    "## Ajout de données chimiques de sol\n",
    "\n",
    "Après la visite à Felipe, on peut avoir plus d'informations chimiques sur le sol. Si le temps le permet, on les ajoute. Les analyses peuvent être refaites rapidement si les scripts sont bien fait. \n",
    "\n",
    "UPDATE: La plateforme données et incomplète et ne permet pas l'extraction automatisée de données. \n",
    "\n",
    "TODO: réaliser une classe pour le set V2 permettant de get des informations à partir du SICA"
   ]
  },
  {
   "cell_type": "code",
   "execution_count": null,
   "metadata": {
    "collapsed": true
   },
   "outputs": [],
   "source": []
  },
  {
   "cell_type": "code",
   "execution_count": null,
   "metadata": {
    "collapsed": true
   },
   "outputs": [],
   "source": []
  },
  {
   "cell_type": "code",
   "execution_count": null,
   "metadata": {
    "collapsed": true
   },
   "outputs": [],
   "source": []
  },
  {
   "cell_type": "code",
   "execution_count": null,
   "metadata": {
    "collapsed": true
   },
   "outputs": [],
   "source": []
  },
  {
   "cell_type": "markdown",
   "metadata": {},
   "source": [
    "## Mise en ordre des colonnes"
   ]
  },
  {
   "cell_type": "code",
   "execution_count": 20,
   "metadata": {
    "collapsed": true
   },
   "outputs": [],
   "source": [
    "cols = [\n",
    "\"SICA\"\n",
    ",\"Cedula\"\n",
    ",\"Municipio\"\n",
    ",\"Vereda\"\n",
    ",\"Finca\"\n",
    ",\"EPSG:3116_X\",\"EPSG:3116_Y\",\"EPSG:4326_Y\",\"EPSG:4326_X\"\n",
    ",\"Variedad\"\n",
    ",\"FechaAnalysis\"\n",
    ",\"year\"\n",
    ",\"Occurence\"\n",
    ",\"UV\",\"Olor\",\"Humedad\",\"Merma\",\"Pergamino\",\"Almendra\",\"AlmendraTotal\",\"AlmendraSana\"\n",
    ",\"NegrosYVinagres\",\"Broca\",\"BrocaDePunto\",\"Veteado\",\"Mordido\",\"Inmaduro\",\"Flojo\",\"Sobresecado\",\"Arrugado\"\n",
    ",\"Aplastado\",\"Cristalizado\",\"Reposado\",\"Granizo\",\"Conchas\",\"Partido\",\"Ambar\",\"DefectosTotales\"\n",
    ",\"ASNM\"\n",
    ",\"Luminosidad\"\n",
    ",\"prec1\",\"prec2\",\"prec3\",\"prec4\",\"prec5\",\"prec6\",\"prec7\",\"prec8\",\"prec9\",\"prec10\"\n",
    ",\"tmin1\",\"tmin2\",\"tmin3\",\"tmin4\",\"tmin5\",\"tmin6\",\"tmin7\",\"tmin8\",\"tmin9\",\"tmin10\"\n",
    ",\"tmax1\",\"tmax2\",\"tmax3\",\"tmax4\",\"tmax5\",\"tmax6\",\"tmax7\",\"tmax8\",\"tmax9\",\"tmax10\"\n",
    ",\"tmean1\",\"tmean2\",\"tmean3\",\"tmean4\",\"tmean5\",\"tmean6\",\"tmean7\",\"tmean8\",\"tmean9\",\"tmean10\"\n",
    ",\"dtr1\",\"dtr2\",\"dtr3\",\"dtr4\",\"dtr5\",\"dtr6\",\"dtr7\",\"dtr8\",\"dtr9\",\"dtr10\"\n",
    ",\"PrecTotal\",\"TminTotal\",\"TmaxTotal\",\"TmeanTotal\",\"DtrTotal\"\n",
    ",\"PrecTotalAvg\",\"TminTotalAvg\",\"TmaxTotalAvg\",\"TmeanTotalAvg\",\"DtrTotalAvg\"\n",
    ",\"OrientationNum\"\n",
    ",\"Slope\"\n",
    ",\"Soil Profile\"\n",
    ",\"Unidad_c_1\"\n",
    ",\"pH_avg\"\n",
    ",\"org_avg\"\n",
    ",\"Franco\"\n",
    ",\"Arcilloso\"\n",
    ",\"Limoso\"\n",
    ",\"Arenoso\"\n",
    ",\"Cascajoso\"\n",
    ",\"Taza1\",\"Taza2\",\"Taza3\",\"Taza4\",\"Taza5\"\n",
    ",\"Aroma-Fragancia\",\"Acidez\",\"Cuerpo\",\"Sabor\",\"SaborResidual\",\"Dulzor\",\"Uniformidad\",\"Balance\",\"TazaLimpia\",\"PuntajeCatador\",\"PuntajeTotal\"\n",
    ",\"Category\"]\n",
    "\n",
    "df = df[cols]"
   ]
  },
  {
   "cell_type": "markdown",
   "metadata": {
    "collapsed": true
   },
   "source": [
    "## Ecriture du dataset V2 \n",
    "\n",
    "Contient toutes les données (nom de la ferme (Finca) etc)"
   ]
  },
  {
   "cell_type": "code",
   "execution_count": 21,
   "metadata": {
    "collapsed": false
   },
   "outputs": [],
   "source": [
    "df.to_csv(\"./data/DataRisaralda_v2_utf-8.csv\", sep=',', encoding='utf-8')\n",
    "df.to_csv(\"./data/DataRisaralda_v2_iso-8859-1.csv\", sep=',', encoding='iso-8859-1')"
   ]
  },
  {
   "cell_type": "markdown",
   "metadata": {
    "collapsed": false
   },
   "source": [
    "---------------------------------------------------"
   ]
  },
  {
   "cell_type": "markdown",
   "metadata": {},
   "source": [
    "# Datasets customs"
   ]
  },
  {
   "cell_type": "markdown",
   "metadata": {
    "collapsed": false
   },
   "source": [
    "_______________________________________________"
   ]
  },
  {
   "cell_type": "markdown",
   "metadata": {},
   "source": [
    "## Set SICA - GPS - Points Totaux"
   ]
  },
  {
   "cell_type": "code",
   "execution_count": 22,
   "metadata": {
    "collapsed": false
   },
   "outputs": [],
   "source": [
    "cols_GPS = ['SICA','EPSG:3116_X','EPSG:3116_Y','EPSG:4326_X','EPSG:4326_Y','PuntajeTotal']\n",
    "df_coordinates_pts = df[cols_GPS]\n",
    "\n",
    "df_coordinates_pts.to_csv(\"./data/Coordinates_Points_Risaralda_utf-8.csv\", sep=',', encoding='utf-8')\n",
    "df_coordinates_pts.to_csv(\"./data/Coordinates_Points_Risaralda_iso-8859-1.csv\", sep=',', encoding='iso-8859-1')"
   ]
  },
  {
   "cell_type": "markdown",
   "metadata": {},
   "source": [
    "## Set SICA - GPS - Catégories"
   ]
  },
  {
   "cell_type": "code",
   "execution_count": 23,
   "metadata": {
    "collapsed": false
   },
   "outputs": [],
   "source": [
    "cols_GPS = ['SICA','EPSG:3116_X','EPSG:3116_Y','EPSG:4326_X','EPSG:4326_Y','Category']\n",
    "df_coordinates_cat = df[cols_GPS]\n",
    "\n",
    "df_coordinates_cat.to_csv(\"./data/Coordinates_Category_Risaralda_utf-8.csv\", sep=',', encoding='utf-8')\n",
    "df_coordinates_cat.to_csv(\"./data/Coordinates_Category_Risaralda_iso-8859-1.csv\", sep=',', encoding='iso-8859-1')"
   ]
  },
  {
   "cell_type": "markdown",
   "metadata": {},
   "source": [
    "## Dataset numérique complet\n",
    "    sans données manquantes au niveau des colonnes !"
   ]
  },
  {
   "cell_type": "code",
   "execution_count": 34,
   "metadata": {
    "collapsed": false
   },
   "outputs": [
    {
     "name": "stdout",
     "output_type": "stream",
     "text": [
      "Création d'un set numérique... Suppression des champs non numérique et non utiles\n",
      "\n",
      "Suppression des colonnes avec des éventuelles données manquantes....\n",
      "\n",
      "Dataset final avec shape de (746, 86)\n",
      "\n",
      "\n",
      "Fichiers DataRisaralda_v2Numeric_Complete_utf-8.csv et DataRisaralda_v2Numeric_Complete_iso-8859-1.csv créés\n"
     ]
    }
   ],
   "source": [
    "print(\"Création d'un set numérique... Suppression des champs non numérique et non utiles\")\n",
    "\n",
    "cols_num = [\n",
    "\"SICA\"\n",
    ",\"year\"\n",
    ",\"DefectosTotales\"\n",
    ",\"ASNM\"\n",
    ",\"Luminosidad\"\n",
    ",\"prec1\",\"prec2\",\"prec3\",\"prec4\",\"prec5\",\"prec6\",\"prec7\",\"prec8\",\"prec9\",\"prec10\"\n",
    ",\"tmin1\",\"tmin2\",\"tmin3\",\"tmin4\",\"tmin5\",\"tmin6\",\"tmin7\",\"tmin8\",\"tmin9\",\"tmin10\"\n",
    ",\"tmax1\",\"tmax2\",\"tmax3\",\"tmax4\",\"tmax5\",\"tmax6\",\"tmax7\",\"tmax8\",\"tmax9\",\"tmax10\"\n",
    ",\"tmean1\",\"tmean2\",\"tmean3\",\"tmean4\",\"tmean5\",\"tmean6\",\"tmean7\",\"tmean8\",\"tmean9\",\"tmean10\"\n",
    ",\"dtr1\",\"dtr2\",\"dtr3\",\"dtr4\",\"dtr5\",\"dtr6\",\"dtr7\",\"dtr8\",\"dtr9\",\"dtr10\"\n",
    ",\"PrecTotal\",\"TminTotal\",\"TmaxTotal\",\"TmeanTotal\",\"DtrTotal\"\n",
    ",\"PrecTotalAvg\",\"TminTotalAvg\",\"TmaxTotalAvg\",\"TmeanTotalAvg\",\"DtrTotalAvg\"\n",
    ",\"OrientationNum\"\n",
    ",\"Slope\"\n",
    ",\"pH_avg\"\n",
    ",\"org_avg\"\n",
    ",\"Franco\"\n",
    ",\"Arcilloso\"\n",
    ",\"Limoso\"\n",
    ",\"Arenoso\"\n",
    ",\"Cascajoso\"\n",
    ",\"Aroma-Fragancia\",\"Acidez\",\"Cuerpo\",\"Sabor\",\"SaborResidual\",\"Dulzor\",\"Uniformidad\",\"Balance\",\"TazaLimpia\",\"PuntajeCatador\",\"PuntajeTotal\"\n",
    ",\"Category\"]\n",
    "\n",
    "\n",
    "df_num = df[cols_num]\n",
    "\n",
    "print(\"\\nSuppression des colonnes avec des éventuelles données manquantes....\")\n",
    "df_num_complete = df_num.dropna(axis=1, how='any')\n",
    "\n",
    "print(\"\\nDataset final avec shape de {}\".format(df_num_complete.shape))\n",
    "\n",
    "df_num_complete.to_csv(\"./data/DataRisaralda_v2Numeric_Complete_utf-8.csv\", sep=',', encoding='utf-8')\n",
    "df_num_complete.to_csv(\"./data/DataRisaralda_v2Numeric_Complete_iso-8859-1.csv\", sep=',', encoding='iso-8859-1')\n",
    "\n",
    "\n",
    "print(\"\\n\\nFichiers DataRisaralda_v2Numeric_Complete_utf-8.csv et DataRisaralda_v2Numeric_Complete_iso-8859-1.csv créés\")"
   ]
  },
  {
   "cell_type": "markdown",
   "metadata": {},
   "source": [
    "## Datasets pour R\n",
    "\n",
    "Inclusion d'une colonne de catégorie (variété ou année par exemple)"
   ]
  },
  {
   "cell_type": "markdown",
   "metadata": {},
   "source": [
    "## Sortie: PUNTAJE TOTAL"
   ]
  },
  {
   "cell_type": "code",
   "execution_count": 26,
   "metadata": {
    "collapsed": false
   },
   "outputs": [
    {
     "name": "stdout",
     "output_type": "stream",
     "text": [
      "Création d'un set pour R\n",
      "\n",
      "Suppression des colonnes avec des éventuelles données manquantes....\n"
     ]
    }
   ],
   "source": [
    "print(\"Création d'un set pour R avec Puntaje Total comme sortie\")\n",
    "\n",
    "cols_R_Total = [\n",
    "\"SICA\"\n",
    ",\"year\"\n",
    ",\"DefectosTotales\"\n",
    ",\"ASNM\"\n",
    ",\"Luminosidad\"\n",
    ",\"prec1\",\"prec2\",\"prec3\",\"prec4\",\"prec5\",\"prec6\",\"prec7\",\"prec8\",\"prec9\",\"prec10\"\n",
    ",\"tmin1\",\"tmin2\",\"tmin3\",\"tmin4\",\"tmin5\",\"tmin6\",\"tmin7\",\"tmin8\",\"tmin9\",\"tmin10\"\n",
    ",\"tmax1\",\"tmax2\",\"tmax3\",\"tmax4\",\"tmax5\",\"tmax6\",\"tmax7\",\"tmax8\",\"tmax9\",\"tmax10\"\n",
    ",\"tmean1\",\"tmean2\",\"tmean3\",\"tmean4\",\"tmean5\",\"tmean6\",\"tmean7\",\"tmean8\",\"tmean9\",\"tmean10\"\n",
    ",\"dtr1\",\"dtr2\",\"dtr3\",\"dtr4\",\"dtr5\",\"dtr6\",\"dtr7\",\"dtr8\",\"dtr9\",\"dtr10\"\n",
    ",\"PrecTotal\",\"TminTotal\",\"TmaxTotal\",\"TmeanTotal\",\"DtrTotal\"\n",
    ",\"PrecTotalAvg\",\"TminTotalAvg\",\"TmaxTotalAvg\",\"TmeanTotalAvg\",\"DtrTotalAvg\"\n",
    ",\"OrientationNum\"\n",
    ",\"Slope\"\n",
    ",\"pH_avg\"\n",
    ",\"org_avg\"\n",
    ",\"Franco\"\n",
    ",\"Arcilloso\"\n",
    ",\"Limoso\"\n",
    ",\"Arenoso\"\n",
    ",\"Cascajoso\"\n",
    ",\"Variedad\"\n",
    ",\"PuntajeTotal\"\n",
    "]\n",
    "\n",
    "\n",
    "df_R_Total = df[cols_R_Total]\n",
    "\n",
    "# le script doit avoir une colonne appelée (peu importe le nom) de catégories. A spécifier dans R. Ici c'est \"Variedad\"\n",
    "\n",
    "print(\"\\nSuppression des colonnes avec des éventuelles données manquantes....\")\n",
    "df_R_Total = df_R_Total.dropna(axis=1, how='any')\n",
    "\n",
    "print(\"\\nDataset pour R avec shape de {}\".format(df_R_Total.shape))\n",
    "\n",
    "df_R_Total.to_csv(\"./data/DataRisaralda_v2_R_Total_utf-8.csv\", sep=',', encoding='utf-8')\n",
    "\n",
    "print(\"\\n\\nFichier DataRisaralda_v2_R_Total_utf-8.csv créé\")"
   ]
  },
  {
   "cell_type": "markdown",
   "metadata": {},
   "source": [
    "## Sortie: ACIDEZ"
   ]
  },
  {
   "cell_type": "code",
   "execution_count": 33,
   "metadata": {
    "collapsed": false
   },
   "outputs": [
    {
     "name": "stdout",
     "output_type": "stream",
     "text": [
      "Création d'un set pour R avec Acidez comme sortie\n",
      "\n",
      "Suppression des colonnes avec des éventuelles données manquantes....\n",
      "\n",
      "Dataset pour R avec shape de (746, 76)\n",
      "\n",
      "\n",
      "Fichier DataRisaralda_v2_R_Acidez_utf-8.csv créé\n"
     ]
    }
   ],
   "source": [
    "print(\"Création d'un set pour R avec Acidez comme sortie\")\n",
    "\n",
    "cols_R_Acidez = [\n",
    "\"SICA\"\n",
    ",\"year\"\n",
    ",\"DefectosTotales\"\n",
    ",\"ASNM\"\n",
    ",\"Luminosidad\"\n",
    ",\"prec1\",\"prec2\",\"prec3\",\"prec4\",\"prec5\",\"prec6\",\"prec7\",\"prec8\",\"prec9\",\"prec10\"\n",
    ",\"tmin1\",\"tmin2\",\"tmin3\",\"tmin4\",\"tmin5\",\"tmin6\",\"tmin7\",\"tmin8\",\"tmin9\",\"tmin10\"\n",
    ",\"tmax1\",\"tmax2\",\"tmax3\",\"tmax4\",\"tmax5\",\"tmax6\",\"tmax7\",\"tmax8\",\"tmax9\",\"tmax10\"\n",
    ",\"tmean1\",\"tmean2\",\"tmean3\",\"tmean4\",\"tmean5\",\"tmean6\",\"tmean7\",\"tmean8\",\"tmean9\",\"tmean10\"\n",
    ",\"dtr1\",\"dtr2\",\"dtr3\",\"dtr4\",\"dtr5\",\"dtr6\",\"dtr7\",\"dtr8\",\"dtr9\",\"dtr10\"\n",
    ",\"PrecTotal\",\"TminTotal\",\"TmaxTotal\",\"TmeanTotal\",\"DtrTotal\"\n",
    ",\"PrecTotalAvg\",\"TminTotalAvg\",\"TmaxTotalAvg\",\"TmeanTotalAvg\",\"DtrTotalAvg\"\n",
    ",\"OrientationNum\"\n",
    ",\"Slope\"\n",
    ",\"pH_avg\"\n",
    ",\"org_avg\"\n",
    ",\"Franco\"\n",
    ",\"Arcilloso\"\n",
    ",\"Limoso\"\n",
    ",\"Arenoso\"\n",
    ",\"Cascajoso\"\n",
    ",\"Variedad\"\n",
    ",\"Acidez\"\n",
    "]\n",
    "\n",
    "\n",
    "df_R_Acidez = df[cols_R_Acidez]\n",
    "\n",
    "# le script doit avoir une colonne appelée (peu importe le nom) de catégories. A spécifier dans R. Ici c'est \"Variedad\"\n",
    "\n",
    "print(\"\\nSuppression des colonnes avec des éventuelles données manquantes....\")\n",
    "df_R_Acidez = df_R_Acidez.dropna(axis=1, how='any')\n",
    "\n",
    "\n",
    "print(\"\\nDataset pour R avec shape de {}\".format(df_R_Acidez.shape))\n",
    "\n",
    "df_R_Acidez.to_csv(\"./data/DataRisaralda_v2_R_Acidez_utf-8.csv\", sep=',', encoding='utf-8')\n",
    "\n",
    "print(\"\\n\\nFichier DataRisaralda_v2_R_Acidez_utf-8.csv créé\")"
   ]
  },
  {
   "cell_type": "markdown",
   "metadata": {},
   "source": [
    "## SORTIE: DULZOR"
   ]
  },
  {
   "cell_type": "code",
   "execution_count": 32,
   "metadata": {
    "collapsed": false
   },
   "outputs": [
    {
     "name": "stdout",
     "output_type": "stream",
     "text": [
      "Création d'un set pour R avec Dulzor comme sortie\n",
      "\n",
      "Suppression des colonnes avec des éventuelles données manquantes....\n",
      "\n",
      "Dataset pour R avec shape de (746, 76)\n",
      "\n",
      "\n",
      "Fichier DataRisaralda_v2_R_Dulzor_utf-8.csv créé\n"
     ]
    }
   ],
   "source": [
    "print(\"Création d'un set pour R avec Dulzor comme sortie\")\n",
    "\n",
    "cols_R_Dulzor = [\n",
    "\"SICA\"\n",
    ",\"year\"\n",
    ",\"DefectosTotales\"\n",
    ",\"ASNM\"\n",
    ",\"Luminosidad\"\n",
    ",\"prec1\",\"prec2\",\"prec3\",\"prec4\",\"prec5\",\"prec6\",\"prec7\",\"prec8\",\"prec9\",\"prec10\"\n",
    ",\"tmin1\",\"tmin2\",\"tmin3\",\"tmin4\",\"tmin5\",\"tmin6\",\"tmin7\",\"tmin8\",\"tmin9\",\"tmin10\"\n",
    ",\"tmax1\",\"tmax2\",\"tmax3\",\"tmax4\",\"tmax5\",\"tmax6\",\"tmax7\",\"tmax8\",\"tmax9\",\"tmax10\"\n",
    ",\"tmean1\",\"tmean2\",\"tmean3\",\"tmean4\",\"tmean5\",\"tmean6\",\"tmean7\",\"tmean8\",\"tmean9\",\"tmean10\"\n",
    ",\"dtr1\",\"dtr2\",\"dtr3\",\"dtr4\",\"dtr5\",\"dtr6\",\"dtr7\",\"dtr8\",\"dtr9\",\"dtr10\"\n",
    ",\"PrecTotal\",\"TminTotal\",\"TmaxTotal\",\"TmeanTotal\",\"DtrTotal\"\n",
    ",\"PrecTotalAvg\",\"TminTotalAvg\",\"TmaxTotalAvg\",\"TmeanTotalAvg\",\"DtrTotalAvg\"\n",
    ",\"OrientationNum\"\n",
    ",\"Slope\"\n",
    ",\"pH_avg\"\n",
    ",\"org_avg\"\n",
    ",\"Franco\"\n",
    ",\"Arcilloso\"\n",
    ",\"Limoso\"\n",
    ",\"Arenoso\"\n",
    ",\"Cascajoso\"\n",
    ",\"Variedad\"\n",
    ",\"Dulzor\"\n",
    "]\n",
    "\n",
    "\n",
    "df_R_Dulzor = df[cols_R_Dulzor]\n",
    "\n",
    "# le script doit avoir une colonne appelée (peu importe le nom) de catégories. A spécifier dans R. Ici c'est \"Variedad\"\n",
    "\n",
    "print(\"\\nSuppression des colonnes avec des éventuelles données manquantes....\")\n",
    "df_R_Dulzor = df_R_Dulzor.dropna(axis=1, how='any')\n",
    "\n",
    "\n",
    "print(\"\\nDataset pour R avec shape de {}\".format(df_R_Dulzor.shape))\n",
    "\n",
    "df_R_Dulzor.to_csv(\"./data/DataRisaralda_v2_R_Dulzor_utf-8.csv\", sep=',', encoding='utf-8')\n",
    "\n",
    "print(\"\\n\\nFichier DataRisaralda_v2_R_Dulzor_utf-8.csv créé\")"
   ]
  },
  {
   "cell_type": "markdown",
   "metadata": {},
   "source": [
    "## PCA - Entrées simplifiées"
   ]
  },
  {
   "cell_type": "code",
   "execution_count": 37,
   "metadata": {
    "collapsed": false
   },
   "outputs": [
    {
     "name": "stdout",
     "output_type": "stream",
     "text": [
      "\n",
      "Suppression des colonnes avec des éventuelles données manquantes....\n",
      "\n",
      "Dataset pour R avec shape de (746, 29)\n",
      "\n",
      "\n",
      "Fichier DataRisaralda_v2_R_PCA_utf-8.csv créé\n"
     ]
    }
   ],
   "source": [
    "cols_R_PCA = [\n",
    "\"year\"\n",
    ",\"DefectosTotales\"\n",
    ",\"ASNM\"\n",
    ",\"Luminosidad\"\n",
    ",\"PrecTotalAvg\",\"TminTotalAvg\",\"TmaxTotalAvg\",\"TmeanTotalAvg\",\"DtrTotalAvg\"\n",
    ",\"OrientationNum\"\n",
    ",\"Slope\"\n",
    ",\"pH_avg\"\n",
    ",\"org_avg\"\n",
    ",\"Franco\"\n",
    ",\"Arcilloso\"\n",
    ",\"Limoso\"\n",
    ",\"Arenoso\"\n",
    ",\"Cascajoso\"\n",
    ",\"Aroma-Fragancia\",\"Acidez\",\"Cuerpo\",\"Sabor\",\"SaborResidual\",\"Dulzor\"\n",
    ",\"Uniformidad\",\"Balance\",\"TazaLimpia\",\"PuntajeCatador\",\"PuntajeTotal\"\n",
    "]\n",
    "\n",
    "df_R_PCA = df[cols_R_PCA]\n",
    "\n",
    "# le script doit avoir une colonne appelée (peu importe le nom) de catégories. A spécifier dans R. Ici c'est \"Variedad\"\n",
    "\n",
    "print(\"\\nSuppression des colonnes avec des éventuelles données manquantes....\")\n",
    "df_R_PCA = df_R_PCA.dropna(axis=1, how='any')\n",
    "\n",
    "\n",
    "print(\"\\nDataset pour R avec shape de {}\".format(df_R_PCA.shape))\n",
    "\n",
    "df_R_PCA.to_csv(\"./data/DataRisaralda_v2_R_PCA_utf-8.csv\", sep=',', encoding='utf-8')\n",
    "\n",
    "print(\"\\n\\nFichier DataRisaralda_v2_R_PCA_utf-8.csv créé\")"
   ]
  },
  {
   "cell_type": "code",
   "execution_count": null,
   "metadata": {
    "collapsed": true
   },
   "outputs": [],
   "source": []
  },
  {
   "cell_type": "code",
   "execution_count": null,
   "metadata": {
    "collapsed": true
   },
   "outputs": [],
   "source": []
  }
 ],
 "metadata": {
  "kernelspec": {
   "display_name": "Python 2",
   "language": "python",
   "name": "python2"
  },
  "language_info": {
   "codemirror_mode": {
    "name": "ipython",
    "version": 2
   },
   "file_extension": ".py",
   "mimetype": "text/x-python",
   "name": "python",
   "nbconvert_exporter": "python",
   "pygments_lexer": "ipython2",
   "version": "2.7.13"
  }
 },
 "nbformat": 4,
 "nbformat_minor": 2
}
