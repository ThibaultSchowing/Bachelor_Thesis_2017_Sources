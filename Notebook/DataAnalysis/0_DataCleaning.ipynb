{
 "cells": [
  {
   "cell_type": "markdown",
   "metadata": {},
   "source": [
    "# Nettoyage ou modification du dataset\n",
    "\n",
    "Passage de la version 1 à la version 2 (dynamique) \n",
    "Modification au besoin, ajout / suppression / modification des colonnes"
   ]
  },
  {
   "cell_type": "code",
   "execution_count": 1,
   "metadata": {
    "collapsed": true
   },
   "outputs": [],
   "source": [
    "import pandas as pd\n",
    "from datetime import *\n",
    "import numpy as np\n",
    "\n",
    "# Read the CSV file (utf-8 encoded)\n",
    "df = pd.read_csv('./data/DataRisaralda_v1_utf-8.csv', header=0, sep=',', index_col=0, parse_dates=False, encoding='utf-8')\n"
   ]
  },
  {
   "cell_type": "code",
   "execution_count": 2,
   "metadata": {
    "collapsed": false
   },
   "outputs": [],
   "source": [
    "try:\n",
    "    df.drop('Cedula', axis=1, inplace=True)\n",
    "except:\n",
    "    print(\"No such column\")\n",
    "\n",
    "try:\n",
    "    df.drop('Fecha Recpt', axis=1, inplace=True)\n",
    "except:\n",
    "    print(\"No such column\")\n",
    "    \n",
    "    \n",
    "try:\n",
    "    df.drop('Factor de Rendimiento', axis=1, inplace=True)\n",
    "except:\n",
    "    print(\"No such column\")    \n",
    "    "
   ]
  },
  {
   "cell_type": "code",
   "execution_count": 36,
   "metadata": {
    "collapsed": true
   },
   "outputs": [],
   "source": [
    "cols = ['Malla 17-18','Malla 14-16','Malla <13','Negros y vinagres','Broca','Broca de punto','Veteado','Mordido',\n",
    "         'Inmaduro','Flojo','Sobresecado','Arrugado','Aplastado','Cristalizado','Reposado','Granizo','Conchas',\n",
    "         'Partido','Ambar','Defectos totales','Humedad (%)','Merma (%)','Aroma-Fragancia',\n",
    "         'Acidez','Cuerpo','Sabor',\n",
    "         'Sabor residual','Dulzor','Uniformidad','Balance','Taza limpia','Puntaje catador','Puntaje Total',\n",
    "         'prec1','prec2','prec3','prec4','prec5','prec6','prec7','prec8','prec9','prec10','tmin1','tmin2','tmin3','tmin4','tmin5',\n",
    "         'tmin6','tmin7','tmin8','tmin9','tmin10','tmax1','tmax2','tmax3','tmax4','tmax5','tmax6','tmax7','tmax8','tmax9','tmax10',\n",
    "         'tmean1','tmean2','tmean3','tmean4','tmean5','tmean6','tmean7','tmean8','tmean9','tmean10','dtr1','dtr2','dtr3','dtr4',\n",
    "         'dtr5','dtr6','dtr7','dtr8','dtr9','dtr10']\n",
    "defectos = ['Negros y vinagres','Broca','Broca de punto','Veteado','Mordido',\n",
    "         'Inmaduro','Flojo','Sobresecado','Arrugado','Aplastado','Cristalizado','Reposado','Granizo','Conchas',\n",
    "         'Partido','Ambar']\n",
    "\n",
    "for index, row in df.iterrows():\n",
    "    date = datetime.strptime(str(row['Fecha Analysis']), '%Y-%m-%d %H:%M:%S')\n",
    "    df.set_value(index,'Fecha Analysis', date)"
   ]
  },
  {
   "cell_type": "markdown",
   "metadata": {},
   "source": [
    "# Ajout des moyennes sur les 10 mois de mesures"
   ]
  },
  {
   "cell_type": "code",
   "execution_count": 37,
   "metadata": {
    "collapsed": true
   },
   "outputs": [],
   "source": [
    "precs = ['prec1','prec2','prec3','prec4','prec5','prec6','prec7','prec8','prec9','prec10']\n",
    "tmins = ['tmin1','tmin2','tmin3','tmin4','tmin5','tmin6','tmin7','tmin8','tmin9','tmin10']\n",
    "tmaxs = ['tmax1','tmax2','tmax3','tmax4','tmax5','tmax6','tmax7','tmax8','tmax9','tmax10']\n",
    "tmeans = ['tmean1','tmean2','tmean3','tmean4','tmean5','tmean6','tmean7','tmean8','tmean9','tmean10']\n",
    "dtrs = ['dtr1','dtr2','dtr3','dtr4','dtr5','dtr6','dtr7','dtr8','dtr9','dtr10']\n",
    "\n",
    "# Moyenne sur les 10 mois de mesures\n",
    "\n",
    "df['PrecTotalAvg'] = 0\n",
    "df['TminTotalAvg'] = 0\n",
    "df['TmaxTotalAvg'] = 0\n",
    "df['TmeanTotalAvg'] = 0\n",
    "df['DtrTotalAvg'] = 0\n",
    "\n",
    "\n",
    "for index, row in df.iterrows():\n",
    "    \n",
    "    df.set_value(index,'PrecTotalAvg', row[precs].sum() / len(precs))\n",
    "    df.set_value(index,'TminTotalAvg', row[tmins].sum() / len(precs))\n",
    "    df.set_value(index,'TmaxTotalAvg', row[tmaxs].sum() / len(precs))\n",
    "    df.set_value(index,'TmeanTotalAvg', row[tmeans].sum() / len(precs))\n",
    "    df.set_value(index,'DtrTotalAvg', row[dtrs].sum() / len(precs))\n"
   ]
  },
  {
   "cell_type": "markdown",
   "metadata": {},
   "source": [
    "# Correction semi-manuelle des erreurs sur les points"
   ]
  },
  {
   "cell_type": "code",
   "execution_count": 48,
   "metadata": {
    "collapsed": false
   },
   "outputs": [
    {
     "name": "stdout",
     "output_type": "stream",
     "text": [
      "caca\n",
      "caca\n",
      "caca\n",
      "caca\n"
     ]
    }
   ],
   "source": [
    "catacionpts = ['Aroma-Fragancia','Acidez','Cuerpo','Sabor residual',\n",
    "               'Sabor','Dulzor','Uniformidad','Balance','Taza limpia','Puntaje catador']\n",
    "\n",
    "for index, row in df.iterrows():\n",
    "        if row['Puntaje Total'] > 100:\n",
    "            print index, row['Puntaje Total']\n",
    "            df.set_value(index, 'Puntaje catador', 6.9)\n",
    "            print row[catacionpts].sum()\n",
    "            \n",
    "            df.set_value(index, 'Puntaje Total', row[catacionpts].sum())\n",
    "\n",
    "for index, row in df.iterrows():\n",
    "        if row['Puntaje Total'] > 100:\n",
    "            print index, row['Puntaje Total']\n",
    "\n",
    "for index, row in df.iterrows():\n",
    "        if np.isnan(row['Acidez']) or np.isnan(row['Puntaje Total']):\n",
    "            print \"caca\"\n",
    "            df.set_value(index, catacionpts, 0)\n",
    "            df.set_value(index, 'Puntaje Total', 0)\n",
    "        if np.isnan(row['Defectos totales']):\n",
    "            df.set_value(index, 'Defectos totales', row[defectos].sum())"
   ]
  },
  {
   "cell_type": "code",
   "execution_count": 49,
   "metadata": {
    "collapsed": false
   },
   "outputs": [
    {
     "name": "stdout",
     "output_type": "stream",
     "text": [
      "<class 'pandas.core.series.Series'>\n",
      "Municipio \t\tTrue\n",
      "Vereda \t\tTrue\n",
      "Finca \t\tTrue\n",
      "SICA \t\tTrue\n",
      "CEDULA 1 \t\tFalse\n",
      "SICA 1 \t\tFalse\n",
      "REPRESENTA \t\tFalse\n",
      "VARIEDAD \t\tFalse\n",
      "CENT_X \t\tFalse\n",
      "CENT_Y \t\tFalse\n",
      "EPSG:3116_Y \t\tFalse\n",
      "EPSG:3116_X \t\tFalse\n",
      "ASNM \t\tFalse\n",
      "LUMINOSID \t\tFalse\n",
      "Fecha Analysis \t\tFalse\n",
      "Malla 17-18 \t\tTrue\n",
      "Malla 14-16 \t\tTrue\n",
      "Malla <13 \t\tTrue\n",
      "Negros y vinagres \t\tFalse\n",
      "Broca \t\tFalse\n",
      "Broca de punto \t\tFalse\n",
      "Veteado \t\tFalse\n",
      "Mordido \t\tTrue\n",
      "Inmaduro \t\tFalse\n",
      "Flojo \t\tFalse\n",
      "Sobresecado \t\tFalse\n",
      "Arrugado \t\tFalse\n",
      "Aplastado \t\tFalse\n",
      "Cristalizado \t\tFalse\n",
      "Reposado \t\tFalse\n",
      "Granizo \t\tFalse\n",
      "Conchas \t\tTrue\n",
      "Partido \t\tFalse\n",
      "Ambar \t\tTrue\n",
      "Defectos totales \t\tFalse\n",
      "Quaker (Nb Granos) \t\tTrue\n",
      "Fluorescentes (Nb Granos) \t\tTrue\n",
      "Pergamino \t\tTrue\n",
      "Almendra \t\tTrue\n",
      "AlmendraTotal \t\tTrue\n",
      "AlmendraSana \t\tTrue\n",
      "UV \t\tTrue\n",
      "Olor \t\tTrue\n",
      "Humedad (%) \t\tFalse\n",
      "Merma (%) \t\tFalse\n",
      "Aroma-Fragancia \t\tFalse\n",
      "Acidez \t\tFalse\n",
      "Cuerpo \t\tFalse\n",
      "Sabor \t\tFalse\n",
      "Sabor residual \t\tFalse\n",
      "Dulzor \t\tFalse\n",
      "Uniformidad \t\tFalse\n",
      "Balance \t\tFalse\n",
      "Taza limpia \t\tFalse\n",
      "Puntaje catador \t\tFalse\n",
      "Puntaje Total \t\tFalse\n",
      "Taza 1 \t\tFalse\n",
      "Taza 2 \t\tTrue\n",
      "Taza 3 \t\tFalse\n",
      "Taza 4 \t\tTrue\n",
      "Taza 5 \t\tTrue\n",
      "prec1 \t\tFalse\n",
      "prec2 \t\tFalse\n",
      "prec3 \t\tFalse\n",
      "prec4 \t\tFalse\n",
      "prec5 \t\tFalse\n",
      "prec6 \t\tFalse\n",
      "prec7 \t\tFalse\n",
      "prec8 \t\tFalse\n",
      "prec9 \t\tFalse\n",
      "prec10 \t\tFalse\n",
      "tmin1 \t\tFalse\n",
      "tmin2 \t\tFalse\n",
      "tmin3 \t\tFalse\n",
      "tmin4 \t\tFalse\n",
      "tmin5 \t\tFalse\n",
      "tmin6 \t\tFalse\n",
      "tmin7 \t\tFalse\n",
      "tmin8 \t\tFalse\n",
      "tmin9 \t\tFalse\n",
      "tmin10 \t\tFalse\n",
      "tmax1 \t\tFalse\n",
      "tmax2 \t\tFalse\n",
      "tmax3 \t\tFalse\n",
      "tmax4 \t\tFalse\n",
      "tmax5 \t\tFalse\n",
      "tmax6 \t\tFalse\n",
      "tmax7 \t\tFalse\n",
      "tmax8 \t\tFalse\n",
      "tmax9 \t\tFalse\n",
      "tmax10 \t\tFalse\n",
      "tmean1 \t\tFalse\n",
      "tmean2 \t\tFalse\n",
      "tmean3 \t\tFalse\n",
      "tmean4 \t\tFalse\n",
      "tmean5 \t\tFalse\n",
      "tmean6 \t\tFalse\n",
      "tmean7 \t\tFalse\n",
      "tmean8 \t\tFalse\n",
      "tmean9 \t\tFalse\n",
      "tmean10 \t\tFalse\n",
      "dtr1 \t\tFalse\n",
      "dtr2 \t\tFalse\n",
      "dtr3 \t\tFalse\n",
      "dtr4 \t\tFalse\n",
      "dtr5 \t\tFalse\n",
      "dtr6 \t\tFalse\n",
      "dtr7 \t\tFalse\n",
      "dtr8 \t\tFalse\n",
      "dtr9 \t\tFalse\n",
      "dtr10 \t\tFalse\n",
      "year \t\tFalse\n",
      "PrecTotalAvg \t\tFalse\n",
      "TminTotalAvg \t\tFalse\n",
      "TmaxTotalAvg \t\tFalse\n",
      "TmeanTotalAvg \t\tFalse\n",
      "DtrTotalAvg \t\tFalse\n",
      "Soil Profile \t\tFalse\n",
      "Unidad_c_1 \t\tFalse\n",
      "franco_L1 \t\tFalse\n",
      "arcilloso_L1 \t\tFalse\n",
      "limoso_L1 \t\tFalse\n",
      "arenoso_L1 \t\tFalse\n",
      "cascajoso_L1 \t\tFalse\n",
      "franco_L2 \t\tFalse\n",
      "arcilloso_L2 \t\tFalse\n",
      "limoso_L2 \t\tFalse\n",
      "arenoso_L2 \t\tFalse\n",
      "cascajoso_L2 \t\tFalse\n",
      "franco_L3 \t\tFalse\n",
      "arcilloso_L3 \t\tFalse\n",
      "limoso_L3 \t\tFalse\n",
      "arenoso_L3 \t\tFalse\n",
      "cascajoso_L3 \t\tFalse\n",
      "pH_avg \t\tFalse\n",
      "org_avg \t\tFalse\n"
     ]
    }
   ],
   "source": [
    "print type(df.isnull().any())\n",
    "\n",
    "for a, e in df.isnull().any().iteritems():\n",
    "    print a, \"\\t\\t\", e"
   ]
  },
  {
   "cell_type": "markdown",
   "metadata": {},
   "source": [
    "# Suppression des doublons\n",
    "\n",
    "Basé sur la date de test et le numéro SICA"
   ]
  },
  {
   "cell_type": "code",
   "execution_count": 50,
   "metadata": {
    "collapsed": true
   },
   "outputs": [],
   "source": [
    "df = df.drop_duplicates(subset=['Fecha Analysis', 'SICA 1'], keep='first', inplace=False)"
   ]
  },
  {
   "cell_type": "code",
   "execution_count": 51,
   "metadata": {
    "collapsed": true
   },
   "outputs": [],
   "source": [
    "#df[cols] = df[cols].apply(pd.to_numeric)"
   ]
  },
  {
   "cell_type": "code",
   "execution_count": null,
   "metadata": {
    "collapsed": false
   },
   "outputs": [],
   "source": []
  },
  {
   "cell_type": "code",
   "execution_count": null,
   "metadata": {
    "collapsed": true
   },
   "outputs": [],
   "source": []
  },
  {
   "cell_type": "code",
   "execution_count": null,
   "metadata": {
    "collapsed": true
   },
   "outputs": [],
   "source": []
  },
  {
   "cell_type": "code",
   "execution_count": 53,
   "metadata": {
    "collapsed": false
   },
   "outputs": [],
   "source": [
    "df.to_csv(\"./data/DataRisaralda_v2_utf-8.csv\", sep=',', encoding='utf-8')\n",
    "df.to_csv(\"./data/DataRisaralda_v2_iso-8859-1.csv\", sep=',', encoding='iso-8859-1')"
   ]
  },
  {
   "cell_type": "code",
   "execution_count": null,
   "metadata": {
    "collapsed": true
   },
   "outputs": [],
   "source": []
  },
  {
   "cell_type": "code",
   "execution_count": null,
   "metadata": {
    "collapsed": true
   },
   "outputs": [],
   "source": []
  }
 ],
 "metadata": {
  "kernelspec": {
   "display_name": "Python 2",
   "language": "python",
   "name": "python2"
  },
  "language_info": {
   "codemirror_mode": {
    "name": "ipython",
    "version": 2
   },
   "file_extension": ".py",
   "mimetype": "text/x-python",
   "name": "python",
   "nbconvert_exporter": "python",
   "pygments_lexer": "ipython2",
   "version": "2.7.13"
  }
 },
 "nbformat": 4,
 "nbformat_minor": 2
}
