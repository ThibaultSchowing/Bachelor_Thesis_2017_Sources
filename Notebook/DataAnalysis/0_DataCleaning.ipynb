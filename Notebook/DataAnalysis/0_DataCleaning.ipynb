{
 "cells": [
  {
   "cell_type": "markdown",
   "metadata": {},
   "source": [
    "    Bachelor Thesis 2017 - Coffee - Climat - Soils data analysis\n",
    "    \n",
    "    HEIG-VD - University of Applied Sciences of Western Switzerland\n",
    "    Route de Cheseaux 1, 1400 Yverdon-les-Bains, Switzerland\n",
    "    \n",
    "    International Center for Tropical Agriculture (CIAT)\n",
    "    Headquarters and Regional Office for Latin America and the Caribbean, \n",
    "    Km 17 Recta Cali-Palmira │C.P. 763537 │ A.A. 6713  Cali, Colombia\n",
    "\n",
    "    \n",
    "    Student: Thibault Schowing\n",
    "    Teacher: Carlos Andrés Peña\n",
    "    \n",
    "     \n",
    "\n",
    "\n",
    "# Nettoyage ou modification spécifiques du dataset\n",
    "\n",
    "\n",
    "\n",
    "## Création d'une version 2 et de datasets customs\n",
    "\n",
    "Passage de la version 1 à la version 2 du set de données\n",
    "\n",
    "Modification au besoin, ajout / suppression / modification des colonnes\n",
    "Suppression des doublons\n",
    "Pas de tolérence aux données manquantes"
   ]
  },
  {
   "cell_type": "code",
   "execution_count": 1,
   "metadata": {
    "collapsed": false
   },
   "outputs": [],
   "source": [
    "import pandas as pd\n",
    "from datetime import *\n",
    "import numpy as np\n",
    "from datetime import datetime\n",
    "\n",
    "def classCoffee(points):\n",
    "    if points >= 90:\n",
    "        # Outstanding\n",
    "        return 1\n",
    "    if points <90 and points >= 85:\n",
    "        # Excellent\n",
    "        return 2\n",
    "    if points <85 and points >= 80:\n",
    "        # Very Good\n",
    "        return 3 \n",
    "    else:\n",
    "        return 4\n",
    "\n",
    "\n",
    "\n",
    "# Transofrm orientation in categorical\n",
    "# Normal = convert to category\n",
    "# Not normal = return the same degrees\n",
    "\n",
    "def convert_orientation(deg, normal = False):\n",
    "    if(not normal):\n",
    "        if deg == 0:\n",
    "            return np.nan\n",
    "        else:\n",
    "            return deg\n",
    "        \n",
    "    if ((deg>0 and deg<22.5) or (deg > 337.5)):\n",
    "        return 1\n",
    "    if (deg > 22.5 and deg <= 67.5):\n",
    "        return 2\n",
    "    if (deg > 67.5 and deg <= 112.5):\n",
    "        return 3\n",
    "    if (deg > 112.5 and deg <= 157.5):\n",
    "        return 4\n",
    "    if (deg > 157.5 and deg <= 202.5):\n",
    "        return 5\n",
    "    if (deg > 202.5 and deg <= 247.5):\n",
    "        return 6\n",
    "    if (deg > 247.5 and deg <= 292.5):\n",
    "        return 7\n",
    "    if (deg > 292.5 and deg <= 337.5):\n",
    "        return 8\n",
    "    else:\n",
    "        return np.nan\n",
    "\n",
    "def convert_slope(slope):\n",
    "    if slope == 0:\n",
    "        return np.nan\n",
    "    else:\n",
    "        return slope\n",
    "\n",
    "def convert(lum):\n",
    "    if lum == \"Sol\":\n",
    "        return 2\n",
    "    elif lum == \"Semi Sombra\":\n",
    "        return 1\n",
    "    elif lum == \"Sombra\":\n",
    "        return 0\n",
    "    else:\n",
    "        return 0\n",
    "\n",
    "\n",
    "\n",
    "def days_between(d1, d2):\n",
    "    d1 = datetime.strptime(d1, \"%Y-%m-%d %H:%M:%S\")\n",
    "    d2 = datetime.strptime(d2, \"%Y-%m-%d %H:%M:%S\")\n",
    "    return abs((d2 - d1).days)"
   ]
  },
  {
   "cell_type": "code",
   "execution_count": 2,
   "metadata": {
    "collapsed": false
   },
   "outputs": [
    {
     "name": "stdout",
     "output_type": "stream",
     "text": [
      "(975, 139)\n"
     ]
    }
   ],
   "source": [
    "# Read the CSV file (utf-8 encoded)\n",
    "df = pd.read_csv('./data/DataRisaralda_v1_utf-8.csv', header=0, sep=',', index_col=0, parse_dates=False, encoding='utf-8')\n",
    "print(df.shape)\n",
    "\n",
    "\n"
   ]
  },
  {
   "cell_type": "code",
   "execution_count": 3,
   "metadata": {
    "collapsed": false
   },
   "outputs": [
    {
     "name": "stdout",
     "output_type": "stream",
     "text": [
      "[u'Sol' u'Semi Sombra' u'Sombra']\n"
     ]
    }
   ],
   "source": [
    "\n",
    "# Drop useless ok non-clean columns\n",
    "\n",
    "try:\n",
    "    df.drop('Cedula', axis=1, inplace=True)\n",
    "except:\n",
    "    print(\"No such column\")\n",
    "    \n",
    "\n",
    "try:\n",
    "    df.drop('Fecha Recpt', axis=1, inplace=True)\n",
    "except:\n",
    "    print(\"No such column\")\n",
    "    \n",
    "    \n",
    "try:\n",
    "    df.drop('Factor de Rendimiento', axis=1, inplace=True)\n",
    "except:\n",
    "    print(\"No such column\")    \n",
    "\n",
    "# Not complete\n",
    "try:\n",
    "    df.drop('SICA', axis=1, inplace=True)\n",
    "except:\n",
    "    print(\"No such column\") \n",
    "\n",
    "    \n",
    "try:\n",
    "    df.drop('Quaker (Nb Granos)', axis=1, inplace=True)\n",
    "except:\n",
    "    print(\"No such column\") \n",
    "try:\n",
    "    df.drop('Fluorescentes (Nb Granos)', axis=1, inplace=True)\n",
    "except:\n",
    "    print(\"No such column\") \n",
    "\n",
    "\n",
    "\n",
    "    \n",
    "\n",
    "try:\n",
    "    df.drop('Malla 17-18', axis=1, inplace=True)\n",
    "except:\n",
    "    print(\"No such column\") \n",
    "try:\n",
    "    df.drop('Malla 14-16', axis=1, inplace=True)\n",
    "except:\n",
    "    print(\"No such column\") \n",
    "try:\n",
    "    df.drop('Malla <13', axis=1, inplace=True)\n",
    "except:\n",
    "    print(\"No such column\") \n",
    "\n",
    "\n",
    "\n",
    "try:\n",
    "    df.drop('REPRESENTA', axis=1, inplace=True)\n",
    "except:\n",
    "    print(\"No such column\")\n",
    "    \n",
    "    \n",
    "# Rename columns (mistakes and spaces removal) - other renaming follows...\n",
    "# \n",
    "df.rename(columns={'EPSG:3116_X': 'EPSG:4326_X', 'EPSG:3116_Y': 'EPSG:4326_Y'}, inplace=True)\n",
    "df.rename(columns={'CENT_X': 'EPSG:3116_X', 'CENT_Y': 'EPSG:3116_Y'}, inplace=True)\n",
    "df.rename(columns={'LUMINOSID': 'Luminosidad'}, inplace=True)\n",
    "\n",
    "\n",
    "\n",
    "\n",
    "# Format entries\n",
    "\n",
    "for index, row in df.iterrows():\n",
    "    date = datetime.strptime(str(row['Fecha Analysis']), '%Y-%m-%d %H:%M:%S')\n",
    "    df.set_value(index,'Fecha Analysis', date)\n",
    "\n",
    "\n",
    "\n",
    "\n",
    "# Print the different styles of luminosity\n",
    "\n",
    "print df.Luminosidad.unique()\n",
    "\n",
    "# Conversion in numerical values\n",
    "for index, row in df.iterrows():\n",
    "    df.set_value(index, 'Luminosidad', convert(row['Luminosidad']))\n",
    "    "
   ]
  },
  {
   "cell_type": "code",
   "execution_count": 4,
   "metadata": {
    "collapsed": true
   },
   "outputs": [],
   "source": [
    "cols = ['Malla 17-18','Malla 14-16','Malla <13','Negros y vinagres','Broca','Broca de punto','Veteado','Mordido',\n",
    "         'Inmaduro','Flojo','Sobresecado','Arrugado','Aplastado','Cristalizado','Reposado','Granizo','Conchas',\n",
    "         'Partido','Ambar','Defectos totales','Humedad (%)','Merma (%)','Aroma-Fragancia',\n",
    "         'Acidez','Cuerpo','Sabor',\n",
    "         'Sabor residual','Dulzor','Uniformidad','Balance','Taza limpia','Puntaje catador','Puntaje Total',\n",
    "         'prec1','prec2','prec3','prec4','prec5','prec6','prec7','prec8','prec9','prec10','tmin1','tmin2','tmin3','tmin4','tmin5',\n",
    "         'tmin6','tmin7','tmin8','tmin9','tmin10','tmax1','tmax2','tmax3','tmax4','tmax5','tmax6','tmax7','tmax8','tmax9','tmax10',\n",
    "         'tmean1','tmean2','tmean3','tmean4','tmean5','tmean6','tmean7','tmean8','tmean9','tmean10','dtr1','dtr2','dtr3','dtr4',\n",
    "         'dtr5','dtr6','dtr7','dtr8','dtr9','dtr10']\n",
    "defectos = ['Negros y vinagres','Broca','Broca de punto','Veteado','Mordido',\n",
    "         'Inmaduro','Flojo','Sobresecado','Arrugado','Aplastado','Cristalizado','Reposado','Granizo','Conchas',\n",
    "         'Partido','Ambar']\n",
    "\n"
   ]
  },
  {
   "cell_type": "markdown",
   "metadata": {},
   "source": [
    "## Ajout des moyennes sur les 10 mois de mesures"
   ]
  },
  {
   "cell_type": "code",
   "execution_count": 5,
   "metadata": {
    "collapsed": true
   },
   "outputs": [],
   "source": [
    "precs = ['prec1','prec2','prec3','prec4','prec5','prec6','prec7','prec8','prec9','prec10']\n",
    "tmins = ['tmin1','tmin2','tmin3','tmin4','tmin5','tmin6','tmin7','tmin8','tmin9','tmin10']\n",
    "tmaxs = ['tmax1','tmax2','tmax3','tmax4','tmax5','tmax6','tmax7','tmax8','tmax9','tmax10']\n",
    "tmeans = ['tmean1','tmean2','tmean3','tmean4','tmean5','tmean6','tmean7','tmean8','tmean9','tmean10']\n",
    "dtrs = ['dtr1','dtr2','dtr3','dtr4','dtr5','dtr6','dtr7','dtr8','dtr9','dtr10']\n",
    "\n",
    "# Moyenne sur les 10 mois de mesures\n",
    "\n",
    "df['PrecTotalAvg'] = 0.\n",
    "df['TminTotalAvg'] = 0.\n",
    "df['TmaxTotalAvg'] = 0.\n",
    "df['TmeanTotalAvg'] = 0.\n",
    "df['DtrTotalAvg'] = 0.\n",
    "\n",
    "df['PrecTotal'] = 0.\n",
    "df['TminTotal'] = 0.\n",
    "df['TmaxTotal'] = 0.\n",
    "df['TmeanTotal'] = 0.\n",
    "df['DtrTotal'] = 0.\n",
    "\n",
    "\n",
    "for index, row in df.iterrows():\n",
    "    \n",
    "    df.set_value(index,'PrecTotalAvg', row[precs].sum() / len(precs))\n",
    "    df.set_value(index,'TminTotalAvg', row[tmins].sum() / len(precs))\n",
    "    df.set_value(index,'TmaxTotalAvg', row[tmaxs].sum() / len(precs))\n",
    "    df.set_value(index,'TmeanTotalAvg', row[tmeans].sum() / len(precs))\n",
    "    df.set_value(index,'DtrTotalAvg', row[dtrs].sum() / len(precs))\n",
    "    \n",
    "    df.set_value(index,'PrecTotal', row[precs].sum())\n",
    "    df.set_value(index,'TminTotal', row[tmins].sum())\n",
    "    df.set_value(index,'TmaxTotal', row[tmaxs].sum())\n",
    "    df.set_value(index,'TmeanTotal', row[tmeans].sum())\n",
    "    df.set_value(index,'DtrTotal', row[dtrs].sum())\n"
   ]
  },
  {
   "cell_type": "markdown",
   "metadata": {},
   "source": [
    "## Correction semi-manuelle des erreurs sur les points"
   ]
  },
  {
   "cell_type": "code",
   "execution_count": 6,
   "metadata": {
    "collapsed": false
   },
   "outputs": [],
   "source": [
    "catacionpts = ['Aroma-Fragancia','Acidez','Cuerpo','Sabor residual',\n",
    "               'Sabor','Dulzor','Uniformidad','Balance','Taza limpia','Puntaje catador']\n",
    "\n",
    "for index, row in df.iterrows():\n",
    "        if row['Puntaje Total'] > 100:\n",
    "            print index, row['Puntaje Total']\n",
    "            df.set_value(index, 'Puntaje catador', 6.9)\n",
    "            print row[catacionpts].sum()\n",
    "            \n",
    "            df.set_value(index, 'Puntaje Total', row[catacionpts].sum())\n",
    "\n",
    "for index, row in df.iterrows():\n",
    "        if row['Puntaje Total'] > 100:\n",
    "            print index, row['Puntaje Total']\n",
    "\n",
    "for index, row in df.iterrows():\n",
    "        if np.isnan(row['Acidez']) or np.isnan(row['Puntaje Total']):\n",
    "            df.set_value(index, catacionpts, 0)\n",
    "            df.set_value(index, 'Puntaje Total', 0)\n",
    "        if np.isnan(row['Defectos totales']):\n",
    "            df.set_value(index, 'Defectos totales', row[defectos].sum())\n",
    "            \n"
   ]
  },
  {
   "cell_type": "markdown",
   "metadata": {},
   "source": [
    "## Convertion SICA"
   ]
  },
  {
   "cell_type": "code",
   "execution_count": 7,
   "metadata": {
    "collapsed": false
   },
   "outputs": [
    {
     "name": "stdout",
     "output_type": "stream",
     "text": [
      "float64\n",
      "object\n"
     ]
    }
   ],
   "source": [
    "print df['SICA 1'].dtype\n",
    "\n",
    "df['SICA 1'] = df['SICA 1'].astype(np.int64)\n",
    "df['SICA 1'] = df['SICA 1'].astype(str)\n",
    "print df['SICA 1'].dtype\n",
    "\n"
   ]
  },
  {
   "cell_type": "markdown",
   "metadata": {},
   "source": [
    "## Suppression des doublons\n",
    "\n",
    "Basé sur la date de test et le numéro SICA"
   ]
  },
  {
   "cell_type": "code",
   "execution_count": 8,
   "metadata": {
    "collapsed": false
   },
   "outputs": [
    {
     "name": "stdout",
     "output_type": "stream",
     "text": [
      "(767, 134)\n"
     ]
    }
   ],
   "source": [
    "df = df.drop_duplicates(subset=['Fecha Analysis', 'SICA 1'], keep='first', inplace=False)\n",
    "df = df.reset_index(drop=True)\n",
    "print(df.shape)"
   ]
  },
  {
   "cell_type": "markdown",
   "metadata": {
    "collapsed": true
   },
   "source": [
    "## Suppression des dégustations avec même SICA à moins de 3 mois d'écart\n",
    "\n",
    "    Voir: analyse de l'occurence des cafés dans 2_CoffeDataAnalysis\n"
   ]
  },
  {
   "cell_type": "code",
   "execution_count": 9,
   "metadata": {
    "collapsed": false
   },
   "outputs": [
    {
     "name": "stdout",
     "output_type": "stream",
     "text": [
      "1    631\n",
      "2    118\n",
      "3     18\n",
      "Name: Occurence, dtype: int64\n"
     ]
    }
   ],
   "source": [
    "# Certains cafés on été testés plusieurs fois, parfois même 2 fois dans la même année mais à plusieurs mois d'intervale. \n",
    "\n",
    "dOccurences = df['SICA 1'].value_counts().to_dict() #.to_frame(name='Occurence')\n",
    "\n",
    "dfOccurences = pd.DataFrame.from_dict(dOccurences, orient='index')\n",
    "\n",
    "# Ajout d'une colonne contenant le nombre d'occurence\n",
    "\n",
    "df['Occurence'] = 0\n",
    "\n",
    "# Fonctionne pas dans datacleaning...?\n",
    "#df['SICA 1'] = df['SICA 1'].astype(str)\n",
    "\n",
    "for index, row in df.iterrows():\n",
    "    df.set_value(index, 'Occurence', dOccurences.get(str(row['SICA 1'])))\n",
    "\n",
    "print df['Occurence'].value_counts()\n",
    "\n",
    "\n",
    "#On prend ceux qui ont deux dates trop proches (pour 3, voir plus tard)\n",
    "df_1 = df[df['Occurence'] == 2]\n",
    "\n",
    "fields = ['SICA 1','Fecha Analysis','year']\n",
    "\n",
    "\n",
    "\n",
    "\n",
    "df_1 = df_1[fields].sort_values(['SICA 1'])"
   ]
  },
  {
   "cell_type": "code",
   "execution_count": 10,
   "metadata": {
    "collapsed": false
   },
   "outputs": [
    {
     "name": "stdout",
     "output_type": "stream",
     "text": [
      "Sica1 6604502461 - Sica2 6604502461\n",
      "Date1 2016-07-22 00:00:00 - Date2 2016-07-17 00:00:00\n",
      "Sica1 6608800780 - Sica2 6608800780\n",
      "Date1 2016-07-22 00:00:00 - Date2 2016-05-24 00:00:00\n",
      "Sica1 6608800799 - Sica2 6608800799\n",
      "Date1 2016-07-25 00:00:00 - Date2 2016-09-14 00:00:00\n",
      "Sica1 6608800899 - Sica2 6608800899\n",
      "Date1 2016-07-22 00:00:00 - Date2 2016-07-24 00:00:00\n",
      "Sica1 6608800959 - Sica2 6608800959\n",
      "Date1 2016-07-24 00:00:00 - Date2 2016-07-21 00:00:00\n",
      "Sica1 6617000764 - Sica2 6617000764\n",
      "Date1 2016-05-16 00:00:00 - Date2 2016-07-22 00:00:00\n",
      "Sica1 6638300445 - Sica2 6638300445\n",
      "Date1 2016-06-23 00:00:00 - Date2 2016-06-02 00:00:00\n",
      "Sica1 6644000388 - Sica2 6644000388\n",
      "Date1 2016-07-22 00:00:00 - Date2 2016-06-23 00:00:00\n",
      "Sica1 6644000596 - Sica2 6644000596\n",
      "Date1 2016-07-22 00:00:00 - Date2 2016-05-21 00:00:00\n",
      "Sica1 6644001113 - Sica2 6644001113\n",
      "Date1 2016-07-22 00:00:00 - Date2 2016-05-16 00:00:00\n",
      "Sica1 6645600841 - Sica2 6645600841\n",
      "Date1 2011-12-07 00:00:00 - Date2 2011-12-29 00:00:00\n",
      "Sica1 6659400046 - Sica2 6659400046\n",
      "Date1 2016-07-22 00:00:00 - Date2 2016-08-02 00:00:00\n",
      "Sica1 6659401208 - Sica2 6659401208\n",
      "Date1 2016-08-02 00:00:00 - Date2 2016-07-22 00:00:00\n",
      "Sica1 6659402340 - Sica2 6659402340\n",
      "Date1 2016-07-22 00:00:00 - Date2 2016-05-16 00:00:00\n",
      "Sica1 6659402717 - Sica2 6659402717\n",
      "Date1 2016-05-20 00:00:00 - Date2 2016-07-22 00:00:00\n",
      "Sica1 6659404615 - Sica2 6659404615\n",
      "Date1 2016-10-27 00:00:00 - Date2 2016-10-28 00:00:00\n",
      "Sica1 6668700061 - Sica2 6668700061\n",
      "Date1 2016-05-18 00:00:00 - Date2 2016-06-22 00:00:00\n",
      "Sica1 6668700163 - Sica2 6668700163\n",
      "Date1 2016-06-22 00:00:00 - Date2 2016-09-19 00:00:00\n",
      "Sica1 6668700165 - Sica2 6668700165\n",
      "Date1 2016-06-22 00:00:00 - Date2 2016-05-14 00:00:00\n",
      "Sica1 6668700738 - Sica2 6668700738\n",
      "Date1 2016-06-22 00:00:00 - Date2 2016-09-19 00:00:00\n",
      "Sica1 6668700742 - Sica2 6668700742\n",
      "Date1 2016-06-23 00:00:00 - Date2 2016-05-19 00:00:00\n",
      "[566, 368, 751, 367, 372, 671, 705, 695, 694, 693, 251, 519, 474, 700, 485, 719, 403, 454, 702, 448, 704]\n"
     ]
    }
   ],
   "source": [
    "item = 1\n",
    "oldDate = 1\n",
    "todel = []\n",
    "\n",
    "for index, row in df_1.iterrows():\n",
    "    \n",
    "    if item == 1:\n",
    "        item = 2\n",
    "        firstDate = row['Fecha Analysis']\n",
    "        firstsica = row['SICA 1']\n",
    "        continue\n",
    "    if item == 2:\n",
    "        secondDate = row['Fecha Analysis']\n",
    "        secondsica = row['SICA 1']\n",
    "        space = days_between(str(firstDate), str(secondDate))\n",
    "        if space < 90:\n",
    "            todel.append(index)\n",
    "            print(\"Sica1 {} - Sica2 {}\".format(firstsica,secondsica))\n",
    "            print(\"Date1 {} - Date2 {}\".format(firstDate,secondDate))\n",
    "        item = 1\n",
    "\n",
    "print todel"
   ]
  },
  {
   "cell_type": "code",
   "execution_count": 11,
   "metadata": {
    "collapsed": false
   },
   "outputs": [
    {
     "name": "stdout",
     "output_type": "stream",
     "text": [
      "(746, 135)\n"
     ]
    }
   ],
   "source": [
    "df = df.drop(todel)\n",
    "todel = []\n",
    "df = df.reset_index(drop=True)\n",
    "print df.shape"
   ]
  },
  {
   "cell_type": "markdown",
   "metadata": {},
   "source": [
    "Elimination manuelle des 6 cafés se répéttant 3x (il y en a 6) - si possible en laisser 2, toujours avec la règle des 3 mois d'écart sinon éliminer le plus ancien. "
   ]
  },
  {
   "cell_type": "code",
   "execution_count": 12,
   "metadata": {
    "collapsed": false
   },
   "outputs": [
    {
     "data": {
      "text/html": [
       "<div>\n",
       "<table border=\"1\" class=\"dataframe\">\n",
       "  <thead>\n",
       "    <tr style=\"text-align: right;\">\n",
       "      <th></th>\n",
       "      <th>SICA 1</th>\n",
       "      <th>Fecha Analysis</th>\n",
       "    </tr>\n",
       "  </thead>\n",
       "  <tbody>\n",
       "    <tr>\n",
       "      <th>729</th>\n",
       "      <td>6608800200</td>\n",
       "      <td>2016-09-14 00:00:00</td>\n",
       "    </tr>\n",
       "    <tr>\n",
       "      <th>682</th>\n",
       "      <td>6608800200</td>\n",
       "      <td>2016-06-04 00:00:00</td>\n",
       "    </tr>\n",
       "    <tr>\n",
       "      <th>379</th>\n",
       "      <td>6608800200</td>\n",
       "      <td>2016-07-22 00:00:00</td>\n",
       "    </tr>\n",
       "    <tr>\n",
       "      <th>136</th>\n",
       "      <td>6608800488</td>\n",
       "      <td>2011-11-30 00:00:00</td>\n",
       "    </tr>\n",
       "    <tr>\n",
       "      <th>367</th>\n",
       "      <td>6608800488</td>\n",
       "      <td>2016-07-24 00:00:00</td>\n",
       "    </tr>\n",
       "    <tr>\n",
       "      <th>382</th>\n",
       "      <td>6608800488</td>\n",
       "      <td>2016-07-22 00:00:00</td>\n",
       "    </tr>\n",
       "    <tr>\n",
       "      <th>352</th>\n",
       "      <td>6608801616</td>\n",
       "      <td>2016-07-24 00:00:00</td>\n",
       "    </tr>\n",
       "    <tr>\n",
       "      <th>730</th>\n",
       "      <td>6608801616</td>\n",
       "      <td>2016-09-14 00:00:00</td>\n",
       "    </tr>\n",
       "    <tr>\n",
       "      <th>681</th>\n",
       "      <td>6608801616</td>\n",
       "      <td>2016-05-16 00:00:00</td>\n",
       "    </tr>\n",
       "    <tr>\n",
       "      <th>219</th>\n",
       "      <td>6644001444</td>\n",
       "      <td>2011-12-23 00:00:00</td>\n",
       "    </tr>\n",
       "    <tr>\n",
       "      <th>525</th>\n",
       "      <td>6644001444</td>\n",
       "      <td>2016-07-22 00:00:00</td>\n",
       "    </tr>\n",
       "    <tr>\n",
       "      <th>680</th>\n",
       "      <td>6644001444</td>\n",
       "      <td>2016-05-13 00:00:00</td>\n",
       "    </tr>\n",
       "    <tr>\n",
       "      <th>741</th>\n",
       "      <td>6668200070</td>\n",
       "      <td>2016-10-28 00:00:00</td>\n",
       "    </tr>\n",
       "    <tr>\n",
       "      <th>316</th>\n",
       "      <td>6668200070</td>\n",
       "      <td>2011-12-02 00:00:00</td>\n",
       "    </tr>\n",
       "    <tr>\n",
       "      <th>645</th>\n",
       "      <td>6668200070</td>\n",
       "      <td>2016-07-22 00:00:00</td>\n",
       "    </tr>\n",
       "    <tr>\n",
       "      <th>399</th>\n",
       "      <td>6668701219</td>\n",
       "      <td>2016-06-22 00:00:00</td>\n",
       "    </tr>\n",
       "    <tr>\n",
       "      <th>342</th>\n",
       "      <td>6668701219</td>\n",
       "      <td>2011-12-28 00:00:00</td>\n",
       "    </tr>\n",
       "    <tr>\n",
       "      <th>391</th>\n",
       "      <td>6668701219</td>\n",
       "      <td>2016-07-22 00:00:00</td>\n",
       "    </tr>\n",
       "  </tbody>\n",
       "</table>\n",
       "</div>"
      ],
      "text/plain": [
       "         SICA 1       Fecha Analysis\n",
       "729  6608800200  2016-09-14 00:00:00\n",
       "682  6608800200  2016-06-04 00:00:00\n",
       "379  6608800200  2016-07-22 00:00:00\n",
       "136  6608800488  2011-11-30 00:00:00\n",
       "367  6608800488  2016-07-24 00:00:00\n",
       "382  6608800488  2016-07-22 00:00:00\n",
       "352  6608801616  2016-07-24 00:00:00\n",
       "730  6608801616  2016-09-14 00:00:00\n",
       "681  6608801616  2016-05-16 00:00:00\n",
       "219  6644001444  2011-12-23 00:00:00\n",
       "525  6644001444  2016-07-22 00:00:00\n",
       "680  6644001444  2016-05-13 00:00:00\n",
       "741  6668200070  2016-10-28 00:00:00\n",
       "316  6668200070  2011-12-02 00:00:00\n",
       "645  6668200070  2016-07-22 00:00:00\n",
       "399  6668701219  2016-06-22 00:00:00\n",
       "342  6668701219  2011-12-28 00:00:00\n",
       "391  6668701219  2016-07-22 00:00:00"
      ]
     },
     "execution_count": 12,
     "metadata": {},
     "output_type": "execute_result"
    }
   ],
   "source": [
    "df_2 = df[df['Occurence'] == 3].sort_values(['SICA 1'])\n",
    "cols = ['SICA 1','Fecha Analysis']\n",
    "df_2[cols]"
   ]
  },
  {
   "cell_type": "code",
   "execution_count": 13,
   "metadata": {
    "collapsed": false
   },
   "outputs": [
    {
     "name": "stdout",
     "output_type": "stream",
     "text": [
      "(746, 135)\n"
     ]
    }
   ],
   "source": [
    "toDel = [379,382,352,680,399]\n",
    "df = df.drop(todel)\n",
    "todel = []\n",
    "df = df.reset_index(drop=True)\n",
    "print df.shape"
   ]
  },
  {
   "cell_type": "markdown",
   "metadata": {},
   "source": [
    "## Compact texture"
   ]
  },
  {
   "cell_type": "code",
   "execution_count": 14,
   "metadata": {
    "collapsed": true
   },
   "outputs": [],
   "source": [
    "francos = [\"franco_L1\",\"franco_L2\",\"franco_L3\"]\n",
    "arcillosos = [\"arcilloso_L1\",\"arcilloso_L2\",\"arcilloso_L3\"]\n",
    "limosos = [\"limoso_L1\",\"limoso_L2\",\"limoso_L3\"]\n",
    "arenosos = [\"arenoso_L1\",\"arenoso_L2\",\"arenoso_L3\"]\n",
    "cascajosos = [\"cascajoso_L1\",\"cascajoso_L2\",\"cascajoso_L3\"]\n",
    "\n",
    "# Ajout de colonnes pour résumer la texture du sol.\n",
    "df[\"Franco\"] = 0\n",
    "df[\"Arcilloso\"] = 0\n",
    "df[\"Limoso\"] = 0\n",
    "df[\"Arenoso\"] = 0\n",
    "df[\"Cascajoso\"] = 0\n",
    "\n",
    "\n",
    "for index, row in df.iterrows():\n",
    "    df.set_value(index, 'Franco', row[francos].sum())\n",
    "    df.set_value(index, 'Arcilloso', row[arcillosos].sum())\n",
    "    df.set_value(index, 'Limoso', row[limosos].sum())\n",
    "    df.set_value(index, 'Arenoso', row[arenosos].sum())\n",
    "    df.set_value(index, 'Cascajoso', row[cascajosos].sum())\n",
    "\n",
    "sols = [\"franco_L1\",\"arcilloso_L1\",\"limoso_L1\",\"arenoso_L1\",\"cascajoso_L1\",\n",
    "        \"franco_L2\",\"arcilloso_L2\",\"limoso_L2\",\"arenoso_L2\",\"cascajoso_L2\",\n",
    "        \"franco_L3\",\"arcilloso_L3\",\"limoso_L3\",\"arenoso_L3\",\"cascajoso_L3\"]\n",
    "\n",
    "\n",
    "for col in sols:\n",
    "    df.drop(col, axis=1, inplace=True)\n",
    "\n",
    "\n",
    "\n",
    "\n"
   ]
  },
  {
   "cell_type": "markdown",
   "metadata": {},
   "source": [
    "## Ajout d'une catégorie pour chaque cafés\n",
    "\n",
    "### Liste des catégories\n",
    "\n",
    "|Total Score|       Quality Classification||Category in the data|\n",
    "|---|---|---|\n",
    "|90-100\t|          Outstanding|\t             Specialty|1|\n",
    "|85-89.99\t|      Excellent|\t             Specialty|2|\n",
    "|80-84.99|\t      Very Good|\t             Specialty|3|\n",
    "|<80.0\t|          Below Specialty Quality|\t Not Specialty|4|\n",
    "\n",
    "\n",
    "http://www.scaa.org/?page=resources&d=cupping-protocols"
   ]
  },
  {
   "cell_type": "code",
   "execution_count": 15,
   "metadata": {
    "collapsed": true
   },
   "outputs": [],
   "source": [
    "# Catégorie de cafés entre 1 )plus de 90 points et 4 (moins de 80)\n",
    "df['Category'] = 0\n",
    "\n",
    "for index, row in df.iterrows():\n",
    "    df.set_value(index, 'Category', classCoffee(row['Puntaje Total']))"
   ]
  },
  {
   "cell_type": "markdown",
   "metadata": {},
   "source": [
    "## Rename columns"
   ]
  },
  {
   "cell_type": "code",
   "execution_count": 16,
   "metadata": {
    "collapsed": false
   },
   "outputs": [],
   "source": [
    "df.rename(columns={'Defectos totales': 'DefectosTotales'}, inplace=True)\n",
    "df.rename(columns={'SICA 1': 'SICA'}, inplace=True)\n",
    "df.rename(columns={'LUMINOSID': 'Luminosidad'}, inplace=True)\n",
    "df.rename(columns={'Defectos totales': 'DefectosTotales'}, inplace=True)\n",
    "df.rename(columns={'Puntaje Total': 'PuntajeTotal'}, inplace=True)\n",
    "\n",
    "df.rename(columns={'Fecha Analysis': 'FechaAnalysis'}, inplace=True)\n",
    "\n",
    "df.rename(columns={'Negros y vinagres': 'NegrosYVinagres'}, inplace=True)\n",
    "df.rename(columns={'Broca de punto': 'BrocaDePunto'}, inplace=True)\n",
    "df.rename(columns={'Defectos totales': 'DefectosTotales'}, inplace=True)\n",
    "df.rename(columns={'Humedad (%)': 'Humedad'}, inplace=True)\n",
    "df.rename(columns={'Merma (%)': 'Merma'}, inplace=True)\n",
    "df.rename(columns={'Sabor residual': 'SaborResidual'}, inplace=True)\n",
    "df.rename(columns={'Taza limpia': 'TazaLimpia'}, inplace=True)\n",
    "df.rename(columns={'Puntaje catador': 'PuntajeCatador'}, inplace=True)\n",
    "df.rename(columns={'Puntaje Total': 'PuntajeTotal'}, inplace=True)\n",
    "df.rename(columns={'SICA 1': 'SICA'}, inplace=True)\n",
    "df.rename(columns={'CEDULA 1': 'Cedula'}, inplace=True)\n",
    "\n",
    "df.rename(columns={'VARIEDAD': 'Variedad'}, inplace=True)\n",
    "\n",
    "df.rename(columns={'Taza 1': 'Taza1'}, inplace=True)\n",
    "df.rename(columns={'Taza 2': 'Taza2'}, inplace=True)\n",
    "df.rename(columns={'Taza 3': 'Taza3'}, inplace=True)\n",
    "df.rename(columns={'Taza 4': 'Taza4'}, inplace=True)\n",
    "df.rename(columns={'Taza 5': 'Taza5'}, inplace=True)\n",
    "\n",
    "\n",
    "\n",
    "\n"
   ]
  },
  {
   "cell_type": "markdown",
   "metadata": {},
   "source": [
    "## Rename variety"
   ]
  },
  {
   "cell_type": "code",
   "execution_count": 17,
   "metadata": {
    "collapsed": false
   },
   "outputs": [],
   "source": [
    "df['Variedad'] = df['Variedad'].replace({'T?PICA': 'TIPICA'})"
   ]
  },
  {
   "cell_type": "markdown",
   "metadata": {
    "collapsed": false
   },
   "source": [
    "## Ajout de Slope et Orientation\n"
   ]
  },
  {
   "cell_type": "code",
   "execution_count": 18,
   "metadata": {
    "collapsed": false
   },
   "outputs": [
    {
     "name": "stdout",
     "output_type": "stream",
     "text": [
      "(746, 3)\n",
      "(746, 126)\n",
      "(746, 128)\n"
     ]
    }
   ],
   "source": [
    "## Adding slope and orientation \n",
    "\n",
    " \n",
    "df_temp = pd.read_csv('./data/Slope_Orientation/Risaralda_orientation_slope.csv', header=0, sep=',', index_col=0, parse_dates=False, encoding='utf-8')\n",
    "#df_temp = df_temp.drop('FID', 1)\n",
    "\n",
    "\n",
    "cols = [\"SICA_1\",\"ris_aspect\",\"ris_slope\"]\n",
    "df_temp = df_temp[cols]\n",
    "\n",
    "df_temp.rename(columns={'SICA_1': 'SICA'}, inplace=True)\n",
    "df_temp.rename(columns={'ris_aspect': 'OrientationNum'}, inplace=True)\n",
    "df_temp.rename(columns={'ris_slope': 'Slope'}, inplace=True)\n",
    "\n",
    "df_temp['SICA'] = df_temp['SICA'].round(0).astype(np.int64)\n",
    "df_temp['SICA'] = df_temp['SICA'].astype(str)\n",
    "\n",
    "#print df_temp\n",
    "\n",
    "print df_temp.shape\n",
    "print df.shape\n",
    "\n",
    "\n",
    "d_orient = dict(zip(df_temp.SICA, df_temp.OrientationNum))\n",
    "d_slope = dict(zip(df_temp.SICA, df_temp.Slope))\n",
    "\n",
    "\n",
    "#print d_slope.get('6607500996')\n",
    "\n",
    "df['OrientationNum'] = 0.\n",
    "df['Slope'] = 0.\n",
    "\n",
    "for index, row in df.iterrows():\n",
    "    df.set_value(index, 'OrientationNum', convert_orientation(d_orient.get(row['SICA']),normal = True))\n",
    "    df.set_value(index, 'Slope', convert_slope(d_slope.get(row['SICA'])))\n",
    "print df.shape\n"
   ]
  },
  {
   "cell_type": "code",
   "execution_count": 19,
   "metadata": {
    "collapsed": false,
    "scrolled": true
   },
   "outputs": [
    {
     "name": "stdout",
     "output_type": "stream",
     "text": [
      "Municipio\n",
      "Vereda\n",
      "Finca\n",
      "Cedula\n",
      "SICA\n",
      "Variedad\n",
      "EPSG:3116_X\n",
      "EPSG:3116_Y\n",
      "EPSG:4326_Y\n",
      "EPSG:4326_X\n",
      "ASNM\n",
      "Luminosidad\n",
      "FechaAnalysis\n",
      "NegrosYVinagres\n",
      "Broca\n",
      "BrocaDePunto\n",
      "Veteado\n",
      "Mordido\n",
      "Inmaduro\n",
      "Flojo\n",
      "Sobresecado\n",
      "Arrugado\n",
      "Aplastado\n",
      "Cristalizado\n",
      "Reposado\n",
      "Granizo\n",
      "Conchas\n",
      "Partido\n",
      "Ambar\n",
      "DefectosTotales\n",
      "Pergamino\n",
      "Almendra\n",
      "AlmendraTotal\n",
      "AlmendraSana\n",
      "UV\n",
      "Olor\n",
      "Humedad\n",
      "Merma\n",
      "Aroma-Fragancia\n",
      "Acidez\n",
      "Cuerpo\n",
      "Sabor\n",
      "SaborResidual\n",
      "Dulzor\n",
      "Uniformidad\n",
      "Balance\n",
      "TazaLimpia\n",
      "PuntajeCatador\n",
      "PuntajeTotal\n",
      "Taza1\n",
      "Taza2\n",
      "Taza3\n",
      "Taza4\n",
      "Taza5\n",
      "prec1\n",
      "prec2\n",
      "prec3\n",
      "prec4\n",
      "prec5\n",
      "prec6\n",
      "prec7\n",
      "prec8\n",
      "prec9\n",
      "prec10\n",
      "tmin1\n",
      "tmin2\n",
      "tmin3\n",
      "tmin4\n",
      "tmin5\n",
      "tmin6\n",
      "tmin7\n",
      "tmin8\n",
      "tmin9\n",
      "tmin10\n",
      "tmax1\n",
      "tmax2\n",
      "tmax3\n",
      "tmax4\n",
      "tmax5\n",
      "tmax6\n",
      "tmax7\n",
      "tmax8\n",
      "tmax9\n",
      "tmax10\n",
      "tmean1\n",
      "tmean2\n",
      "tmean3\n",
      "tmean4\n",
      "tmean5\n",
      "tmean6\n",
      "tmean7\n",
      "tmean8\n",
      "tmean9\n",
      "tmean10\n",
      "dtr1\n",
      "dtr2\n",
      "dtr3\n",
      "dtr4\n",
      "dtr5\n",
      "dtr6\n",
      "dtr7\n",
      "dtr8\n",
      "dtr9\n",
      "dtr10\n",
      "year\n",
      "PrecTotalAvg\n",
      "TminTotalAvg\n",
      "TmaxTotalAvg\n",
      "TmeanTotalAvg\n",
      "DtrTotalAvg\n",
      "Soil Profile\n",
      "Unidad_c_1\n",
      "pH_avg\n",
      "org_avg\n",
      "PrecTotal\n",
      "TminTotal\n",
      "TmaxTotal\n",
      "TmeanTotal\n",
      "DtrTotal\n",
      "Occurence\n",
      "Franco\n",
      "Arcilloso\n",
      "Limoso\n",
      "Arenoso\n",
      "Cascajoso\n",
      "Category\n",
      "OrientationNum\n",
      "Slope\n"
     ]
    }
   ],
   "source": [
    "for c in df.columns:\n",
    "    print c"
   ]
  },
  {
   "cell_type": "markdown",
   "metadata": {},
   "source": [
    "## Ajout de données chimiques de sol\n",
    "\n",
    "Après la visite à Felipe, on peut avoir plus d'informations chimiques sur le sol. Si le temps le permet, on les ajoute. Les analyses peuvent être refaites rapidement si les scripts sont bien fait. \n",
    "\n",
    "UPDATE: La plateforme données et incomplète et ne permet pas l'extraction automatisée de données. \n",
    "\n",
    "TODO: réaliser une classe pour le set V2 permettant de get des informations à partir du SICA"
   ]
  },
  {
   "cell_type": "code",
   "execution_count": null,
   "metadata": {
    "collapsed": false
   },
   "outputs": [],
   "source": []
  },
  {
   "cell_type": "code",
   "execution_count": null,
   "metadata": {
    "collapsed": true
   },
   "outputs": [],
   "source": []
  },
  {
   "cell_type": "code",
   "execution_count": null,
   "metadata": {
    "collapsed": true
   },
   "outputs": [],
   "source": []
  },
  {
   "cell_type": "code",
   "execution_count": null,
   "metadata": {
    "collapsed": true
   },
   "outputs": [],
   "source": []
  },
  {
   "cell_type": "markdown",
   "metadata": {},
   "source": [
    "## Mise en ordre des colonnes"
   ]
  },
  {
   "cell_type": "code",
   "execution_count": 20,
   "metadata": {
    "collapsed": true
   },
   "outputs": [],
   "source": [
    "cols = [\n",
    "\"SICA\"\n",
    ",\"Cedula\"\n",
    ",\"Municipio\"\n",
    ",\"Vereda\"\n",
    ",\"Finca\"\n",
    ",\"EPSG:3116_X\",\"EPSG:3116_Y\",\"EPSG:4326_Y\",\"EPSG:4326_X\"\n",
    ",\"Variedad\"\n",
    ",\"FechaAnalysis\"\n",
    ",\"year\"\n",
    ",\"Occurence\"\n",
    ",\"UV\",\"Olor\",\"Humedad\",\"Merma\",\"Pergamino\",\"Almendra\",\"AlmendraTotal\",\"AlmendraSana\"\n",
    ",\"NegrosYVinagres\",\"Broca\",\"BrocaDePunto\",\"Veteado\",\"Mordido\",\"Inmaduro\",\"Flojo\",\"Sobresecado\",\"Arrugado\"\n",
    ",\"Aplastado\",\"Cristalizado\",\"Reposado\",\"Granizo\",\"Conchas\",\"Partido\",\"Ambar\",\"DefectosTotales\"\n",
    ",\"ASNM\"\n",
    ",\"Luminosidad\"\n",
    ",\"prec1\",\"prec2\",\"prec3\",\"prec4\",\"prec5\",\"prec6\",\"prec7\",\"prec8\",\"prec9\",\"prec10\"\n",
    ",\"tmin1\",\"tmin2\",\"tmin3\",\"tmin4\",\"tmin5\",\"tmin6\",\"tmin7\",\"tmin8\",\"tmin9\",\"tmin10\"\n",
    ",\"tmax1\",\"tmax2\",\"tmax3\",\"tmax4\",\"tmax5\",\"tmax6\",\"tmax7\",\"tmax8\",\"tmax9\",\"tmax10\"\n",
    ",\"tmean1\",\"tmean2\",\"tmean3\",\"tmean4\",\"tmean5\",\"tmean6\",\"tmean7\",\"tmean8\",\"tmean9\",\"tmean10\"\n",
    ",\"dtr1\",\"dtr2\",\"dtr3\",\"dtr4\",\"dtr5\",\"dtr6\",\"dtr7\",\"dtr8\",\"dtr9\",\"dtr10\"\n",
    ",\"PrecTotal\",\"TminTotal\",\"TmaxTotal\",\"TmeanTotal\",\"DtrTotal\"\n",
    ",\"PrecTotalAvg\",\"TminTotalAvg\",\"TmaxTotalAvg\",\"TmeanTotalAvg\",\"DtrTotalAvg\"\n",
    ",\"OrientationNum\"\n",
    ",\"Slope\"\n",
    ",\"Soil Profile\"\n",
    ",\"Unidad_c_1\"\n",
    ",\"pH_avg\"\n",
    ",\"org_avg\"\n",
    ",\"Franco\"\n",
    ",\"Arcilloso\"\n",
    ",\"Limoso\"\n",
    ",\"Arenoso\"\n",
    ",\"Cascajoso\"\n",
    ",\"Taza1\",\"Taza2\",\"Taza3\",\"Taza4\",\"Taza5\"\n",
    ",\"Aroma-Fragancia\",\"Acidez\",\"Cuerpo\",\"Sabor\",\"SaborResidual\",\"Dulzor\",\"Uniformidad\",\"Balance\",\"TazaLimpia\",\"PuntajeCatador\",\"PuntajeTotal\"\n",
    ",\"Category\"]\n",
    "\n",
    "df = df[cols]"
   ]
  },
  {
   "cell_type": "markdown",
   "metadata": {
    "collapsed": true
   },
   "source": [
    "## Ecriture du dataset V2 \n",
    "\n",
    "Contient toutes les données (nom de la ferme (Finca) etc)"
   ]
  },
  {
   "cell_type": "code",
   "execution_count": 22,
   "metadata": {
    "collapsed": false
   },
   "outputs": [],
   "source": [
    "df.to_csv(\"./data/DataRisaralda_v2_utf-8.csv\", sep=',', encoding='utf-8')\n",
    "df.to_csv(\"./data/DataRisaralda_v2_iso-8859-1.csv\", sep=',', encoding='iso-8859-1')\n"
   ]
  },
  {
   "cell_type": "markdown",
   "metadata": {
    "collapsed": false
   },
   "source": [
    "---------------------------------------------------"
   ]
  },
  {
   "cell_type": "markdown",
   "metadata": {},
   "source": [
    "# Datasets customs"
   ]
  },
  {
   "cell_type": "markdown",
   "metadata": {
    "collapsed": false
   },
   "source": [
    "_______________________________________________"
   ]
  },
  {
   "cell_type": "markdown",
   "metadata": {},
   "source": [
    "## Set SICA - GPS - Points Totaux"
   ]
  },
  {
   "cell_type": "code",
   "execution_count": 23,
   "metadata": {
    "collapsed": false
   },
   "outputs": [],
   "source": [
    "cols_GPS = ['SICA','EPSG:3116_X','EPSG:3116_Y','EPSG:4326_X','EPSG:4326_Y','PuntajeTotal']\n",
    "df_coordinates_pts = df[cols_GPS]\n",
    "\n",
    "df_coordinates_pts.to_csv(\"./data/Coordinates_Points_Risaralda_utf-8.csv\", sep=',', encoding='utf-8')\n",
    "df_coordinates_pts.to_csv(\"./data/Coordinates_Points_Risaralda_iso-8859-1.csv\", sep=',', encoding='iso-8859-1')"
   ]
  },
  {
   "cell_type": "markdown",
   "metadata": {},
   "source": [
    "## Set SICA - GPS - Catégories"
   ]
  },
  {
   "cell_type": "code",
   "execution_count": 24,
   "metadata": {
    "collapsed": false
   },
   "outputs": [],
   "source": [
    "cols_GPS = ['SICA','EPSG:3116_X','EPSG:3116_Y','EPSG:4326_X','EPSG:4326_Y','Category']\n",
    "df_coordinates_cat = df[cols_GPS]\n",
    "\n",
    "df_coordinates_cat.to_csv(\"./data/Coordinates_Category_Risaralda_utf-8.csv\", sep=',', encoding='utf-8')\n",
    "df_coordinates_cat.to_csv(\"./data/Coordinates_Category_Risaralda_iso-8859-1.csv\", sep=',', encoding='iso-8859-1')"
   ]
  },
  {
   "cell_type": "markdown",
   "metadata": {},
   "source": [
    "## Dataset numérique complet"
   ]
  },
  {
   "cell_type": "code",
   "execution_count": 38,
   "metadata": {
    "collapsed": false
   },
   "outputs": [
    {
     "name": "stdout",
     "output_type": "stream",
     "text": [
      "Création d'un set numérique... Suppression des champs non numérique et non utiles\n",
      "\n",
      "Suppression des colonnes avec des éventuelles données manquantes....\n",
      "\n",
      "Dataset final avec shape de (697, 86)\n",
      "(697, 86)\n",
      "\n",
      "\n",
      "Fichiers DataRisaralda_v2Numeric_Complete_utf-8.csv et DataRisaralda_v2Numeric_Complete_iso-8859-1.csv créés\n"
     ]
    }
   ],
   "source": [
    "print(\"Création d'un set numérique... Suppression des champs non numérique et non utiles\")\n",
    "\n",
    "cols_num = [\n",
    "\"SICA\"\n",
    ",\"year\"\n",
    ",\"DefectosTotales\"\n",
    ",\"ASNM\"\n",
    ",\"Luminosidad\"\n",
    ",\"prec1\",\"prec2\",\"prec3\",\"prec4\",\"prec5\",\"prec6\",\"prec7\",\"prec8\",\"prec9\",\"prec10\"\n",
    ",\"tmin1\",\"tmin2\",\"tmin3\",\"tmin4\",\"tmin5\",\"tmin6\",\"tmin7\",\"tmin8\",\"tmin9\",\"tmin10\"\n",
    ",\"tmax1\",\"tmax2\",\"tmax3\",\"tmax4\",\"tmax5\",\"tmax6\",\"tmax7\",\"tmax8\",\"tmax9\",\"tmax10\"\n",
    ",\"tmean1\",\"tmean2\",\"tmean3\",\"tmean4\",\"tmean5\",\"tmean6\",\"tmean7\",\"tmean8\",\"tmean9\",\"tmean10\"\n",
    ",\"dtr1\",\"dtr2\",\"dtr3\",\"dtr4\",\"dtr5\",\"dtr6\",\"dtr7\",\"dtr8\",\"dtr9\",\"dtr10\"\n",
    ",\"PrecTotal\",\"TminTotal\",\"TmaxTotal\",\"TmeanTotal\",\"DtrTotal\"\n",
    ",\"PrecTotalAvg\",\"TminTotalAvg\",\"TmaxTotalAvg\",\"TmeanTotalAvg\",\"DtrTotalAvg\"\n",
    ",\"OrientationNum\"\n",
    ",\"Slope\"\n",
    ",\"pH_avg\"\n",
    ",\"org_avg\"\n",
    ",\"Franco\"\n",
    ",\"Arcilloso\"\n",
    ",\"Limoso\"\n",
    ",\"Arenoso\"\n",
    ",\"Cascajoso\"\n",
    ",\"Aroma-Fragancia\",\"Acidez\",\"Cuerpo\",\"Sabor\",\"SaborResidual\",\"Dulzor\",\"Uniformidad\",\"Balance\",\"TazaLimpia\",\"PuntajeCatador\",\"PuntajeTotal\"\n",
    ",\"Category\"]\n",
    "\n",
    "\n",
    "df_num = df[cols_num]\n",
    "\n",
    "print(\"\\nSuppression des colonnes avec des éventuelles données manquantes....\")\n",
    "df_num_complete = df_num.dropna(axis=0, how='any')\n",
    "#df_num_complete = df_num.dropna(axis=1, how='any')\n",
    "\n",
    "\n",
    "print(\"\\nDataset final avec shape de {}\".format(df_num_complete.shape))\n",
    "\n",
    "df_num_complete.to_csv(\"./data/DataRisaralda_v2Numeric_Complete_utf-8.csv\", sep=',', encoding='utf-8')\n",
    "df_num_complete.to_csv(\"./data/DataRisaralda_v2Numeric_Complete_iso-8859-1.csv\", sep=',', encoding='iso-8859-1')\n",
    "\n",
    "print df_num_complete.shape\n",
    "print(\"\\n\\nFichiers DataRisaralda_v2Numeric_Complete_utf-8.csv et DataRisaralda_v2Numeric_Complete_iso-8859-1.csv créés\")"
   ]
  },
  {
   "cell_type": "markdown",
   "metadata": {},
   "source": [
    "## Datasets pour R\n",
    "\n",
    "Inclusion d'une colonne de catégorie (variété ou année par exemple)"
   ]
  },
  {
   "cell_type": "markdown",
   "metadata": {},
   "source": [
    "## Sortie: PUNTAJE TOTAL"
   ]
  },
  {
   "cell_type": "code",
   "execution_count": 26,
   "metadata": {
    "collapsed": false
   },
   "outputs": [
    {
     "name": "stdout",
     "output_type": "stream",
     "text": [
      "Création d'un set pour R avec Puntaje Total comme sortie\n",
      "\n",
      "Suppression des colonnes avec des éventuelles données manquantes....\n",
      "\n",
      "Dataset pour R avec shape de (697, 73)\n",
      "\n",
      "\n",
      "Fichier DataRisaralda_v2_R_Total_utf-8.csv créé\n"
     ]
    }
   ],
   "source": [
    "print(\"Création d'un set pour R avec Puntaje Total comme sortie\")\n",
    "\n",
    "\n",
    "\n",
    "'''\n",
    "\"SICA\"\n",
    ",\"year\"\n",
    ",\"DefectosTotales\"\n",
    ",\n",
    "'''\n",
    "\n",
    "cols_R_Total = [\n",
    "\"ASNM\"\n",
    ",\"Luminosidad\"\n",
    ",\"prec1\",\"prec2\",\"prec3\",\"prec4\",\"prec5\",\"prec6\",\"prec7\",\"prec8\",\"prec9\",\"prec10\"\n",
    ",\"tmin1\",\"tmin2\",\"tmin3\",\"tmin4\",\"tmin5\",\"tmin6\",\"tmin7\",\"tmin8\",\"tmin9\",\"tmin10\"\n",
    ",\"tmax1\",\"tmax2\",\"tmax3\",\"tmax4\",\"tmax5\",\"tmax6\",\"tmax7\",\"tmax8\",\"tmax9\",\"tmax10\"\n",
    ",\"tmean1\",\"tmean2\",\"tmean3\",\"tmean4\",\"tmean5\",\"tmean6\",\"tmean7\",\"tmean8\",\"tmean9\",\"tmean10\"\n",
    ",\"dtr1\",\"dtr2\",\"dtr3\",\"dtr4\",\"dtr5\",\"dtr6\",\"dtr7\",\"dtr8\",\"dtr9\",\"dtr10\"\n",
    ",\"PrecTotal\",\"TminTotal\",\"TmaxTotal\",\"TmeanTotal\",\"DtrTotal\"\n",
    ",\"PrecTotalAvg\",\"TminTotalAvg\",\"TmaxTotalAvg\",\"TmeanTotalAvg\",\"DtrTotalAvg\"\n",
    ",\"OrientationNum\"\n",
    ",\"Slope\"\n",
    ",\"pH_avg\"\n",
    ",\"org_avg\"\n",
    ",\"Franco\"\n",
    ",\"Arcilloso\"\n",
    ",\"Limoso\"\n",
    ",\"Arenoso\"\n",
    ",\"Cascajoso\"\n",
    ",\"Variedad\"\n",
    ",\"PuntajeTotal\"\n",
    "]\n",
    "\n",
    "\n",
    "df_R_Total = df[cols_R_Total]\n",
    "\n",
    "# le script doit avoir une colonne appelée (peu importe le nom) de catégories. A spécifier dans R. Ici c'est \"Variedad\"\n",
    "\n",
    "print(\"\\nSuppression des colonnes avec des éventuelles données manquantes....\")\n",
    "df_R_Total = df_R_Total.dropna(axis=0, how='any')\n",
    "#df_R_Total = df_R_Total.dropna(axis=1, how='any')\n",
    "\n",
    "print(\"\\nDataset pour R avec shape de {}\".format(df_R_Total.shape))\n",
    "\n",
    "df_R_Total.to_csv(\"./data/DataRisaralda_v2_R_Total_utf-8.csv\", sep=',', encoding='utf-8')\n",
    "\n",
    "print(\"\\n\\nFichier DataRisaralda_v2_R_Total_utf-8.csv créé\")"
   ]
  },
  {
   "cell_type": "markdown",
   "metadata": {},
   "source": [
    "## Sortie: ACIDEZ"
   ]
  },
  {
   "cell_type": "code",
   "execution_count": 27,
   "metadata": {
    "collapsed": false
   },
   "outputs": [
    {
     "name": "stdout",
     "output_type": "stream",
     "text": [
      "Création d'un set pour R avec Acidez comme sortie\n",
      "\n",
      "Suppression des colonnes avec des éventuelles données manquantes....\n",
      "\n",
      "Dataset pour R avec shape de (697, 73)\n",
      "\n",
      "\n",
      "Fichier DataRisaralda_v2_R_Acidez_utf-8.csv créé\n"
     ]
    }
   ],
   "source": [
    "print(\"Création d'un set pour R avec Acidez comme sortie\")\n",
    "\n",
    "\n",
    "\n",
    "'''\n",
    "\"SICA\"\n",
    ",\"year\"\n",
    ",\"DefectosTotales\"\n",
    ",\n",
    "'''\n",
    "\n",
    "cols_R_Acidez = [\n",
    "\"ASNM\"\n",
    ",\"Luminosidad\"\n",
    ",\"prec1\",\"prec2\",\"prec3\",\"prec4\",\"prec5\",\"prec6\",\"prec7\",\"prec8\",\"prec9\",\"prec10\"\n",
    ",\"tmin1\",\"tmin2\",\"tmin3\",\"tmin4\",\"tmin5\",\"tmin6\",\"tmin7\",\"tmin8\",\"tmin9\",\"tmin10\"\n",
    ",\"tmax1\",\"tmax2\",\"tmax3\",\"tmax4\",\"tmax5\",\"tmax6\",\"tmax7\",\"tmax8\",\"tmax9\",\"tmax10\"\n",
    ",\"tmean1\",\"tmean2\",\"tmean3\",\"tmean4\",\"tmean5\",\"tmean6\",\"tmean7\",\"tmean8\",\"tmean9\",\"tmean10\"\n",
    ",\"dtr1\",\"dtr2\",\"dtr3\",\"dtr4\",\"dtr5\",\"dtr6\",\"dtr7\",\"dtr8\",\"dtr9\",\"dtr10\"\n",
    ",\"PrecTotal\",\"TminTotal\",\"TmaxTotal\",\"TmeanTotal\",\"DtrTotal\"\n",
    ",\"PrecTotalAvg\",\"TminTotalAvg\",\"TmaxTotalAvg\",\"TmeanTotalAvg\",\"DtrTotalAvg\"\n",
    ",\"OrientationNum\"\n",
    ",\"Slope\"\n",
    ",\"pH_avg\"\n",
    ",\"org_avg\"\n",
    ",\"Franco\"\n",
    ",\"Arcilloso\"\n",
    ",\"Limoso\"\n",
    ",\"Arenoso\"\n",
    ",\"Cascajoso\"\n",
    ",\"Variedad\"\n",
    ",\"Acidez\"\n",
    "]\n",
    "\n",
    "\n",
    "df_R_Acidez = df[cols_R_Acidez]\n",
    "\n",
    "# le script doit avoir une colonne appelée (peu importe le nom) de catégories. A spécifier dans R. Ici c'est \"Variedad\"\n",
    "\n",
    "print(\"\\nSuppression des colonnes avec des éventuelles données manquantes....\")\n",
    "df_R_Acidez = df_R_Acidez.dropna(axis=0, how='any')\n",
    "#df_R_Acidez = df_R_Acidez.dropna(axis=1, how='any')\n",
    "\n",
    "\n",
    "print(\"\\nDataset pour R avec shape de {}\".format(df_R_Acidez.shape))\n",
    "\n",
    "df_R_Acidez.to_csv(\"./data/DataRisaralda_v2_R_Acidez_utf-8.csv\", sep=',', encoding='utf-8')\n",
    "\n",
    "print(\"\\n\\nFichier DataRisaralda_v2_R_Acidez_utf-8.csv créé\")"
   ]
  },
  {
   "cell_type": "markdown",
   "metadata": {},
   "source": [
    "## SORTIE: DULZOR"
   ]
  },
  {
   "cell_type": "code",
   "execution_count": 28,
   "metadata": {
    "collapsed": false
   },
   "outputs": [
    {
     "name": "stdout",
     "output_type": "stream",
     "text": [
      "Création d'un set pour R avec Dulzor comme sortie\n",
      "\n",
      "Dataset pour R avec shape de (697, 73)\n",
      "\n",
      "\n",
      "Fichier DataRisaralda_v2_R_Dulzor_utf-8.csv créé\n"
     ]
    }
   ],
   "source": [
    "print(\"Création d'un set pour R avec Dulzor comme sortie\")\n",
    "\n",
    "\n",
    "'''\n",
    "\"SICA\"\n",
    ",\"year\"\n",
    ",\"DefectosTotales\"\n",
    ",\n",
    "'''\n",
    "cols_R_Dulzor = [\n",
    "\"ASNM\"\n",
    ",\"Luminosidad\"\n",
    ",\"prec1\",\"prec2\",\"prec3\",\"prec4\",\"prec5\",\"prec6\",\"prec7\",\"prec8\",\"prec9\",\"prec10\"\n",
    ",\"tmin1\",\"tmin2\",\"tmin3\",\"tmin4\",\"tmin5\",\"tmin6\",\"tmin7\",\"tmin8\",\"tmin9\",\"tmin10\"\n",
    ",\"tmax1\",\"tmax2\",\"tmax3\",\"tmax4\",\"tmax5\",\"tmax6\",\"tmax7\",\"tmax8\",\"tmax9\",\"tmax10\"\n",
    ",\"tmean1\",\"tmean2\",\"tmean3\",\"tmean4\",\"tmean5\",\"tmean6\",\"tmean7\",\"tmean8\",\"tmean9\",\"tmean10\"\n",
    ",\"dtr1\",\"dtr2\",\"dtr3\",\"dtr4\",\"dtr5\",\"dtr6\",\"dtr7\",\"dtr8\",\"dtr9\",\"dtr10\"\n",
    ",\"PrecTotal\",\"TminTotal\",\"TmaxTotal\",\"TmeanTotal\",\"DtrTotal\"\n",
    ",\"PrecTotalAvg\",\"TminTotalAvg\",\"TmaxTotalAvg\",\"TmeanTotalAvg\",\"DtrTotalAvg\"\n",
    ",\"OrientationNum\"\n",
    ",\"Slope\"\n",
    ",\"pH_avg\"\n",
    ",\"org_avg\"\n",
    ",\"Franco\"\n",
    ",\"Arcilloso\"\n",
    ",\"Limoso\"\n",
    ",\"Arenoso\"\n",
    ",\"Cascajoso\"\n",
    ",\"Variedad\"\n",
    ",\"Dulzor\"\n",
    "]\n",
    "\n",
    "\n",
    "df_R_Dulzor = df[cols_R_Dulzor]\n",
    "\n",
    "# le script doit avoir une colonne appelée (peu importe le nom) de catégories. A spécifier dans R. Ici c'est \"Variedad\"\n",
    "\n",
    "#print(\"\\nSuppression des colonnes avec des éventuelles données manquantes....\")\n",
    "#df_R_Dulzor = df_R_Dulzor.dropna(axis=1, how='any')\n",
    "df_R_Dulzor = df_R_Dulzor.dropna(axis=0, how='any')\n",
    "\n",
    "\n",
    "print(\"\\nDataset pour R avec shape de {}\".format(df_R_Dulzor.shape))\n",
    "\n",
    "df_R_Dulzor.to_csv(\"./data/DataRisaralda_v2_R_Dulzor_utf-8.csv\", sep=',', encoding='utf-8')\n",
    "\n",
    "print(\"\\n\\nFichier DataRisaralda_v2_R_Dulzor_utf-8.csv créé\")"
   ]
  },
  {
   "cell_type": "markdown",
   "metadata": {},
   "source": [
    "## PCA - Entrées simplifiées"
   ]
  },
  {
   "cell_type": "code",
   "execution_count": 29,
   "metadata": {
    "collapsed": false
   },
   "outputs": [
    {
     "name": "stdout",
     "output_type": "stream",
     "text": [
      "\n",
      "Suppression des colonnes avec des éventuelles données manquantes....\n",
      "\n",
      "Dataset pour R avec shape de (697, 29)\n",
      "\n",
      "\n",
      "Fichier DataRisaralda_v2_R_PCA_utf-8.csv créé\n"
     ]
    }
   ],
   "source": [
    "cols_R_PCA = [\n",
    "\"year\"\n",
    ",\"DefectosTotales\"\n",
    ",\"ASNM\"\n",
    ",\"Luminosidad\"\n",
    ",\"PrecTotalAvg\",\"TminTotalAvg\",\"TmaxTotalAvg\",\"TmeanTotalAvg\",\"DtrTotalAvg\"\n",
    ",\"OrientationNum\"\n",
    ",\"Slope\"\n",
    ",\"pH_avg\"\n",
    ",\"org_avg\"\n",
    ",\"Franco\"\n",
    ",\"Arcilloso\"\n",
    ",\"Limoso\"\n",
    ",\"Arenoso\"\n",
    ",\"Cascajoso\"\n",
    ",\"Aroma-Fragancia\",\"Acidez\",\"Cuerpo\",\"Sabor\",\"SaborResidual\",\"Dulzor\"\n",
    ",\"Uniformidad\",\"Balance\",\"TazaLimpia\",\"PuntajeCatador\",\"PuntajeTotal\"\n",
    "]\n",
    "\n",
    "df_R_PCA = df[cols_R_PCA]\n",
    "\n",
    "# le script doit avoir une colonne appelée (peu importe le nom) de catégories. A spécifier dans R. Ici c'est \"Variedad\"\n",
    "\n",
    "print(\"\\nSuppression des colonnes avec des éventuelles données manquantes....\")\n",
    "#df_R_PCA = df_R_PCA.dropna(axis=1, how='any')\n",
    "df_R_PCA = df_R_PCA.dropna(axis=0, how='any')\n",
    "\n",
    "\n",
    "print(\"\\nDataset pour R avec shape de {}\".format(df_R_PCA.shape))\n",
    "\n",
    "df_R_PCA.to_csv(\"./data/DataRisaralda_v2_R_PCA_utf-8.csv\", sep=',', encoding='utf-8')\n",
    "\n",
    "print(\"\\n\\nFichier DataRisaralda_v2_R_PCA_utf-8.csv créé\")"
   ]
  },
  {
   "cell_type": "markdown",
   "metadata": {
    "collapsed": true
   },
   "source": [
    "# Entrées simplifiées (Pas de SICA, Année ou Defectos)"
   ]
  },
  {
   "cell_type": "code",
   "execution_count": 30,
   "metadata": {
    "collapsed": false
   },
   "outputs": [
    {
     "name": "stdout",
     "output_type": "stream",
     "text": [
      "Création d'un set numérique... Suppression des champs non numérique et non utiles\n",
      "\n",
      "Suppression des colonnes avec des éventuelles données manquantes....\n",
      "\n",
      "Dataset final avec shape de (697, 72)\n",
      "(697, 72)\n",
      "\n",
      "\n",
      "Fichiers DataRisaralda_v2Numeric_CompleteV2_utf-8.csv et DataRisaralda_v2Numeric_CompleteV2_iso-8859-1.csv créés\n"
     ]
    }
   ],
   "source": [
    "print(\"Création d'un set numérique... Suppression des champs non numérique et non utiles\")\n",
    "\n",
    "cols_num = [\n",
    "\"ASNM\"\n",
    ",\"Luminosidad\"\n",
    ",\"prec1\",\"prec2\",\"prec3\",\"prec4\",\"prec5\",\"prec6\",\"prec7\",\"prec8\",\"prec9\",\"prec10\"\n",
    ",\"tmin1\",\"tmin2\",\"tmin3\",\"tmin4\",\"tmin5\",\"tmin6\",\"tmin7\",\"tmin8\",\"tmin9\",\"tmin10\"\n",
    ",\"tmax1\",\"tmax2\",\"tmax3\",\"tmax4\",\"tmax5\",\"tmax6\",\"tmax7\",\"tmax8\",\"tmax9\",\"tmax10\"\n",
    ",\"tmean1\",\"tmean2\",\"tmean3\",\"tmean4\",\"tmean5\",\"tmean6\",\"tmean7\",\"tmean8\",\"tmean9\",\"tmean10\"\n",
    ",\"dtr1\",\"dtr2\",\"dtr3\",\"dtr4\",\"dtr5\",\"dtr6\",\"dtr7\",\"dtr8\",\"dtr9\",\"dtr10\"\n",
    ",\"PrecTotal\",\"TminTotal\",\"TmaxTotal\",\"TmeanTotal\",\"DtrTotal\"\n",
    ",\"PrecTotalAvg\",\"TminTotalAvg\",\"TmaxTotalAvg\",\"TmeanTotalAvg\",\"DtrTotalAvg\"\n",
    ",\"OrientationNum\"\n",
    ",\"Slope\"\n",
    ",\"pH_avg\"\n",
    ",\"org_avg\"\n",
    ",\"Franco\"\n",
    ",\"Arcilloso\"\n",
    ",\"Limoso\"\n",
    ",\"Arenoso\"\n",
    ",\"Cascajoso\"\n",
    ",\"Acidez\"]    \n",
    "    \n",
    "#,\"Aroma-Fragancia\",\"Acidez\",\"Cuerpo\",\"Sabor\",\"SaborResidual\",\"Dulzor\",\"Uniformidad\",\"Balance\",\"TazaLimpia\",\"PuntajeCatador\",\"PuntajeTotal\"\n",
    "#]\n",
    "\n",
    "\n",
    "df_num = df[cols_num]\n",
    "\n",
    "print(\"\\nSuppression des colonnes avec des éventuelles données manquantes....\")\n",
    "df_num_completev2 = df_num.dropna(axis=0, how='any')\n",
    "#df_num_complete = df_num.dropna(axis=1, how='any')\n",
    "\n",
    "\n",
    "print(\"\\nDataset final avec shape de {}\".format(df_num_completev2.shape))\n",
    "\n",
    "df_num_completev2.to_csv(\"./data/DataRisaralda_v2Numeric_CompleteV2_utf-8.csv\", sep=',', encoding='utf-8')\n",
    "df_num_completev2.to_csv(\"./data/DataRisaralda_v2Numeric_CompleteV2_iso-8859-1.csv\", sep=',', encoding='iso-8859-1')\n",
    "\n",
    "print df_num_completev2.shape\n",
    "print(\"\\n\\nFichiers DataRisaralda_v2Numeric_CompleteV2_utf-8.csv et DataRisaralda_v2Numeric_CompleteV2_iso-8859-1.csv créés\")"
   ]
  },
  {
   "cell_type": "code",
   "execution_count": 31,
   "metadata": {
    "collapsed": false
   },
   "outputs": [
    {
     "data": {
      "text/plain": [
       "Index([          u'ASNM',    u'Luminosidad',          u'prec1',\n",
       "                u'prec2',          u'prec3',          u'prec4',\n",
       "                u'prec5',          u'prec6',          u'prec7',\n",
       "                u'prec8',          u'prec9',         u'prec10',\n",
       "                u'tmin1',          u'tmin2',          u'tmin3',\n",
       "                u'tmin4',          u'tmin5',          u'tmin6',\n",
       "                u'tmin7',          u'tmin8',          u'tmin9',\n",
       "               u'tmin10',          u'tmax1',          u'tmax2',\n",
       "                u'tmax3',          u'tmax4',          u'tmax5',\n",
       "                u'tmax6',          u'tmax7',          u'tmax8',\n",
       "                u'tmax9',         u'tmax10',         u'tmean1',\n",
       "               u'tmean2',         u'tmean3',         u'tmean4',\n",
       "               u'tmean5',         u'tmean6',         u'tmean7',\n",
       "               u'tmean8',         u'tmean9',        u'tmean10',\n",
       "                 u'dtr1',           u'dtr2',           u'dtr3',\n",
       "                 u'dtr4',           u'dtr5',           u'dtr6',\n",
       "                 u'dtr7',           u'dtr8',           u'dtr9',\n",
       "                u'dtr10',      u'PrecTotal',      u'TminTotal',\n",
       "            u'TmaxTotal',     u'TmeanTotal',       u'DtrTotal',\n",
       "         u'PrecTotalAvg',   u'TminTotalAvg',   u'TmaxTotalAvg',\n",
       "        u'TmeanTotalAvg',    u'DtrTotalAvg', u'OrientationNum',\n",
       "                u'Slope',         u'pH_avg',        u'org_avg',\n",
       "               u'Franco',      u'Arcilloso',         u'Limoso',\n",
       "              u'Arenoso',      u'Cascajoso',         u'Acidez'],\n",
       "      dtype='object')"
      ]
     },
     "execution_count": 31,
     "metadata": {},
     "output_type": "execute_result"
    }
   ],
   "source": [
    "df_num_completev2.columns"
   ]
  },
  {
   "cell_type": "markdown",
   "metadata": {
    "collapsed": true
   },
   "source": [
    "# SORTIE: CATEGORY"
   ]
  },
  {
   "cell_type": "code",
   "execution_count": 32,
   "metadata": {
    "collapsed": false
   },
   "outputs": [
    {
     "name": "stdout",
     "output_type": "stream",
     "text": [
      "Création d'un set avec la variété, random forest supporte\n",
      "\n",
      "Suppression des colonnes avec des éventuelles données manquantes....\n",
      "\n",
      "Dataset final avec shape de (697, 86)\n",
      "(697, 73)\n",
      "\n",
      "\n",
      "Fichiers DataRisaralda_v2Numeric_Complete_cat_utf-8.csv créé\n"
     ]
    }
   ],
   "source": [
    "print(\"Création d'un set avec la variété, random forest supporte\")\n",
    "\n",
    "cols_num = [\n",
    "\"ASNM\"\n",
    ",\"Variedad\"\n",
    ",\"Luminosidad\"\n",
    ",\"prec1\",\"prec2\",\"prec3\",\"prec4\",\"prec5\",\"prec6\",\"prec7\",\"prec8\",\"prec9\",\"prec10\"\n",
    ",\"tmin1\",\"tmin2\",\"tmin3\",\"tmin4\",\"tmin5\",\"tmin6\",\"tmin7\",\"tmin8\",\"tmin9\",\"tmin10\"\n",
    ",\"tmax1\",\"tmax2\",\"tmax3\",\"tmax4\",\"tmax5\",\"tmax6\",\"tmax7\",\"tmax8\",\"tmax9\",\"tmax10\"\n",
    ",\"tmean1\",\"tmean2\",\"tmean3\",\"tmean4\",\"tmean5\",\"tmean6\",\"tmean7\",\"tmean8\",\"tmean9\",\"tmean10\"\n",
    ",\"dtr1\",\"dtr2\",\"dtr3\",\"dtr4\",\"dtr5\",\"dtr6\",\"dtr7\",\"dtr8\",\"dtr9\",\"dtr10\"\n",
    ",\"PrecTotal\",\"TminTotal\",\"TmaxTotal\",\"TmeanTotal\",\"DtrTotal\"\n",
    ",\"PrecTotalAvg\",\"TminTotalAvg\",\"TmaxTotalAvg\",\"TmeanTotalAvg\",\"DtrTotalAvg\"\n",
    ",\"OrientationNum\"\n",
    ",\"Slope\"\n",
    ",\"pH_avg\"\n",
    ",\"org_avg\"\n",
    ",\"Franco\"\n",
    ",\"Arcilloso\"\n",
    ",\"Limoso\"\n",
    ",\"Arenoso\"\n",
    ",\"Cascajoso\"\n",
    ",\"Category\"]\n",
    "\n",
    "\n",
    "df_num = df[cols_num]\n",
    "\n",
    "print(\"\\nSuppression des colonnes avec des éventuelles données manquantes....\")\n",
    "df_num_complete_cat = df_num.dropna(axis=0, how='any')\n",
    "#df_num_complete = df_num.dropna(axis=1, how='any')\n",
    "\n",
    "\n",
    "print(\"\\nDataset final avec shape de {}\".format(df_num_complete.shape))\n",
    "\n",
    "df_num_complete_cat.to_csv(\"./data/DataRisaralda_v2Numeric_Complete_cat_utf-8.csv\", sep=',', encoding='utf-8')\n",
    "\n",
    "print df_num_complete_cat.shape\n",
    "print(\"\\n\\nFichiers DataRisaralda_v2Numeric_Complete_cat_utf-8.csv créé\")"
   ]
  },
  {
   "cell_type": "code",
   "execution_count": null,
   "metadata": {
    "collapsed": true
   },
   "outputs": [],
   "source": []
  },
  {
   "cell_type": "code",
   "execution_count": 33,
   "metadata": {
    "collapsed": false
   },
   "outputs": [
    {
     "data": {
      "text/html": [
       "<div>\n",
       "<table border=\"1\" class=\"dataframe\">\n",
       "  <thead>\n",
       "    <tr style=\"text-align: right;\">\n",
       "      <th></th>\n",
       "      <th>Cedula</th>\n",
       "      <th>EPSG:3116_X</th>\n",
       "      <th>EPSG:3116_Y</th>\n",
       "      <th>EPSG:4326_Y</th>\n",
       "      <th>EPSG:4326_X</th>\n",
       "      <th>year</th>\n",
       "      <th>Occurence</th>\n",
       "      <th>Humedad</th>\n",
       "      <th>Merma</th>\n",
       "      <th>AlmendraTotal</th>\n",
       "      <th>...</th>\n",
       "      <th>Cuerpo</th>\n",
       "      <th>Sabor</th>\n",
       "      <th>SaborResidual</th>\n",
       "      <th>Dulzor</th>\n",
       "      <th>Uniformidad</th>\n",
       "      <th>Balance</th>\n",
       "      <th>TazaLimpia</th>\n",
       "      <th>PuntajeCatador</th>\n",
       "      <th>PuntajeTotal</th>\n",
       "      <th>Category</th>\n",
       "    </tr>\n",
       "  </thead>\n",
       "  <tbody>\n",
       "    <tr>\n",
       "      <th>count</th>\n",
       "      <td>7.460000e+02</td>\n",
       "      <td>746.000000</td>\n",
       "      <td>7.460000e+02</td>\n",
       "      <td>746.000000</td>\n",
       "      <td>746.000000</td>\n",
       "      <td>746.000000</td>\n",
       "      <td>746.000000</td>\n",
       "      <td>746.000000</td>\n",
       "      <td>746.000000</td>\n",
       "      <td>396.000000</td>\n",
       "      <td>...</td>\n",
       "      <td>746.000000</td>\n",
       "      <td>746.000000</td>\n",
       "      <td>746.000000</td>\n",
       "      <td>746.000000</td>\n",
       "      <td>746.000000</td>\n",
       "      <td>746.000000</td>\n",
       "      <td>746.000000</td>\n",
       "      <td>746.00000</td>\n",
       "      <td>746.000000</td>\n",
       "      <td>746.000000</td>\n",
       "    </tr>\n",
       "    <tr>\n",
       "      <th>mean</th>\n",
       "      <td>6.934739e+07</td>\n",
       "      <td>805299.711847</td>\n",
       "      <td>1.054699e+06</td>\n",
       "      <td>5.088437</td>\n",
       "      <td>-75.833144</td>\n",
       "      <td>2013.654155</td>\n",
       "      <td>1.178284</td>\n",
       "      <td>10.802863</td>\n",
       "      <td>9.012168</td>\n",
       "      <td>197.824747</td>\n",
       "      <td>...</td>\n",
       "      <td>6.570979</td>\n",
       "      <td>6.651810</td>\n",
       "      <td>6.492962</td>\n",
       "      <td>8.800268</td>\n",
       "      <td>8.551273</td>\n",
       "      <td>6.738606</td>\n",
       "      <td>8.583110</td>\n",
       "      <td>6.52681</td>\n",
       "      <td>72.212259</td>\n",
       "      <td>3.407507</td>\n",
       "    </tr>\n",
       "    <tr>\n",
       "      <th>std</th>\n",
       "      <td>6.342341e+08</td>\n",
       "      <td>14209.794337</td>\n",
       "      <td>2.001108e+04</td>\n",
       "      <td>0.180806</td>\n",
       "      <td>0.128186</td>\n",
       "      <td>2.496917</td>\n",
       "      <td>0.441608</td>\n",
       "      <td>3.933802</td>\n",
       "      <td>9.423346</td>\n",
       "      <td>16.487133</td>\n",
       "      <td>...</td>\n",
       "      <td>2.120543</td>\n",
       "      <td>2.153737</td>\n",
       "      <td>2.095145</td>\n",
       "      <td>3.083892</td>\n",
       "      <td>2.995069</td>\n",
       "      <td>2.339378</td>\n",
       "      <td>3.264071</td>\n",
       "      <td>2.16666</td>\n",
       "      <td>23.422645</td>\n",
       "      <td>0.621881</td>\n",
       "    </tr>\n",
       "    <tr>\n",
       "      <th>min</th>\n",
       "      <td>6.151760e+05</td>\n",
       "      <td>778988.508000</td>\n",
       "      <td>1.013600e+06</td>\n",
       "      <td>4.717152</td>\n",
       "      <td>-76.070928</td>\n",
       "      <td>2011.000000</td>\n",
       "      <td>1.000000</td>\n",
       "      <td>0.100000</td>\n",
       "      <td>0.000000</td>\n",
       "      <td>0.000000</td>\n",
       "      <td>...</td>\n",
       "      <td>0.000000</td>\n",
       "      <td>0.000000</td>\n",
       "      <td>0.000000</td>\n",
       "      <td>0.000000</td>\n",
       "      <td>0.000000</td>\n",
       "      <td>0.000000</td>\n",
       "      <td>0.000000</td>\n",
       "      <td>0.00000</td>\n",
       "      <td>0.000000</td>\n",
       "      <td>2.000000</td>\n",
       "    </tr>\n",
       "    <tr>\n",
       "      <th>25%</th>\n",
       "      <td>4.573893e+06</td>\n",
       "      <td>790674.481125</td>\n",
       "      <td>1.038033e+06</td>\n",
       "      <td>4.937807</td>\n",
       "      <td>-75.965085</td>\n",
       "      <td>2011.000000</td>\n",
       "      <td>1.000000</td>\n",
       "      <td>10.500000</td>\n",
       "      <td>0.196800</td>\n",
       "      <td>196.400000</td>\n",
       "      <td>...</td>\n",
       "      <td>7.000000</td>\n",
       "      <td>7.000000</td>\n",
       "      <td>6.750000</td>\n",
       "      <td>10.000000</td>\n",
       "      <td>8.000000</td>\n",
       "      <td>6.750000</td>\n",
       "      <td>10.000000</td>\n",
       "      <td>6.75000</td>\n",
       "      <td>76.500000</td>\n",
       "      <td>3.000000</td>\n",
       "    </tr>\n",
       "    <tr>\n",
       "      <th>50%</th>\n",
       "      <td>1.007722e+07</td>\n",
       "      <td>805606.581400</td>\n",
       "      <td>1.054528e+06</td>\n",
       "      <td>5.086640</td>\n",
       "      <td>-75.830974</td>\n",
       "      <td>2016.000000</td>\n",
       "      <td>1.000000</td>\n",
       "      <td>11.200000</td>\n",
       "      <td>0.251800</td>\n",
       "      <td>200.050000</td>\n",
       "      <td>...</td>\n",
       "      <td>7.000000</td>\n",
       "      <td>7.250000</td>\n",
       "      <td>7.000000</td>\n",
       "      <td>10.000000</td>\n",
       "      <td>10.000000</td>\n",
       "      <td>7.000000</td>\n",
       "      <td>10.000000</td>\n",
       "      <td>7.25000</td>\n",
       "      <td>80.000000</td>\n",
       "      <td>3.000000</td>\n",
       "    </tr>\n",
       "    <tr>\n",
       "      <th>75%</th>\n",
       "      <td>2.441387e+07</td>\n",
       "      <td>817678.331325</td>\n",
       "      <td>1.075823e+06</td>\n",
       "      <td>5.278996</td>\n",
       "      <td>-75.721991</td>\n",
       "      <td>2016.000000</td>\n",
       "      <td>1.000000</td>\n",
       "      <td>11.800000</td>\n",
       "      <td>18.950000</td>\n",
       "      <td>203.825000</td>\n",
       "      <td>...</td>\n",
       "      <td>7.500000</td>\n",
       "      <td>7.500000</td>\n",
       "      <td>7.500000</td>\n",
       "      <td>10.000000</td>\n",
       "      <td>10.000000</td>\n",
       "      <td>7.500000</td>\n",
       "      <td>10.000000</td>\n",
       "      <td>7.50000</td>\n",
       "      <td>82.500000</td>\n",
       "      <td>4.000000</td>\n",
       "    </tr>\n",
       "    <tr>\n",
       "      <th>max</th>\n",
       "      <td>8.914088e+09</td>\n",
       "      <td>833460.303300</td>\n",
       "      <td>1.085442e+06</td>\n",
       "      <td>5.366686</td>\n",
       "      <td>-75.578838</td>\n",
       "      <td>2016.000000</td>\n",
       "      <td>3.000000</td>\n",
       "      <td>90.200000</td>\n",
       "      <td>31.760000</td>\n",
       "      <td>232.700000</td>\n",
       "      <td>...</td>\n",
       "      <td>8.500000</td>\n",
       "      <td>8.500000</td>\n",
       "      <td>8.250000</td>\n",
       "      <td>10.000000</td>\n",
       "      <td>10.000000</td>\n",
       "      <td>10.000000</td>\n",
       "      <td>10.000000</td>\n",
       "      <td>8.50000</td>\n",
       "      <td>87.750000</td>\n",
       "      <td>4.000000</td>\n",
       "    </tr>\n",
       "  </tbody>\n",
       "</table>\n",
       "<p>8 rows × 110 columns</p>\n",
       "</div>"
      ],
      "text/plain": [
       "             Cedula    EPSG:3116_X   EPSG:3116_Y  EPSG:4326_Y  EPSG:4326_X  \\\n",
       "count  7.460000e+02     746.000000  7.460000e+02   746.000000   746.000000   \n",
       "mean   6.934739e+07  805299.711847  1.054699e+06     5.088437   -75.833144   \n",
       "std    6.342341e+08   14209.794337  2.001108e+04     0.180806     0.128186   \n",
       "min    6.151760e+05  778988.508000  1.013600e+06     4.717152   -76.070928   \n",
       "25%    4.573893e+06  790674.481125  1.038033e+06     4.937807   -75.965085   \n",
       "50%    1.007722e+07  805606.581400  1.054528e+06     5.086640   -75.830974   \n",
       "75%    2.441387e+07  817678.331325  1.075823e+06     5.278996   -75.721991   \n",
       "max    8.914088e+09  833460.303300  1.085442e+06     5.366686   -75.578838   \n",
       "\n",
       "              year   Occurence     Humedad       Merma  AlmendraTotal  \\\n",
       "count   746.000000  746.000000  746.000000  746.000000     396.000000   \n",
       "mean   2013.654155    1.178284   10.802863    9.012168     197.824747   \n",
       "std       2.496917    0.441608    3.933802    9.423346      16.487133   \n",
       "min    2011.000000    1.000000    0.100000    0.000000       0.000000   \n",
       "25%    2011.000000    1.000000   10.500000    0.196800     196.400000   \n",
       "50%    2016.000000    1.000000   11.200000    0.251800     200.050000   \n",
       "75%    2016.000000    1.000000   11.800000   18.950000     203.825000   \n",
       "max    2016.000000    3.000000   90.200000   31.760000     232.700000   \n",
       "\n",
       "          ...          Cuerpo       Sabor  SaborResidual      Dulzor  \\\n",
       "count     ...      746.000000  746.000000     746.000000  746.000000   \n",
       "mean      ...        6.570979    6.651810       6.492962    8.800268   \n",
       "std       ...        2.120543    2.153737       2.095145    3.083892   \n",
       "min       ...        0.000000    0.000000       0.000000    0.000000   \n",
       "25%       ...        7.000000    7.000000       6.750000   10.000000   \n",
       "50%       ...        7.000000    7.250000       7.000000   10.000000   \n",
       "75%       ...        7.500000    7.500000       7.500000   10.000000   \n",
       "max       ...        8.500000    8.500000       8.250000   10.000000   \n",
       "\n",
       "       Uniformidad     Balance  TazaLimpia  PuntajeCatador  PuntajeTotal  \\\n",
       "count   746.000000  746.000000  746.000000       746.00000    746.000000   \n",
       "mean      8.551273    6.738606    8.583110         6.52681     72.212259   \n",
       "std       2.995069    2.339378    3.264071         2.16666     23.422645   \n",
       "min       0.000000    0.000000    0.000000         0.00000      0.000000   \n",
       "25%       8.000000    6.750000   10.000000         6.75000     76.500000   \n",
       "50%      10.000000    7.000000   10.000000         7.25000     80.000000   \n",
       "75%      10.000000    7.500000   10.000000         7.50000     82.500000   \n",
       "max      10.000000   10.000000   10.000000         8.50000     87.750000   \n",
       "\n",
       "         Category  \n",
       "count  746.000000  \n",
       "mean     3.407507  \n",
       "std      0.621881  \n",
       "min      2.000000  \n",
       "25%      3.000000  \n",
       "50%      3.000000  \n",
       "75%      4.000000  \n",
       "max      4.000000  \n",
       "\n",
       "[8 rows x 110 columns]"
      ]
     },
     "execution_count": 33,
     "metadata": {},
     "output_type": "execute_result"
    }
   ],
   "source": [
    "df.describe()"
   ]
  },
  {
   "cell_type": "code",
   "execution_count": 37,
   "metadata": {
    "collapsed": false
   },
   "outputs": [
    {
     "name": "stdout",
     "output_type": "stream",
     "text": [
      "\\begin{tabular}{lrrrrrrrrrrrrrrrrrrrrrrrrrrrrrrrrrrrrrrrrrrrrrrrrrrrrrrrrrrrrrrrrrrrrrrrrrrrrrrrrrrrr}\n",
      "\\toprule\n",
      "{} &         year &  DefectosTotales &         ASNM &       prec1 &       prec2 &       prec3 &       prec4 &       prec5 &       prec6 &       prec7 &       prec8 &       prec9 &      prec10 &       tmin1 &       tmin2 &       tmin3 &       tmin4 &       tmin5 &       tmin6 &       tmin7 &       tmin8 &       tmin9 &      tmin10 &       tmax1 &       tmax2 &       tmax3 &       tmax4 &       tmax5 &       tmax6 &       tmax7 &       tmax8 &       tmax9 &      tmax10 &      tmean1 &      tmean2 &      tmean3 &      tmean4 &      tmean5 &      tmean6 &      tmean7 &      tmean8 &      tmean9 &     tmean10 &        dtr1 &        dtr2 &        dtr3 &        dtr4 &        dtr5 &        dtr6 &        dtr7 &        dtr8 &        dtr9 &       dtr10 &    PrecTotal &   TminTotal &   TmaxTotal &  TmeanTotal &    DtrTotal &  PrecTotalAvg &  TminTotalAvg &  TmaxTotalAvg &  TmeanTotalAvg &  DtrTotalAvg &  OrientationNum &       Slope &      pH\\_avg &     org\\_avg &      Franco &   Arcilloso &      Limoso &     Arenoso &   Cascajoso &  Aroma-Fragancia &      Acidez &      Cuerpo &       Sabor &  SaborResidual &      Dulzor &  Uniformidad &     Balance &  TazaLimpia &  PuntajeCatador &  PuntajeTotal &    Category \\\\\n",
      "\\midrule\n",
      "count &   697.000000 &       697.000000 &   697.000000 &  697.000000 &  697.000000 &  697.000000 &  697.000000 &  697.000000 &  697.000000 &  697.000000 &  697.000000 &  697.000000 &  697.000000 &  697.000000 &  697.000000 &  697.000000 &  697.000000 &  697.000000 &  697.000000 &  697.000000 &  697.000000 &  697.000000 &  697.000000 &  697.000000 &  697.000000 &  697.000000 &  697.000000 &  697.000000 &  697.000000 &  697.000000 &  697.000000 &  697.000000 &  697.000000 &  697.000000 &  697.000000 &  697.000000 &  697.000000 &  697.000000 &  697.000000 &  697.000000 &  697.000000 &  697.000000 &  697.000000 &  697.000000 &  697.000000 &  697.000000 &  697.000000 &  697.000000 &  697.000000 &  697.000000 &  697.000000 &  697.000000 &  697.000000 &   697.000000 &  697.000000 &  697.000000 &  697.000000 &  697.000000 &    697.000000 &    697.000000 &    697.000000 &     697.000000 &   697.000000 &      697.000000 &  697.000000 &  697.000000 &  697.000000 &  697.000000 &  697.000000 &  697.000000 &  697.000000 &  697.000000 &       697.000000 &  697.000000 &  697.000000 &  697.000000 &     697.000000 &  697.000000 &   697.000000 &  697.000000 &  697.000000 &      697.000000 &    697.000000 &  697.000000 \\\\\n",
      "mean  &  2013.632712 &         1.075560 &  1606.846485 &  132.574823 &  169.003010 &  193.230777 &  165.310202 &  150.176150 &  154.512206 &  154.352572 &  152.653227 &  177.942646 &  183.120755 &   16.332622 &   16.384226 &   16.345421 &   16.471095 &   16.374973 &   16.312384 &   16.426497 &   16.395311 &   16.311934 &   16.313249 &   25.977914 &   25.816307 &   25.451348 &   25.707211 &   25.957403 &   25.803785 &   25.984664 &   26.062701 &   25.734395 &   25.609407 &   21.155268 &   21.100266 &   20.898384 &   21.089153 &   21.166188 &   21.058085 &   21.205580 &   21.229006 &   21.023164 &   20.961328 &    9.645292 &    9.432081 &    9.105927 &    9.236115 &    9.582430 &    9.491401 &    9.558167 &    9.667390 &    9.422461 &    9.296158 &  1632.876367 &  163.667712 &  258.105134 &  210.886423 &   94.437421 &    163.287637 &     16.366771 &     25.810513 &      21.088642 &     9.443742 &        4.347202 &   20.517861 &    5.349522 &    0.038339 &    2.868006 &    1.505022 &    2.803443 &    0.041607 &    0.256815 &         6.699634 &    6.626255 &    6.588522 &    6.667504 &       6.510043 &    8.813486 &     8.571736 &    6.746413 &    8.592539 &        6.548422 &     72.364555 &    3.406026 \\\\\n",
      "std   &     2.498268 &         1.455771 &   164.630152 &   29.041843 &   49.001138 &   59.969791 &   55.866272 &   56.155968 &   55.672106 &   41.400148 &   44.348422 &   63.245094 &   95.903529 &    0.952456 &    0.929187 &    1.024843 &    0.992625 &    1.040898 &    1.047385 &    0.931058 &    0.869334 &    0.906080 &    0.895348 &    1.441404 &    1.513222 &    1.567121 &    1.510812 &    1.476216 &    1.411665 &    1.409102 &    1.396523 &    1.470006 &    1.634609 &    1.158914 &    1.181898 &    1.263029 &    1.197264 &    1.171729 &    1.176505 &    1.130617 &    1.103653 &    1.136160 &    1.214889 &    0.772855 &    0.847895 &    0.794593 &    0.895518 &    1.016647 &    0.801858 &    0.769219 &    0.734735 &    0.894629 &    1.021455 &   390.573398 &    9.267622 &   14.056361 &   11.352576 &    7.170513 &     39.057340 &      0.926762 &      1.405636 &       1.135258 &     0.717051 &        2.255255 &    9.072910 &    0.304272 &    0.014479 &    0.530474 &    1.493392 &    0.673889 &    0.293104 &    0.644417 &         2.134609 &    2.120309 &    2.097747 &    2.130236 &       2.072693 &    3.068601 &     2.975423 &    2.310370 &    3.247962 &        2.135851 &     23.177756 &    0.618320 \\\\\n",
      "min   &  2011.000000 &         0.000000 &   935.000000 &   67.015960 &   65.773960 &   71.842241 &   67.893360 &   63.869200 &   66.358520 &   72.705919 &   67.110080 &   59.061120 &   62.703520 &   13.396880 &   12.944480 &   13.303760 &   13.022920 &   12.944480 &   13.133480 &   13.718560 &   13.701280 &   13.573880 &   13.824120 &   21.990920 &   21.516440 &   21.389080 &   21.641960 &   21.995360 &   21.619880 &   22.377600 &   22.270840 &   21.584720 &   20.678520 &   18.015961 &   17.456760 &   17.359740 &   17.647380 &   18.108700 &   17.664620 &   18.264440 &   18.180200 &   18.142499 &   17.589059 &    6.936000 &    6.362960 &    6.846480 &    6.191520 &    6.776720 &    6.903121 &    6.709519 &    6.955360 &    6.113240 &    5.898880 &   895.795201 &  136.521320 &  219.612240 &  181.062760 &   67.451440 &     89.579520 &     13.652132 &     21.961224 &      18.106276 &     6.745144 &        1.000000 &    1.392410 &    4.150000 &    0.010250 &    0.000000 &    0.000000 &    0.000000 &    0.000000 &    0.000000 &         0.000000 &    0.000000 &    0.000000 &    0.000000 &       0.000000 &    0.000000 &     0.000000 &    0.000000 &    0.000000 &        0.000000 &      0.000000 &    2.000000 \\\\\n",
      "25\\%   &  2011.000000 &         0.076375 &  1505.000000 &  114.769079 &  131.451240 &  147.126641 &  119.292160 &   97.991560 &  103.113360 &  119.576759 &  130.912640 &  136.317079 &   96.302800 &   15.803640 &   15.866160 &   15.784680 &   15.907080 &   15.710440 &   15.617960 &   15.818880 &   15.803320 &   15.789560 &   15.716040 &   25.031160 &   24.761280 &   24.340640 &   24.706080 &   24.867440 &   24.860120 &   24.944840 &   25.083320 &   24.812920 &   24.544880 &   20.438440 &   20.334180 &   20.098220 &   20.321159 &   20.356359 &   20.248800 &   20.396561 &   20.447660 &   20.222820 &   20.137320 &    9.225639 &    8.944519 &    8.548679 &    8.859480 &    8.918880 &    9.033360 &    9.146959 &    9.291960 &    9.061040 &    8.726841 &  1299.422520 &  158.045560 &  248.225439 &  203.093740 &   92.354639 &    129.942252 &     15.804556 &     24.822544 &      20.309374 &     9.235464 &        2.000000 &   13.698399 &    5.333333 &    0.026000 &    3.000000 &    0.000000 &    3.000000 &    0.000000 &    0.000000 &         7.000000 &    7.000000 &    7.000000 &    7.000000 &       6.750000 &   10.000000 &     8.000000 &    6.750000 &   10.000000 &        6.750000 &     76.500000 &    3.000000 \\\\\n",
      "50\\%   &  2016.000000 &         0.230540 &  1606.000000 &  126.870001 &  173.144881 &  204.447800 &  170.235199 &  162.281841 &  150.510720 &  154.038800 &  145.391481 &  165.824239 &  149.841920 &   16.384320 &   16.364440 &   16.399880 &   16.556040 &   16.449080 &   16.444680 &   16.548680 &   16.480160 &   16.369280 &   16.355800 &   26.064920 &   25.885320 &   25.533720 &   25.868120 &   26.119800 &   25.962560 &   26.138480 &   26.133440 &   25.907680 &   25.932760 &   21.202900 &   21.151920 &   20.913820 &   21.210100 &   21.285419 &   21.164061 &   21.314980 &   21.317101 &   21.102960 &   21.136681 &    9.708519 &    9.483002 &    9.073519 &    9.349081 &    9.557119 &    9.616079 &    9.673760 &    9.738319 &    9.618120 &    9.619280 &  1655.831287 &  164.366160 &  259.592120 &  212.067581 &   96.386158 &    165.583129 &     16.436616 &     25.959212 &      21.206758 &     9.638616 &        4.000000 &   20.380800 &    5.400000 &    0.038000 &    3.000000 &    1.000000 &    3.000000 &    0.000000 &    0.000000 &         7.500000 &    7.250000 &    7.250000 &    7.250000 &       7.000000 &   10.000000 &    10.000000 &    7.000000 &   10.000000 &        7.250000 &     80.000000 &    3.000000 \\\\\n",
      "75\\%   &  2016.000000 &         1.640000 &  1713.000000 &  153.393880 &  202.658719 &  245.427720 &  205.036319 &  195.608999 &  201.940040 &  186.451640 &  173.183879 &  240.656479 &  281.920603 &   16.960880 &   16.995880 &   16.952760 &   17.110280 &   17.035040 &   17.065720 &   17.025440 &   16.927000 &   16.855000 &   16.859800 &   26.980760 &   26.910120 &   26.592520 &   26.780600 &   26.985480 &   26.718640 &   26.927920 &   27.084200 &   26.761760 &   26.764840 &   21.943040 &   21.925320 &   21.743960 &   21.896940 &   21.951200 &   21.844339 &   21.913879 &   22.011860 &   21.811319 &   21.795580 &   10.205040 &    9.983681 &    9.633478 &    9.699760 &   10.582479 &   10.061239 &   10.138599 &   10.162079 &    9.935760 &    9.915680 &  1965.714323 &  169.721320 &  268.083280 &  218.906881 &   98.804480 &    196.571432 &     16.972132 &     26.808328 &      21.890688 &     9.880448 &        6.000000 &   26.761801 &    5.400000 &    0.042167 &    3.000000 &    3.000000 &    3.000000 &    0.000000 &    0.000000 &         7.500000 &    7.500000 &    7.500000 &    7.500000 &       7.500000 &   10.000000 &    10.000000 &    7.500000 &   10.000000 &        7.500000 &     82.500000 &    4.000000 \\\\\n",
      "max   &  2016.000000 &         9.860000 &  2001.000000 &  250.974680 &  268.124961 &  288.965762 &  288.638002 &  271.007360 &  283.171317 &  276.828958 &  271.007360 &  294.560280 &  340.853080 &   20.873320 &   21.275960 &   21.484880 &   21.589080 &   21.380200 &   21.117000 &   21.195640 &   20.742880 &   21.125360 &   20.276920 &   30.581040 &   31.669640 &   31.468480 &   32.731280 &   31.848800 &   31.283920 &   31.719200 &   33.143360 &   31.314640 &   31.866200 &   25.330140 &   26.472800 &   26.324080 &   27.160181 &   26.614500 &   26.200460 &   25.738980 &   26.714780 &   25.759580 &   26.071560 &   11.324282 &   11.365719 &   11.280881 &   11.209680 &   11.157720 &   11.280881 &   12.282200 &   12.857161 &   11.693680 &   11.589279 &  2452.146442 &  209.378520 &  315.395600 &  262.387061 &  111.861637 &    245.214644 &     20.937852 &     31.539560 &      26.238706 &    11.186164 &        8.000000 &   57.382000 &    5.950000 &    0.081000 &    3.000000 &    3.000000 &    3.000000 &    3.000000 &    3.000000 &         8.500000 &    8.500000 &    8.500000 &    8.500000 &       8.250000 &   10.000000 &    10.000000 &   10.000000 &   10.000000 &        8.500000 &     87.750000 &    4.000000 \\\\\n",
      "\\bottomrule\n",
      "\\end{tabular}\n",
      "\n"
     ]
    }
   ],
   "source": [
    "print df_num_complete.describe().to_latex()"
   ]
  },
  {
   "cell_type": "code",
   "execution_count": null,
   "metadata": {
    "collapsed": true
   },
   "outputs": [],
   "source": []
  }
 ],
 "metadata": {
  "kernelspec": {
   "display_name": "Python 2",
   "language": "python",
   "name": "python2"
  },
  "language_info": {
   "codemirror_mode": {
    "name": "ipython",
    "version": 2
   },
   "file_extension": ".py",
   "mimetype": "text/x-python",
   "name": "python",
   "nbconvert_exporter": "python",
   "pygments_lexer": "ipython2",
   "version": "2.7.13"
  }
 },
 "nbformat": 4,
 "nbformat_minor": 2
}
