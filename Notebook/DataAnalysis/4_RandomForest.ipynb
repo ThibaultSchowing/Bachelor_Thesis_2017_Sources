{
 "cells": [
  {
   "cell_type": "markdown",
   "metadata": {
    "collapsed": true
   },
   "source": [
    "    Bachelor Thesis 2017 - Coffee - Climat - Soils data analysis\n",
    "    \n",
    "    HEIG-VD - University of Applied Sciences of Western Switzerland\n",
    "    Route de Cheseaux 1, 1400 Yverdon-les-Bains, Switzerland\n",
    "    \n",
    "    International Center for Tropical Agriculture (CIAT)\n",
    "    Headquarters and Regional Office for Latin America and the Caribbean, \n",
    "    Km 17 Recta Cali-Palmira │C.P. 763537 │ A.A. 6713  Cali, Colombia\n",
    "\n",
    "    \n",
    "    Student: Thibault Schowing\n",
    "    Teacher: Carlos Andrés Peña\n",
    "    \n",
    "     \n",
    "# Random Forest effectué avec R\n",
    "\n",
    "La disponibilité d'un serveur possédant 20 coeurs et disposant de R en est la cause. "
   ]
  },
  {
   "cell_type": "code",
   "execution_count": 2,
   "metadata": {
    "collapsed": false
   },
   "outputs": [],
   "source": [
    "from sklearn.ensemble import RandomForestRegressor\n",
    "from sklearn.metrics import r2_score\n",
    "from sklearn.metrics import mean_squared_error\n",
    "import pandas as pd\n",
    "import numpy as np\n",
    "\n",
    "import matplotlib.pyplot as pl\n",
    "\n",
    "#df = pd.read_csv('./data/DataRisaralda_v2Numeric_Complete_utf-8.csv', header=0, sep=',', index_col=0, parse_dates=False, encoding='utf-8')\n",
    "#print df.shape"
   ]
  }
 ],
 "metadata": {
  "kernelspec": {
   "display_name": "Python 2",
   "language": "python",
   "name": "python2"
  },
  "language_info": {
   "codemirror_mode": {
    "name": "ipython",
    "version": 2
   },
   "file_extension": ".py",
   "mimetype": "text/x-python",
   "name": "python",
   "nbconvert_exporter": "python",
   "pygments_lexer": "ipython2",
   "version": "2.7.13"
  }
 },
 "nbformat": 4,
 "nbformat_minor": 2
}
