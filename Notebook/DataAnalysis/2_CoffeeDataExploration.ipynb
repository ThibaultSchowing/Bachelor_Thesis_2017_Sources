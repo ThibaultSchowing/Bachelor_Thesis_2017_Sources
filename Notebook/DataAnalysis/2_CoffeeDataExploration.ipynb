{
 "cells": [
  {
   "cell_type": "markdown",
   "metadata": {},
   "source": [
    "# Exploration des données concernant le café"
   ]
  },
  {
   "cell_type": "code",
   "execution_count": 1,
   "metadata": {
    "collapsed": true
   },
   "outputs": [],
   "source": [
    "import pandas as pd\n",
    "from datetime import *\n",
    "import seaborn as sns\n",
    "from matplotlib.mlab import PCA as mlabPCA\n",
    "import numpy as np\n",
    "\n",
    "from matplotlib import pyplot as plt\n",
    "from mpl_toolkits.mplot3d import Axes3D\n",
    "from mpl_toolkits.mplot3d import proj3d\n",
    "\n",
    "\n",
    "%matplotlib inline"
   ]
  },
  {
   "cell_type": "code",
   "execution_count": 2,
   "metadata": {
    "collapsed": true
   },
   "outputs": [],
   "source": [
    "# Read the CSV file (utf-8 encoded)\n",
    "df = pd.read_csv('./data/DataRisaralda_v2_utf-8.csv', header=0, sep=',', index_col=0, parse_dates=False, encoding='utf-8')"
   ]
  },
  {
   "cell_type": "markdown",
   "metadata": {},
   "source": [
    "Tableaux de colonnes, utile pour grouper"
   ]
  },
  {
   "cell_type": "code",
   "execution_count": 3,
   "metadata": {
    "collapsed": true
   },
   "outputs": [],
   "source": [
    "cols = ['Malla 17-18','Malla 14-16','Malla <13','Negros y vinagres','Broca','Broca de punto','Veteado','Mordido',\n",
    "         'Inmaduro','Flojo','Sobresecado','Arrugado','Aplastado','Cristalizado','Reposado','Granizo','Conchas',\n",
    "         'Partido','Ambar','Defectos totales','Humedad (%)','Merma (%)','Aroma-Fragancia',\n",
    "         'Acidez','Cuerpo','Sabor',\n",
    "         'Sabor residual','Dulzor','Uniformidad','Balance','Taza limpia','Puntaje catador','Puntaje Total',\n",
    "         'prec1','prec2','prec3','prec4','prec5','prec6','prec7','prec8','prec9','prec10','tmin1','tmin2','tmin3','tmin4','tmin5',\n",
    "         'tmin6','tmin7','tmin8','tmin9','tmin10','tmax1','tmax2','tmax3','tmax4','tmax5','tmax6','tmax7','tmax8','tmax9','tmax10',\n",
    "         'tmean1','tmean2','tmean3','tmean4','tmean5','tmean6','tmean7','tmean8','tmean9','tmean10','dtr1','dtr2','dtr3','dtr4',\n",
    "         'dtr5','dtr6','dtr7','dtr8','dtr9','dtr10']"
   ]
  },
  {
   "cell_type": "markdown",
   "metadata": {},
   "source": [
    "# Information sur les scores des tasses par année"
   ]
  },
  {
   "cell_type": "code",
   "execution_count": 4,
   "metadata": {
    "collapsed": false
   },
   "outputs": [
    {
     "data": {
      "text/plain": [
       "year       \n",
       "2011  count    351.000000\n",
       "      mean      65.525997\n",
       "      std       30.520292\n",
       "      min        0.000000\n",
       "      25%       75.625000\n",
       "      50%       79.000000\n",
       "      75%       82.000000\n",
       "      max       85.500000\n",
       "2016  count    412.000000\n",
       "      mean      78.928932\n",
       "      std        8.702288\n",
       "      min        0.000000\n",
       "      25%       78.000000\n",
       "      50%       81.750000\n",
       "      75%       84.000000\n",
       "      max       87.750000\n",
       "Name: Puntaje Total, dtype: float64"
      ]
     },
     "execution_count": 4,
     "metadata": {},
     "output_type": "execute_result"
    }
   ],
   "source": [
    "PuntajeTotal_groupby_year = df['Puntaje Total'].groupby(df['year'])\n",
    "\n",
    "PuntajeTotal_groupby_year.describe()"
   ]
  },
  {
   "cell_type": "markdown",
   "metadata": {},
   "source": [
    "## Répartition du total de points pour les années 2011 et 2016"
   ]
  },
  {
   "cell_type": "code",
   "execution_count": 5,
   "metadata": {
    "collapsed": false
   },
   "outputs": [
    {
     "data": {
      "text/plain": [
       "<matplotlib.axes._subplots.AxesSubplot at 0xbee97b8>"
      ]
     },
     "execution_count": 5,
     "metadata": {},
     "output_type": "execute_result"
    },
    {
     "data": {
      "image/png": "[encoded data removed]",
      "text/plain": [
       "<matplotlib.figure.Figure at 0xbee92e8>"
      ]
     },
     "metadata": {},
     "output_type": "display_data"
    }
   ],
   "source": [
    "foo = df.ix[(df['year']==2011) ]\n",
    "\n",
    "sns.kdeplot(foo['Puntaje Total'])"
   ]
  },
  {
   "cell_type": "code",
   "execution_count": null,
   "metadata": {
    "collapsed": true
   },
   "outputs": [],
   "source": [
    "foo = df.ix[(df['year']==2016) ]\n",
    "\n",
    "sns.kdeplot(foo['Puntaje Total'])"
   ]
  },
  {
   "cell_type": "markdown",
   "metadata": {},
   "source": [
    "# Analyse de l'occurence des cafés\n",
    "\n",
    "Combien de fois un café revient-il entre les années ?\n",
    "\n",
    "L'élimination des doublons s'est faite sur le numéro SICA et la date de test."
   ]
  },
  {
   "cell_type": "code",
   "execution_count": 23,
   "metadata": {
    "collapsed": false
   },
   "outputs": [
    {
     "name": "stdout",
     "output_type": "stream",
     "text": [
      "Nombre avec 3 occurences 6\n",
      "Nombre avec 2 occurences 59\n",
      "Nombre avec 1 occurences 631\n"
     ]
    }
   ],
   "source": [
    "# Certains cafés on été testés plusieurs fois, parfois même 2 fois dans la même année mais à plusieurs mois d'interval. \n",
    "\n",
    "dfOccurences = df['SICA 1'].value_counts().to_frame(name='Occurence')\n",
    "\n",
    "SICAOcc1 = []\n",
    "SICAOcc2 = []\n",
    "SICAOcc3 = []\n",
    "\n",
    "for index, row in dfOccurences.iterrows():\n",
    "    #print str(int(index)) , row.Occurence\n",
    "    if row.Occurence == 1:\n",
    "        SICAOcc1.append(index)\n",
    "    elif row.Occurence == 2: \n",
    "        SICAOcc2.append(index)\n",
    "    elif row.Occurence == 3:\n",
    "        SICAOcc3.append(index)\n",
    "print \"Nombre avec 3 occurences\" , len(SICAOcc3)\n",
    "print \"Nombre avec 2 occurences\" , len(SICAOcc2)\n",
    "print \"Nombre avec 1 occurences\" , len(SICAOcc1)\n"
   ]
  },
  {
   "cell_type": "code",
   "execution_count": null,
   "metadata": {
    "collapsed": true
   },
   "outputs": [],
   "source": []
  },
  {
   "cell_type": "code",
   "execution_count": null,
   "metadata": {
    "collapsed": true
   },
   "outputs": [],
   "source": [
    "# On enlève Mordido, conchas et ambar et les Malla -> pas présent partout\n",
    "coffee = ['Negros y vinagres','Broca','Broca de punto','Veteado',\n",
    "         'Inmaduro','Flojo','Sobresecado','Arrugado','Aplastado','Cristalizado','Reposado','Granizo',\n",
    "         'Partido','Defectos totales','Humedad (%)','Merma (%)','Aroma-Fragancia',\n",
    "         'Acidez','Cuerpo','Sabor',\n",
    "         'Sabor residual','Dulzor','Uniformidad','Balance','Taza limpia','Puntaje catador','Puntaje Total']"
   ]
  },
  {
   "cell_type": "code",
   "execution_count": null,
   "metadata": {
    "collapsed": true
   },
   "outputs": [],
   "source": [
    "# Some coffee have missing datas in the notation (points) (they are bad)\n",
    "dftmp = df[coffee].dropna(axis=1, how='any')\n",
    "\n",
    "mat = np.array(dftmp)\n",
    "\n",
    "#print numpy.isnan(mat).any()\n",
    "\n",
    "\n",
    "#print np.argwhere(np.isnan(mat))\n",
    "       \n",
    "#print mat\n",
    "\n",
    "mlab_pca = mlabPCA(mat)\n",
    "\n",
    "#print('PC axes in terms of the measurement axes scaled by the standard deviations:\\n', mlab_pca.Wt)\n",
    "\n",
    "plt.plot(mlab_pca.Y[0:488,0],mlab_pca.Y[0:488,1], 'o', markersize=7, color='blue', alpha=0.5, label=df['year'][40])\n",
    "plt.plot(mlab_pca.Y[488:1098,0], mlab_pca.Y[488:1098,1], '^', markersize=7, color='red', alpha=0.5, label=df['year'][490])\n",
    "\n",
    "plt.xlabel('x_values')\n",
    "plt.ylabel('y_values')\n",
    "plt.xlim([-4,4])\n",
    "plt.ylim([-4,4])\n",
    "plt.legend()\n",
    "plt.title('Transformed samples with class labels from matplotlib.mlab.PCA()')\n",
    "\n",
    "plt.show()"
   ]
  },
  {
   "cell_type": "code",
   "execution_count": null,
   "metadata": {
    "collapsed": true
   },
   "outputs": [],
   "source": []
  },
  {
   "cell_type": "code",
   "execution_count": null,
   "metadata": {
    "collapsed": true
   },
   "outputs": [],
   "source": [
    "df.boxplot('Puntaje Total', 'year')"
   ]
  },
  {
   "cell_type": "code",
   "execution_count": null,
   "metadata": {
    "collapsed": true
   },
   "outputs": [],
   "source": []
  },
  {
   "cell_type": "code",
   "execution_count": null,
   "metadata": {
    "collapsed": true
   },
   "outputs": [],
   "source": [
    "ax = sns.boxplot(x=\"year\", hue=\"year\", y=\"Puntaje Total\", data=df, palette=['red','blue','green'], orient='v')\n",
    "\n"
   ]
  },
  {
   "cell_type": "code",
   "execution_count": null,
   "metadata": {
    "collapsed": true
   },
   "outputs": [],
   "source": []
  },
  {
   "cell_type": "code",
   "execution_count": null,
   "metadata": {
    "collapsed": true
   },
   "outputs": [],
   "source": [
    "bx = sns.swarmplot(x=\"year\", hue=\"year\", y=\"Puntaje Total\", data=df, palette=['red','blue','green'], orient='v')\n"
   ]
  },
  {
   "cell_type": "code",
   "execution_count": null,
   "metadata": {
    "collapsed": true
   },
   "outputs": [],
   "source": []
  },
  {
   "cell_type": "code",
   "execution_count": null,
   "metadata": {
    "collapsed": true
   },
   "outputs": [],
   "source": [
    "bx = sns.swarmplot(x=\"year\", hue=\"year\", y=\"Puntaje Total\", data=df, palette=['blue','green'], orient='v')"
   ]
  },
  {
   "cell_type": "code",
   "execution_count": null,
   "metadata": {
    "collapsed": true
   },
   "outputs": [],
   "source": []
  },
  {
   "cell_type": "code",
   "execution_count": null,
   "metadata": {
    "collapsed": true
   },
   "outputs": [],
   "source": []
  },
  {
   "cell_type": "code",
   "execution_count": null,
   "metadata": {
    "collapsed": true
   },
   "outputs": [],
   "source": []
  }
 ],
 "metadata": {
  "kernelspec": {
   "display_name": "Python 2",
   "language": "python",
   "name": "python2"
  },
  "language_info": {
   "codemirror_mode": {
    "name": "ipython",
    "version": 2
   },
   "file_extension": ".py",
   "mimetype": "text/x-python",
   "name": "python",
   "nbconvert_exporter": "python",
   "pygments_lexer": "ipython2",
   "version": "2.7.13"
  }
 },
 "nbformat": 4,
 "nbformat_minor": 2
}
