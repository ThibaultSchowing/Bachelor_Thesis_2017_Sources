{
 "cells": [
  {
   "cell_type": "code",
   "execution_count": null,
   "metadata": {
    "collapsed": false
   },
   "outputs": [],
   "source": []
  },
  {
   "cell_type": "code",
   "execution_count": 1,
   "metadata": {
    "collapsed": false
   },
   "outputs": [
    {
     "name": "stdout",
     "output_type": "stream",
     "text": [
      "Loading data for 2011\n",
      "Done !\n",
      "Loading data for 2012\n",
      "Done !\n"
     ]
    }
   ],
   "source": [
    "import Averages as avgs\n",
    "import Soils as ss\n",
    "import numpy as np\n",
    "import Coffee\n",
    "\n",
    "\n",
    "sols = ss.Soils()\n",
    "\n",
    "# Create the Climatic Wrapper with the usefull years\n",
    "wrapper = avgs.ClimaticDataWraper([\"2011\",\"2012\"])#,\"2013\",\"2014\",\"2015\",\"2016\"])\n",
    "\n",
    "# Create the coffee dataset with coffee and climatic datas\n",
    "cc = Coffee.CoffeeCups(wrapper)\n",
    "\n",
    "testCup = Coffee.CoffeeCup('1701',cc)\n",
    "\n"
   ]
  },
  {
   "cell_type": "code",
   "execution_count": 2,
   "metadata": {
    "collapsed": false
   },
   "outputs": [
    {
     "name": "stdout",
     "output_type": "stream",
     "text": [
      "['10.05.2016', 'ALEJANDRO BEDOYA-INNPULSA', 'EDIER RAMOS MARTINEZ', '9 958 701', '6668700680', 'LA ESPERANZA', 'LA LINDA ']\n",
      "[['HERBAL', 'CEREAL'], ['VEGETAL'], ['PAJA'], ['SECO'], ['D\\xc3\\x89BIL'], ['DESEQUILIBRADO'], ['AMARGO'], ['LIMPIA'], ['CONSISTENTE']]\n",
      "[5.0, 6.25, 6.0, 6.0, 6.0, 5.0, 10.0, 10.0, 10.0, 6.0, 70.25]\n",
      "['Fragrance-Aroma', 'Savor', 'Savor residual', 'Body', 'Acidity', 'Balance', 'Sweetness', 'Clean-cup', 'Uniformity', 'Taster points', 'Total']\n",
      "['Fragrance-Aroma Nota', 'Savor Nota', 'Savor residual Nota', 'Body Nota', 'Acidity Nota', 'Balance Nota', 'Sweetness Nota', 'Clean-cup Nota', 'Uniformity Nota']\n",
      "2\n",
      "['Code', 'Date', 'Taster', 'Productor Name', 'ID number', 'SICA', 'Property', 'Vereda', 'tmean2011.1', 'tmean2011.2', 'tmean2011.3', 'tmean2011.4', 'tmean2011.5', 'tmean2011.6', 'tmean2011.7', 'tmean2011.8', 'tmean2011.9', 'tmean2011.10', 'tmean2011.11', 'tmean2011.12', 'tmean2012.1', 'tmean2012.2', 'tmean2012.3', 'tmean2012.4', 'tmean2012.5', 'tmean2012.6', 'tmean2012.7', 'tmean2012.8', 'tmean2012.9', 'tmean2012.10', 'tmean2012.11', 'tmean2012.12', 'tmax2011.1', 'tmax2011.2', 'tmax2011.3', 'tmax2011.4', 'tmax2011.5', 'tmax2011.6', 'tmax2011.7', 'tmax2011.8', 'tmax2011.9', 'tmax2011.10', 'tmax2011.11', 'tmax2011.12', 'tmax2012.1', 'tmax2012.2', 'tmax2012.3', 'tmax2012.4', 'tmax2012.5', 'tmax2012.6', 'tmax2012.7', 'tmax2012.8', 'tmax2012.9', 'tmax2012.10', 'tmax2012.11', 'tmax2012.12', 'tmin2011.1', 'tmin2011.2', 'tmin2011.3', 'tmin2011.4', 'tmin2011.5', 'tmin2011.6', 'tmin2011.7', 'tmin2011.8', 'tmin2011.9', 'tmin2011.10', 'tmin2011.11', 'tmin2011.12', 'tmin2012.1', 'tmin2012.2', 'tmin2012.3', 'tmin2012.4', 'tmin2012.5', 'tmin2012.6', 'tmin2012.7', 'tmin2012.8', 'tmin2012.9', 'tmin2012.10', 'tmin2012.11', 'tmin2012.12', 'dtr2011.1', 'dtr2011.2', 'dtr2011.3', 'dtr2011.4', 'dtr2011.5', 'dtr2011.6', 'dtr2011.7', 'dtr2011.8', 'dtr2011.9', 'dtr2011.10', 'dtr2011.11', 'dtr2011.12', 'dtr2012.1', 'dtr2012.2', 'dtr2012.3', 'dtr2012.4', 'dtr2012.5', 'dtr2012.6', 'dtr2012.7', 'dtr2012.8', 'dtr2012.9', 'dtr2012.10', 'dtr2012.11', 'dtr2012.12', 'prec2011.1', 'prec2011.2', 'prec2011.3', 'prec2011.4', 'prec2011.5', 'prec2011.6', 'prec2011.7', 'prec2011.8', 'prec2011.9', 'prec2011.10', 'prec2011.11', 'prec2011.12', 'prec2012.1', 'prec2012.2', 'prec2012.3', 'prec2012.4', 'prec2012.5', 'prec2012.6', 'prec2012.7', 'prec2012.8', 'prec2012.9', 'prec2012.10', 'prec2012.11', 'prec2012.12']\n"
     ]
    }
   ],
   "source": [
    "#attrs = vars(testCup)\n",
    "#print ', '.join(\"%s: %s\" % item for item in attrs.items())\n",
    "print testCup.info\n",
    "print testCup.taste\n",
    "print testCup.points\n",
    "print testCup.infoTastePoints\n",
    "print testCup.infoTasteNotas\n",
    "print testCup.nbYears\n",
    "print testCup.rawTitle"
   ]
  }
 ],
 "metadata": {
  "kernelspec": {
   "display_name": "Python 2",
   "language": "python",
   "name": "python2"
  },
  "language_info": {
   "codemirror_mode": {
    "name": "ipython",
    "version": 2
   },
   "file_extension": ".py",
   "mimetype": "text/x-python",
   "name": "python",
   "nbconvert_exporter": "python",
   "pygments_lexer": "ipython2",
   "version": "2.7.13"
  }
 },
 "nbformat": 4,
 "nbformat_minor": 2
}
